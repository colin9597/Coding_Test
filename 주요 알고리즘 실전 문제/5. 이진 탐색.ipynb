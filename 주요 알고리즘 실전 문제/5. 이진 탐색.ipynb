{
 "cells": [
  {
   "cell_type": "markdown",
   "id": "d4d35e1d",
   "metadata": {},
   "source": [
    "# 1. 순차 탐색"
   ]
  },
  {
   "cell_type": "code",
   "execution_count": 1,
   "id": "31e18476",
   "metadata": {},
   "outputs": [
    {
     "name": "stdout",
     "output_type": "stream",
     "text": [
      "생성할 원소 개수를 입력한 다음 한 칸 띄고 찾을 문자열을 입력하세요.\n",
      "5 Dongbin\n",
      "앞서 적은 원소 개수만큼 문자열을 입력하세요. 구분은 띄어쓰기 한 칸으로 합니다.\n",
      "Hanul Jonggu Dongbin Taeil Sangwook\n",
      "3\n"
     ]
    }
   ],
   "source": [
    "# 순차 탐색 소스코드 구현\n",
    "def sequential_search(n, target, array):\n",
    "    # 각 원소를 하나씩 확인하며\n",
    "    for i in range(n):\n",
    "        # 현재의 원소가 찾고자 하는 원소와 동일한 경우\n",
    "        if array[i] == target:\n",
    "            return i + 1  # 현재의 위치 반환(인덱스는 0부터 시작하므로 1 더하기)\n",
    "        \n",
    "print(\"생성할 원소 개수를 입력한 다음 한 칸 띄고 찾을 문자열을 입력하세요.\")\n",
    "input_data = input().split()\n",
    "n = int(input_data[0])  # 원소의 개수\n",
    "target = input_data[1]  # 찾고자 하는 문자열\n",
    "\n",
    "print(\"앞서 적은 원소 개수만큼 문자열을 입력하세요. 구분은 띄어쓰기 한 칸으로 합니다.\")\n",
    "array = input().split()\n",
    "\n",
    "# 순차 탐색 수행 결과 출력\n",
    "print(sequential_search(n, target, array))"
   ]
  },
  {
   "cell_type": "markdown",
   "id": "b5c11f01",
   "metadata": {},
   "source": [
    "# 2. 이진 탐색"
   ]
  },
  {
   "cell_type": "markdown",
   "id": "e22816e8",
   "metadata": {},
   "source": [
    "- 재귀함수로 구현한 이진 탐색"
   ]
  },
  {
   "cell_type": "code",
   "execution_count": 2,
   "id": "79df736c",
   "metadata": {},
   "outputs": [
    {
     "name": "stdout",
     "output_type": "stream",
     "text": [
      "10 7\n",
      "1 3 5 7 9 11 13 15 17 19\n",
      "4\n"
     ]
    }
   ],
   "source": [
    "# 이진 탐색 소스코드 구현(재귀 함수)\n",
    "def binary_search(array, target, start, end):\n",
    "    if start > end:\n",
    "        return None\n",
    "    mid = (start + end) // 2\n",
    "    # 찾은 경우 중간점 인덱스 반환\n",
    "    if array[mid] == target:\n",
    "        return mid\n",
    "    # 중간점의 값보다 찾고자 하는 값이 작은 경우 왼쪽 확인\n",
    "    elif array[mid] > target:\n",
    "        return binary_search(array, target, start, mid - 1)\n",
    "    # 중간점의 값보다 찾고자 하는 값이 큰 경우 오른쪽 확인\n",
    "    else:\n",
    "        return binary_search(array, target, mid + 1, end)\n",
    "    \n",
    "# n(원소의 개수)과 target(찾고자 하는 문자열)을 입력받기\n",
    "n, target = list(map(int, input().split()))\n",
    "# 전체 원소 입력받기\n",
    "array = list(map(int, input().split()))\n",
    "\n",
    "# 이진 탐색 수행 결과 출력\n",
    "result = binary_search(array, target, 0, n - 1)\n",
    "if result == None:\n",
    "    print(\"원소가 존재하지 않습니다.\")\n",
    "else:\n",
    "    print(result + 1)"
   ]
  },
  {
   "cell_type": "markdown",
   "id": "aa401b8e",
   "metadata": {},
   "source": [
    "- 반복문으로 구현한 이진 탐색"
   ]
  },
  {
   "cell_type": "code",
   "execution_count": 3,
   "id": "4163f6b4",
   "metadata": {
    "scrolled": true
   },
   "outputs": [
    {
     "name": "stdout",
     "output_type": "stream",
     "text": [
      "10 7\n",
      "1 3 5 6 9 11 13 15 17 19\n",
      "원소가 존재하지 않습니다.\n"
     ]
    }
   ],
   "source": [
    "# 이진 탐색 소스코드 구현(반복문)\n",
    "def binary_search(array, target, start, end):\n",
    "    while start <= end:\n",
    "        mid = (start + end) // 2\n",
    "        # 찾은 경우 중간점 인덱스 반환\n",
    "        if array[mid] == target:\n",
    "            return mid\n",
    "        # 중간점의 값보다 찾고자 하는 값이 작은 경우 왼쪽 확인\n",
    "        elif array[mid] > target:\n",
    "            end = mid - 1\n",
    "        # 중간점의 값보다 찾고자 하는 값이 큰 경우 오른쪽 확인\n",
    "        else:\n",
    "            start = mid + 1\n",
    "    return None\n",
    "\n",
    "# n(원소의 개수)과 target(찾ㄱ고자 하는 문자열)을 입력받기\n",
    "n, target = list(map(int, input().split()))\n",
    "# 전체 원소 입력받기\n",
    "array = list(map(int, input().split()))\n",
    "\n",
    "# 이진 탐색 수행 결과 출력\n",
    "result = binary_search(array, target, 0, n - 1)\n",
    "if result == None:\n",
    "    print(\"원소가 존재하지 않습니다.\")\n",
    "else:\n",
    "    print(result + 1)"
   ]
  },
  {
   "cell_type": "markdown",
   "id": "6004602a",
   "metadata": {},
   "source": [
    "# 3. 부품 찾기"
   ]
  },
  {
   "cell_type": "markdown",
   "id": "06112481",
   "metadata": {},
   "source": [
    "- 이진 탐색"
   ]
  },
  {
   "cell_type": "code",
   "execution_count": 4,
   "id": "60c5ad1c",
   "metadata": {},
   "outputs": [
    {
     "name": "stdout",
     "output_type": "stream",
     "text": [
      "5\n",
      "8 3 7 9 2\n",
      "3\n",
      "5 7 9\n",
      "no yes yes "
     ]
    }
   ],
   "source": [
    "def binary_search(array, target, start, end):\n",
    "    if start > end:\n",
    "        return None\n",
    "    \n",
    "    mid = (start + end) // 2\n",
    "    if array[mid] == target:\n",
    "        return mid\n",
    "    elif array[mid] > target:\n",
    "        return binary_search(array, target, start, mid - 1)\n",
    "    else:\n",
    "        return binary_search(array, target, mid + 1, end)\n",
    "    \n",
    "N = int(input())\n",
    "stock = list(map(int, input().split()))\n",
    "stock.sort()\n",
    "\n",
    "M = int(input())\n",
    "order = list(map(int, input().split()))\n",
    "\n",
    "for i in order:\n",
    "    result = binary_search(stock, i, 0, len(stock) - 1)\n",
    "    if result != None:\n",
    "        print(\"yes\", end=' ')\n",
    "    else:\n",
    "        print(\"no\", end=' ')"
   ]
  },
  {
   "cell_type": "markdown",
   "id": "56dba268",
   "metadata": {},
   "source": [
    "- 계수 정렬"
   ]
  },
  {
   "cell_type": "code",
   "execution_count": 5,
   "id": "20130f30",
   "metadata": {},
   "outputs": [
    {
     "name": "stdout",
     "output_type": "stream",
     "text": [
      "5\n",
      "8 3 7 9 2\n",
      "3\n",
      "5 7 9\n",
      "no yes yes "
     ]
    }
   ],
   "source": [
    "N = int(input())\n",
    "stock = [0] * 1000001\n",
    "for i in list(map(int, input().split())):\n",
    "    stock[i] = 1\n",
    "\n",
    "M = int(input())\n",
    "order = list(map(int, input().split()))\n",
    "\n",
    "for j in order:\n",
    "    if stock[j] == 1:\n",
    "        print('yes', end=' ')\n",
    "    else:\n",
    "        print('no', end=' ')\n"
   ]
  },
  {
   "cell_type": "markdown",
   "id": "741f5562",
   "metadata": {},
   "source": [
    "- 집합 자료형"
   ]
  },
  {
   "cell_type": "code",
   "execution_count": 6,
   "id": "4de8c757",
   "metadata": {},
   "outputs": [
    {
     "name": "stdout",
     "output_type": "stream",
     "text": [
      "5\n",
      "8 3 7 9 2\n",
      "3\n",
      "5 7 9\n",
      "no yes yes "
     ]
    }
   ],
   "source": [
    "N = int(input())\n",
    "stock = list(map(int, input().split()))\n",
    "\n",
    "M = int(input())\n",
    "order = list(map(int, input().split()))\n",
    "\n",
    "for i in order:\n",
    "    if i in stock:\n",
    "        print('yes', end=' ')\n",
    "    else:\n",
    "        print('no', end=' ')"
   ]
  },
  {
   "cell_type": "markdown",
   "id": "a0e1a243",
   "metadata": {},
   "source": [
    "# 4. 떡볶이 떡 만들기"
   ]
  },
  {
   "cell_type": "code",
   "execution_count": 7,
   "id": "91aaa301",
   "metadata": {},
   "outputs": [
    {
     "name": "stdout",
     "output_type": "stream",
     "text": [
      "4 6\n",
      "19 15 10 17\n",
      "15\n"
     ]
    }
   ],
   "source": [
    "N, M = map(int, input().split())\n",
    "array = list(map(int, input().split()))\n",
    "\n",
    "start = 0\n",
    "end = max(array) - 1\n",
    "\n",
    "while start <= end:\n",
    "    mid = (start + end) // 2\n",
    "    \n",
    "    total = 0    \n",
    "    for i in array:\n",
    "        if i > mid:\n",
    "            total += (i - mid)\n",
    "    if total >= M:\n",
    "        result = mid\n",
    "        start = mid + 1\n",
    "    else:\n",
    "        end = mid - 1\n",
    "\n",
    "print(result)"
   ]
  }
 ],
 "metadata": {
  "kernelspec": {
   "display_name": "DH",
   "language": "python",
   "name": "dh"
  },
  "language_info": {
   "codemirror_mode": {
    "name": "ipython",
    "version": 3
   },
   "file_extension": ".py",
   "mimetype": "text/x-python",
   "name": "python",
   "nbconvert_exporter": "python",
   "pygments_lexer": "ipython3",
   "version": "3.8.8"
  }
 },
 "nbformat": 4,
 "nbformat_minor": 5
}
