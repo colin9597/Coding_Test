{
 "cells": [
  {
   "cell_type": "markdown",
   "id": "9b1d9129",
   "metadata": {},
   "source": [
    "# 1. 피보나치"
   ]
  },
  {
   "cell_type": "markdown",
   "id": "db2286de",
   "metadata": {},
   "source": [
    "- 피보나치 함수(재귀) - 기본"
   ]
  },
  {
   "cell_type": "code",
   "execution_count": 1,
   "id": "312320fa",
   "metadata": {},
   "outputs": [
    {
     "name": "stdout",
     "output_type": "stream",
     "text": [
      "8\n"
     ]
    }
   ],
   "source": [
    "# 피보나치 함수(Fibonacci Function)를 재귀 함수로 구현\n",
    "def fibo(x):\n",
    "    if x == 1 or x == 2:\n",
    "        return 1\n",
    "    return fibo(x-1) + fibo(x-2)\n",
    "\n",
    "print(fibo(6))"
   ]
  },
  {
   "cell_type": "markdown",
   "id": "7e3c5734",
   "metadata": {},
   "source": [
    "- 피보나치 함수(재귀) - 메모이제이션"
   ]
  },
  {
   "cell_type": "code",
   "execution_count": 2,
   "id": "83226a9f",
   "metadata": {},
   "outputs": [
    {
     "name": "stdout",
     "output_type": "stream",
     "text": [
      "218922995834555169026\n"
     ]
    }
   ],
   "source": [
    "# 한 번 계산된 결과를 메모이제이션(Memoization)하기 위한 리스트 초기화\n",
    "d = [0] * 100\n",
    "\n",
    "# 피보나치 함수(Fibonacci Function)를 재귀함수로 구현(탑다운 다이나믹 프로그래밍)\n",
    "def fibo(x):\n",
    "    # 종료 조건(1 혹은 2일 때 1을 반환)\n",
    "    if x == 1 or x == 2:\n",
    "        return 1\n",
    "    # 이미 계산한 적 있는 문제라면 그대로 반환\n",
    "    if d[x] != 0:\n",
    "        return d[x]\n",
    "    # 아직 계산하지 않은 문제라면 점화식에 따라서 피보나치 결과 반환\n",
    "    d[x] = fibo(x-1) + fibo(x-2)\n",
    "    return d[x]\n",
    "\n",
    "print(fibo(99))"
   ]
  },
  {
   "cell_type": "markdown",
   "id": "c9af1bf6",
   "metadata": {},
   "source": [
    "- 호출되는 함수 확인"
   ]
  },
  {
   "cell_type": "code",
   "execution_count": 3,
   "id": "37b8fe56",
   "metadata": {},
   "outputs": [
    {
     "name": "stdout",
     "output_type": "stream",
     "text": [
      "f(6) f(5) f(4) f(3) f(2) f(1) f(2) f(3) f(4) "
     ]
    },
    {
     "data": {
      "text/plain": [
       "8"
      ]
     },
     "execution_count": 3,
     "metadata": {},
     "output_type": "execute_result"
    }
   ],
   "source": [
    "d = [0] * 100\n",
    "\n",
    "# 피보나치 함수(Fibonacci Function)를 재귀함수로 구현(탑다운 다이나믹 프로그래밍)\n",
    "def pibo(x):\n",
    "    print('f('+str(x)+')', end=' ')\n",
    "    if x == 1 or x == 2:\n",
    "        return 1\n",
    "    if d[x] != 0:\n",
    "        return d[x]\n",
    "    d[x] = pibo(x-1) + pibo(x-2)\n",
    "    return d[x]\n",
    "\n",
    "pibo(6)"
   ]
  },
  {
   "cell_type": "markdown",
   "id": "e7d74685",
   "metadata": {},
   "source": [
    "- 피보나치 함수(반복)"
   ]
  },
  {
   "cell_type": "code",
   "execution_count": 4,
   "id": "2f467ce7",
   "metadata": {},
   "outputs": [
    {
     "name": "stdout",
     "output_type": "stream",
     "text": [
      "218922995834555169026\n"
     ]
    }
   ],
   "source": [
    "# 앞서 계산된 결과를 저장하기 위한 DP 테이블 초기화\n",
    "d = [0] * 100\n",
    "\n",
    "# 첫 번째 피보나치 수와 두 번째 피보나치 수는 1\n",
    "d[1] = 1\n",
    "d[2] = 1\n",
    "n= 99\n",
    "\n",
    "# 피보나치 함수(Fibonacci Function) 반복문으로 구현(보텀업 다이나믹 프로그래밍)\n",
    "for i in range(3, n+1):\n",
    "    d[i] = d[i-1] + d[i-2]\n",
    "\n",
    "print(d[n])"
   ]
  },
  {
   "cell_type": "markdown",
   "id": "531ffb9c",
   "metadata": {},
   "source": [
    "# 2. 1로 만들기"
   ]
  },
  {
   "cell_type": "code",
   "execution_count": 5,
   "id": "34756c78",
   "metadata": {},
   "outputs": [
    {
     "name": "stdout",
     "output_type": "stream",
     "text": [
      "26\n",
      "3\n"
     ]
    }
   ],
   "source": [
    "X = int(input())\n",
    "\n",
    "d = [0] * 30001\n",
    "\n",
    "for i in range(2, X+1):\n",
    "    d[i] = d[i-1] + 1\n",
    "    \n",
    "    if i % 2 == 0:\n",
    "        d[i] = min(d[i], d[i//2] + 1)\n",
    "    if i % 3 == 0:\n",
    "        d[i] = min(d[i], d[i//3] + 1)\n",
    "    if i % 5 == 0:\n",
    "        d[i] = min(d[i], d[i//5] + 1)\n",
    "\n",
    "print(d[X])"
   ]
  },
  {
   "cell_type": "markdown",
   "id": "f6242c7a",
   "metadata": {},
   "source": [
    "# 3. 개미 전사"
   ]
  },
  {
   "cell_type": "code",
   "execution_count": 6,
   "id": "44b527b5",
   "metadata": {},
   "outputs": [
    {
     "name": "stdout",
     "output_type": "stream",
     "text": [
      "4\n",
      "1 3 1 5\n",
      "8\n"
     ]
    }
   ],
   "source": [
    "N = int(input())\n",
    "storage = list(map(int, input().split()))\n",
    "\n",
    "d = [0] * 100\n",
    "\n",
    "d[0] = storage[0]\n",
    "d[1] = storage[1]\n",
    "d[2] = d[0] + storage[2]\n",
    "\n",
    "for i in range(3, N):\n",
    "    d[i] = max(d[i-1], d[i-2] + storage[i])\n",
    "\n",
    "print(d[N-1])"
   ]
  },
  {
   "cell_type": "markdown",
   "id": "8e2027c5",
   "metadata": {},
   "source": [
    "# 4. 바닥 공사"
   ]
  },
  {
   "cell_type": "code",
   "execution_count": 7,
   "id": "ac131969",
   "metadata": {},
   "outputs": [
    {
     "name": "stdout",
     "output_type": "stream",
     "text": [
      "3\n",
      "5\n"
     ]
    }
   ],
   "source": [
    "N = int(input())\n",
    "\n",
    "d = [0] * 1001\n",
    "\n",
    "d[1] = 1\n",
    "d[2] = 3\n",
    "\n",
    "for i in range(3, N+1):\n",
    "    #d[i] = d[i-2] * 3 + 2\n",
    "    d[i] = (d[i-1] + 2 * d[i-2]) % 796796\n",
    "    \n",
    "print(d[N])"
   ]
  },
  {
   "cell_type": "markdown",
   "id": "c8205793",
   "metadata": {},
   "source": [
    "# 5. 효율적인 화폐 구성"
   ]
  },
  {
   "cell_type": "code",
   "execution_count": 8,
   "id": "3a884779",
   "metadata": {},
   "outputs": [
    {
     "name": "stdout",
     "output_type": "stream",
     "text": [
      "2 15\n",
      "2\n",
      "3\n",
      "5\n"
     ]
    }
   ],
   "source": [
    "N, M = map(int, input().split())\n",
    "\n",
    "d = [-1] * 10001\n",
    "\n",
    "money = []\n",
    "for i in range(N):\n",
    "    money.append(int(input()))\n",
    "    d[money[i]] = 1\n",
    "\n",
    "m = min(money)\n",
    "\n",
    "\n",
    "for j in range(m, M+1):\n",
    "    for k in money:\n",
    "        if d[j-k] != -1:\n",
    "            d[j] = d[j-k] + 1\n",
    "\n",
    "print(d[M])"
   ]
  }
 ],
 "metadata": {
  "kernelspec": {
   "display_name": "DH",
   "language": "python",
   "name": "dh"
  },
  "language_info": {
   "codemirror_mode": {
    "name": "ipython",
    "version": 3
   },
   "file_extension": ".py",
   "mimetype": "text/x-python",
   "name": "python",
   "nbconvert_exporter": "python",
   "pygments_lexer": "ipython3",
   "version": "3.8.8"
  }
 },
 "nbformat": 4,
 "nbformat_minor": 5
}
