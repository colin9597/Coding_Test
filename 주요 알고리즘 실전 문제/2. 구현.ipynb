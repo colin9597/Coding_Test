{
 "cells": [
  {
   "cell_type": "markdown",
   "id": "37b76ac3",
   "metadata": {},
   "source": [
    "# 1. 상하좌우"
   ]
  },
  {
   "cell_type": "code",
   "execution_count": 1,
   "id": "92c6f0bd",
   "metadata": {},
   "outputs": [
    {
     "name": "stdout",
     "output_type": "stream",
     "text": [
      "5\n",
      "R R R U D D\n",
      "3 4\n"
     ]
    }
   ],
   "source": [
    "N = int(input())\n",
    "direction = input().split()\n",
    "start = [1, 1]\n",
    "\n",
    "for d in direction:\n",
    "    if d == 'L' and start[1] != 1:\n",
    "        start[1] -= 1\n",
    "    elif d == 'R' and start[1] != N:\n",
    "        start[1] += 1\n",
    "    elif d == 'U' and start[0] != 1:\n",
    "        start[0] -= 1\n",
    "    elif d == 'D' and start[0] != N:\n",
    "        start[0] += 1\n",
    "        \n",
    "print(start[0], start[1])"
   ]
  },
  {
   "cell_type": "markdown",
   "id": "e09029af",
   "metadata": {},
   "source": [
    "# 2. 시각"
   ]
  },
  {
   "cell_type": "code",
   "execution_count": 2,
   "id": "c2b51519",
   "metadata": {},
   "outputs": [
    {
     "name": "stdout",
     "output_type": "stream",
     "text": [
      "5\n"
     ]
    },
    {
     "data": {
      "text/plain": [
       "11475"
      ]
     },
     "execution_count": 2,
     "metadata": {},
     "output_type": "execute_result"
    }
   ],
   "source": [
    "N = int(input())\n",
    "\n",
    "result = 0\n",
    "\n",
    "if N>=23:\n",
    "    result = 3*3600 + (N-2)*1575\n",
    "elif N >= 13:\n",
    "    result = 2*3600 + (N-1)*1575\n",
    "elif N >= 3:\n",
    "    result = 1*3600 + N*1575\n",
    "else:\n",
    "    result = (N+1)*1575\n",
    "\n",
    "result"
   ]
  },
  {
   "cell_type": "markdown",
   "id": "17e74f9e",
   "metadata": {},
   "source": [
    "# 3. 왕실의 나이트"
   ]
  },
  {
   "cell_type": "code",
   "execution_count": 3,
   "id": "68903215",
   "metadata": {},
   "outputs": [
    {
     "name": "stdout",
     "output_type": "stream",
     "text": [
      "c2\n"
     ]
    },
    {
     "data": {
      "text/plain": [
       "6"
      ]
     },
     "execution_count": 3,
     "metadata": {},
     "output_type": "execute_result"
    }
   ],
   "source": [
    "location = input()\n",
    "alpha_columns = ['a', 'b', 'c', 'd', 'e', 'f', 'g', 'h']\n",
    "\n",
    "col = alpha_columns.index(location[0]) + 1\n",
    "row = int(location[1])\n",
    "\n",
    "cnt = 0\n",
    "\n",
    "step = [2, 2, -2, -2, 1, -1, 1, -1]\n",
    "\n",
    "for i in range(8):\n",
    "    if (col+step[i])>0 and (col+step[i])<9 and (row+step[7-i])>0 and (row+step[7-i])<9:\n",
    "        cnt += 1\n",
    "        \n",
    "cnt"
   ]
  },
  {
   "cell_type": "markdown",
   "id": "c752a254",
   "metadata": {},
   "source": [
    "# 4. 게임 개발"
   ]
  },
  {
   "cell_type": "code",
   "execution_count": 4,
   "id": "5fed3ea9",
   "metadata": {},
   "outputs": [
    {
     "name": "stdout",
     "output_type": "stream",
     "text": [
      "4 4\n",
      "1 1 0\n",
      "1 1 1 1\n",
      "1 0 0 1\n",
      "1 1 0 1\n",
      "1 1 1 1\n"
     ]
    },
    {
     "data": {
      "text/plain": [
       "3"
      ]
     },
     "execution_count": 4,
     "metadata": {},
     "output_type": "execute_result"
    }
   ],
   "source": [
    "N, M = map(int, input().split())\n",
    "x, y, direct = map(int, input().split())\n",
    "\n",
    "matrix = []\n",
    "for i in range(N):\n",
    "    row = list(map(int, input().split()))\n",
    "    matrix.append(row)\n",
    "\n",
    "dxdy = [-1, 1, 1, -1]\n",
    "    \n",
    "cnt = 1\n",
    "keep = 0\n",
    "matrix[x][y] = 1\n",
    "while True:\n",
    "    x_, y_ = x, y\n",
    "    if direct%2 == 0:\n",
    "        y_ += dxdy[direct]\n",
    "    elif direct%2 == 1:\n",
    "        x_ += dxdy[direct]\n",
    "    direct=(direct-1)%4\n",
    "    keep += 1\n",
    "    \n",
    "    if matrix[x_][y_] == 0:\n",
    "        matrix[x_][y_] = 1\n",
    "        x, y = x_, y_\n",
    "        cnt += 1\n",
    "        keep = 0\n",
    "    \n",
    "    if keep == 4:\n",
    "        break\n",
    "\n",
    "cnt\n",
    "        "
   ]
  }
 ],
 "metadata": {
  "kernelspec": {
   "display_name": "DH",
   "language": "python",
   "name": "dh"
  },
  "language_info": {
   "codemirror_mode": {
    "name": "ipython",
    "version": 3
   },
   "file_extension": ".py",
   "mimetype": "text/x-python",
   "name": "python",
   "nbconvert_exporter": "python",
   "pygments_lexer": "ipython3",
   "version": "3.8.8"
  }
 },
 "nbformat": 4,
 "nbformat_minor": 5
}
