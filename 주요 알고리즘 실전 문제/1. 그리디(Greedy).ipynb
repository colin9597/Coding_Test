{
 "cells": [
  {
   "cell_type": "markdown",
   "metadata": {},
   "source": [
    "# 1. 거스름돈"
   ]
  },
  {
   "cell_type": "code",
   "execution_count": 1,
   "metadata": {},
   "outputs": [
    {
     "name": "stdout",
     "output_type": "stream",
     "text": [
      "거슬러줘야 할 돈 : 1260\n",
      "거슬러줘야 할 동전의 최소 개수 : 6\n"
     ]
    }
   ],
   "source": [
    "N = int(input(\"거슬러줘야 할 돈 : \"))\n",
    "\n",
    "coin = [500, 100, 50, 10]\n",
    "count = 0\n",
    "for i in coin:\n",
    "    count += N//i\n",
    "    N -= (N//i)*i  # N %= i\n",
    "\n",
    "print(\"거슬러줘야 할 동전의 최소 개수 :\", count)"
   ]
  },
  {
   "cell_type": "markdown",
   "metadata": {},
   "source": [
    "# 2. 큰 수의 법칙"
   ]
  },
  {
   "cell_type": "code",
   "execution_count": 2,
   "metadata": {},
   "outputs": [
    {
     "name": "stdout",
     "output_type": "stream",
     "text": [
      "5 8 3\n",
      "2 4 5 4 6\n"
     ]
    },
    {
     "data": {
      "text/plain": [
       "46"
      ]
     },
     "execution_count": 2,
     "metadata": {},
     "output_type": "execute_result"
    }
   ],
   "source": [
    "N, M, K = map(int, input().split())\n",
    "\n",
    "list_ = list(map(int, input().split()))\n",
    "result = 0\n",
    "\n",
    "max_num = max(list_)\n",
    "list_.remove(max_num)\n",
    "max_num2 = max(list_)\n",
    "\n",
    "Q = M // (K+1)\n",
    "r = M % (K+1)\n",
    "\n",
    "result = Q*(max_num*K + max_num2) + r*max_num2\n",
    "result"
   ]
  },
  {
   "cell_type": "markdown",
   "metadata": {},
   "source": [
    "# 3. 숫자 카드 게임"
   ]
  },
  {
   "cell_type": "code",
   "execution_count": 3,
   "metadata": {},
   "outputs": [
    {
     "name": "stdout",
     "output_type": "stream",
     "text": [
      "2 4\n",
      "7 3 1 8\n",
      "3 3 3 4\n"
     ]
    },
    {
     "data": {
      "text/plain": [
       "3"
      ]
     },
     "execution_count": 3,
     "metadata": {},
     "output_type": "execute_result"
    }
   ],
   "source": [
    "N, M = map(int, input().split())\n",
    "\n",
    "result = []\n",
    "for i in range(N):\n",
    "    row = list(map(int, input().split()))\n",
    "    result.append(min(row))\n",
    "\n",
    "max(result)\n"
   ]
  },
  {
   "cell_type": "markdown",
   "metadata": {},
   "source": [
    "# 4. 1이 될 때까지"
   ]
  },
  {
   "cell_type": "code",
   "execution_count": 4,
   "metadata": {},
   "outputs": [
    {
     "name": "stdout",
     "output_type": "stream",
     "text": [
      "25 5\n"
     ]
    },
    {
     "data": {
      "text/plain": [
       "2"
      ]
     },
     "execution_count": 4,
     "metadata": {},
     "output_type": "execute_result"
    }
   ],
   "source": [
    "N, K = map(int, input().split())\n",
    "\n",
    "cnt = 0\n",
    "while True:\n",
    "    if N % K == 0:\n",
    "        N /= K\n",
    "    else :\n",
    "        N -= 1\n",
    "    cnt += 1\n",
    "    \n",
    "    if N == 1:\n",
    "        break\n",
    "\n",
    "cnt"
   ]
  }
 ],
 "metadata": {
  "kernelspec": {
   "display_name": "DH",
   "language": "python",
   "name": "dh"
  },
  "language_info": {
   "codemirror_mode": {
    "name": "ipython",
    "version": 3
   },
   "file_extension": ".py",
   "mimetype": "text/x-python",
   "name": "python",
   "nbconvert_exporter": "python",
   "pygments_lexer": "ipython3",
   "version": "3.8.8"
  }
 },
 "nbformat": 4,
 "nbformat_minor": 4
}
