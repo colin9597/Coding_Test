{
 "cells": [
  {
   "cell_type": "markdown",
   "id": "5c46c083",
   "metadata": {},
   "source": [
    "# 1. 다익스트라 알고리즘"
   ]
  },
  {
   "cell_type": "markdown",
   "id": "8c72643e",
   "metadata": {},
   "source": [
    "- 간단한 다익스트라 알고리즘"
   ]
  },
  {
   "cell_type": "code",
   "execution_count": 1,
   "id": "2971a318",
   "metadata": {},
   "outputs": [
    {
     "name": "stdout",
     "output_type": "stream",
     "text": [
      "6 11\n",
      "1\n",
      "1 2 2\n",
      "1 3 5\n",
      "1 4 1\n",
      "2 3 3\n",
      "2 4 2\n",
      "3 2 3\n",
      "3 6 5\n",
      "4 3 3\n",
      "4 5 1\n",
      "5 3 1\n",
      "5 6 2\n",
      "0\n",
      "2\n",
      "3\n",
      "1\n",
      "2\n",
      "4\n"
     ]
    }
   ],
   "source": [
    "import sys\n",
    "#input = sys.stdin.readline\n",
    "INF = int(1e9)  # 무한을 의미하는 값으로 10억을 설정\n",
    "\n",
    "# 노드의 개수, 간선의 개수를 입력받기\n",
    "n, m = map(int, input().split())\n",
    "# 시작 노드 번호를 입력받기\n",
    "start = int(input())\n",
    "# 각 노드에 연결되어 있는 노드에 대한 정보를 담는 리스트를 만들기\n",
    "graph = [[] for i in range(n+1)]\n",
    "# 방문한 적이 있는지 체크하는 목적의 리스트를 만들기\n",
    "visited = [False] * (n+1)\n",
    "# 최단 거리 테이블을 모두 무한으로 초기화\n",
    "distance = [INF] * (n+1)\n",
    "\n",
    "# 모든 간선 정보를 입력받기\n",
    "for _ in range(m):\n",
    "    a, b, c = map(int, input().split())\n",
    "    # a번 노드에서 b번 노드로 가는 비용이 c라는 의미\n",
    "    graph[a].append((b, c))\n",
    "    \n",
    "# 방문하지 않는 노드 중에서, 가장 최단 거리가 짧은 노드의 번호를 반환\n",
    "def get_smallest_node():\n",
    "    min_value = INF\n",
    "    index = 0  # 가장 최단 거리가 짧은 노드(인덱스)\n",
    "    for i in range(1, n+1):\n",
    "        if distance[i] < min_value and not visited[i]:\n",
    "            min_value = distance[i]\n",
    "            index = i\n",
    "    return index\n",
    "\n",
    "def dijkstra(start):\n",
    "    # 시작 노드에 대해서 초기화\n",
    "    distance[start] = 0\n",
    "    visited[start] = True\n",
    "    for j in graph[start]:\n",
    "        distance[j[0]] = j[1]\n",
    "    # 시작 노드를 제외한 전체 n - 1 개의 노드에 대해 반복\n",
    "    for i in range(n - 1):\n",
    "        # 현재 최단 거리가 가장 짧은 노드를 꺼내서, 방문 처리\n",
    "        now = get_smallest_node()\n",
    "        visited[now] = True\n",
    "        # 현재 노드와 연결된 다른 노드를 확인\n",
    "        for j in graph[now]:\n",
    "            cost = distance[now] + j[1]\n",
    "            # 현재 노들르 거쳐서 다른 노드로 이동하는 거리가 더 짧은 경우\n",
    "            if cost < distance[j[0]]:\n",
    "                distance[j[0]] = cost\n",
    "                \n",
    "# 다익스트라 알고리즘 수행\n",
    "dijkstra(start)\n",
    "\n",
    "# 모든 노드를 가기 위한 최단 거리를 출력\n",
    "for i in range(1, n+1):\n",
    "    # 도달할 수 없는 경우, 무한(INFINITY)이라고 출력\n",
    "    if distance[i] == INF:\n",
    "        print(\"INFINITY\")\n",
    "    # 도달할 수 있는 경우 거리를 출력\n",
    "    else:\n",
    "        print(distance[i])"
   ]
  },
  {
   "cell_type": "markdown",
   "id": "79bd1911",
   "metadata": {},
   "source": [
    "- 개선된 다익스트라 알고리즘"
   ]
  },
  {
   "cell_type": "code",
   "execution_count": 2,
   "id": "e4e64ee0",
   "metadata": {},
   "outputs": [
    {
     "name": "stdout",
     "output_type": "stream",
     "text": [
      "6 11\n",
      "1\n",
      "1 2 2\n",
      "1 3 5\n",
      "1 4 1\n",
      "2 3 3\n",
      "2 4 2\n",
      "3 2 3\n",
      "3 6 5\n",
      "4 3 3\n",
      "4 5 1\n",
      "5 3 1\n",
      "5 6 2\n",
      "0\n",
      "2\n",
      "3\n",
      "1\n",
      "2\n",
      "4\n"
     ]
    }
   ],
   "source": [
    "import heapq\n",
    "import sys\n",
    "#input = sys.stdin.readline\n",
    "INF = int(1e9)  # 무한을 의미하는 값으로 10억을 설정\n",
    "\n",
    "# 노드의 개수, 간선의 개수를 입력받기\n",
    "n, m = map(int, input().split())\n",
    "# 시작 노드 번호를 입력받기\n",
    "start = int(input())\n",
    "# 각 노드에 연결되어 있는 노드에 대한 정보를 담는 리스트를 만들기\n",
    "graph = [[] for i in range(n+1)]\n",
    "# 최단 거리 테이블을 모두 무한으로 초기화\n",
    "distance = [INF] * (n+1)\n",
    "\n",
    "# 모든 간선 정보를 입력받기\n",
    "for _ in range(m):\n",
    "    a, b, c = map(int, input().split())\n",
    "    # a번 노드에서 b번 노드로 가는 비용이 c라는 의미\n",
    "    graph[a].append((b, c))\n",
    "    \n",
    "def dijkstra(start):\n",
    "    q = []\n",
    "    # 시작 노드로 가기 위한 최단 경로는 0으로 설정하여, 큐에 삽입\n",
    "    heapq.heappush(q, (0, start))\n",
    "    distance[start] = 0\n",
    "    while q:  # 큐가 비어있지 않다면\n",
    "        # 가장 최단 거리가 짧은 노드에 대한 정보 꺼내기\n",
    "        dist, now = heapq.heappop(q)\n",
    "        # 현재 노드가 이미 처리된 적이 있는 노드라면 무시\n",
    "        if distance[now] < dist:\n",
    "            continue\n",
    "        # 현재 노드와 연결된 다른 인접한 노드들을 확인\n",
    "        for i in graph[now]:\n",
    "            cost = dist + i[1]\n",
    "            # 현재 노드를 거쳐서, 다른 노드로 이동하는 거리가 더 짧은 경우\n",
    "            if cost < distance[i[0]]:\n",
    "                distance[i[0]] = cost\n",
    "                heapq.heappush(q, (cost, i[0]))\n",
    "                \n",
    "# 다익스트라 알고리즘을 수행\n",
    "dijkstra(start)\n",
    "\n",
    "# 모든 노드로 가기 위한 최단 거리를 출력\n",
    "for i in range(1, n+1):\n",
    "    # 도달할 수 없는 경우, 무한(INFINITY)이라고 출력\n",
    "    if distance[i] == INF:\n",
    "        print(\"INFINITY\")\n",
    "    # 도달할 수 있는 경우 거리를 출력\n",
    "    else:\n",
    "        print(distance[i])"
   ]
  },
  {
   "cell_type": "markdown",
   "id": "488c33a2",
   "metadata": {},
   "source": [
    "# 2. 플로이드 워셜 알고리즘"
   ]
  },
  {
   "cell_type": "code",
   "execution_count": 3,
   "id": "17b7d823",
   "metadata": {},
   "outputs": [
    {
     "name": "stdout",
     "output_type": "stream",
     "text": [
      "4\n",
      "7\n",
      "1 2 4\n",
      "1 4 6\n",
      "2 1 3\n",
      "2 3 7\n",
      "3 1 5\n",
      "3 4 4\n",
      "4 3 2\n",
      "0 4 8 6 \n",
      "3 0 7 9 \n",
      "5 9 0 4 \n",
      "7 11 2 0 \n"
     ]
    }
   ],
   "source": [
    "INF = int(1e9)  # 무한을 의미하는 값으로 10억을 설정\n",
    "\n",
    "# 노드의 개수 및 간선의 개수를 입력받기\n",
    "n = int(input())\n",
    "m = int(input())\n",
    "\n",
    "# 2차원 리스트(그래프 표현)를 만들고, 모든 값을 무한으로 초기화\n",
    "graph = [[INF] * (n+1) for _ in range(n+1)]\n",
    "\n",
    "# 자기 자신에게 자기 자신으로 가는 비용은 0으로 초기화\n",
    "for a in range(1, n+1):\n",
    "    for b in range(1, n+1):\n",
    "        if a == b:\n",
    "            graph[a][b] = 0\n",
    "            \n",
    "# 각 간선에 대한 정보를 입력받아, 그 값으로 초기화\n",
    "for _ in range(m):\n",
    "    # A에서 B로 가는 비용은 C라고 설정\n",
    "    a, b, c = map(int, input().split())\n",
    "    graph[a][b] = c\n",
    "    \n",
    "# 점화식에 따라 플로이드 워셜 알고리즘을 수행\n",
    "for k in range(1, n+1):\n",
    "    for a in range(1, n+1):\n",
    "        for b in range(1, n+1):\n",
    "            graph[a][b] = min(graph[a][b], graph[a][k] + graph[k][b])\n",
    "            \n",
    "# 수행된 결과를 출력\n",
    "for a in range(1, n+1):\n",
    "    for b in range(1, n+1):\n",
    "        # 도달할 수 없는 경우, 무한(INFINITY)이라고 출력\n",
    "        if graph[a][b] == INF:\n",
    "            print(\"INFINITY\", end=' ')\n",
    "        # 도달할 수 있는 경우 거리를 출력\n",
    "        else:\n",
    "            print(graph[a][b], end=' ')\n",
    "    print()"
   ]
  },
  {
   "cell_type": "markdown",
   "id": "0608bfc8",
   "metadata": {},
   "source": [
    "# 3. 미래 도시"
   ]
  },
  {
   "cell_type": "code",
   "execution_count": 4,
   "id": "cb878393",
   "metadata": {},
   "outputs": [
    {
     "name": "stdout",
     "output_type": "stream",
     "text": [
      "5 7\n",
      "1 2\n",
      "1 3\n",
      "1 4\n",
      "2 4\n",
      "3 4\n",
      "3 5\n",
      "4 5\n",
      "4 5\n",
      "3\n"
     ]
    }
   ],
   "source": [
    "INF = int(1e9)\n",
    "N, M = map(int, input().split())\n",
    "\n",
    "graph = [[INF] * (N+1) for _ in range(N+1)]\n",
    "\n",
    "for i in range(1, N+1):\n",
    "    for j in range(1, N+1):\n",
    "        if i == j:\n",
    "            graph[i][j] = 0\n",
    "\n",
    "for i in range(M):\n",
    "    a, b = map(int, input().split())\n",
    "    graph[a][b] = 1\n",
    "    graph[b][a] = 1\n",
    "\n",
    "for i in range(1, N+1):\n",
    "    for j in range(1, N+1):\n",
    "        for k in range(1, N+1):\n",
    "            graph[j][k] = min(graph[j][k], graph[j][i] + graph[i][k])\n",
    "    \n",
    "X, K = map(int, input().split())\n",
    "distance = graph[1][K] + graph[K][X]\n",
    "\n",
    "if distance >= INF:\n",
    "    print(-1)\n",
    "else :\n",
    "    print(distance)"
   ]
  },
  {
   "cell_type": "markdown",
   "id": "68866160",
   "metadata": {},
   "source": [
    "# 4. 전보"
   ]
  },
  {
   "cell_type": "code",
   "execution_count": 5,
   "id": "5e7014cb",
   "metadata": {},
   "outputs": [
    {
     "name": "stdout",
     "output_type": "stream",
     "text": [
      "3 2 1\n",
      "1 2 4\n",
      "1 3 2\n",
      "2 4\n"
     ]
    }
   ],
   "source": [
    "import heapq\n",
    "\n",
    "INF = int(1e9)\n",
    "N, M, C = map(int, input().split())\n",
    "\n",
    "graph = [[] for _ in range(N+1)]\n",
    "distance = [INF] * (N+1)\n",
    "\n",
    "for i in range(M):\n",
    "    X, Y, Z = map(int, input().split())\n",
    "    graph[X].append((Y, Z))\n",
    "\n",
    "def dijkstra(start):\n",
    "    q = []\n",
    "    heapq.heappush(q, (0, start))\n",
    "    distance[start] = 0\n",
    "    while q:\n",
    "        dist, now = heapq.heappop(q)\n",
    "        if distance[now] < dist:\n",
    "            continue\n",
    "        for i in graph[now]:\n",
    "            cost = dist + i[1]\n",
    "            if cost < distance[i[0]]:\n",
    "                distance[i[0]] = cost\n",
    "                heapq.heappush(q, (cost, i[0]))\n",
    "                \n",
    "dijkstra(C)\n",
    "\n",
    "cnt = 0\n",
    "max_dist = 0\n",
    "for d in distance:\n",
    "    if d != INF:\n",
    "        cnt +=1\n",
    "        max_dist = max(max_dist, d)\n",
    "print(cnt-1, max_dist)"
   ]
  }
 ],
 "metadata": {
  "kernelspec": {
   "display_name": "DH",
   "language": "python",
   "name": "dh"
  },
  "language_info": {
   "codemirror_mode": {
    "name": "ipython",
    "version": 3
   },
   "file_extension": ".py",
   "mimetype": "text/x-python",
   "name": "python",
   "nbconvert_exporter": "python",
   "pygments_lexer": "ipython3",
   "version": "3.8.8"
  }
 },
 "nbformat": 4,
 "nbformat_minor": 5
}
