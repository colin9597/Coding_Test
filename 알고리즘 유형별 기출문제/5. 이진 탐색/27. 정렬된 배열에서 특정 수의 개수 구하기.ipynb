{
 "cells": [
  {
   "cell_type": "markdown",
   "id": "40c05152",
   "metadata": {},
   "source": [
    "# 정렬된 배열에서 특정 수의 개수 구하기\n",
    "- 난이도 ●●○\n",
    "- 풀이시간 30분\n",
    "- 시간 제한 1초\n",
    "- 메모리 제한 128MB\n",
    "- 기출 Zoho 인터뷰\n",
    "\n",
    "> N개의 원소를 포함하고 있는 수열에서 x가 등장하는 횟수를 계산하라.  \n",
    "> 단, 이 문제는 시간 복잡도 O(logN)으로 알고리즘을 설계하지 않으면 '시간 초과' 판정을 받음.\n",
    "\n",
    "##### <입력조건>\n",
    "- 첫째 줄에 N과 x가 정수 형태로 공백으로 구분되어 입력됩니다. (1 <= N <= 1,000,000), (-10^9 <= x <= 10^9)\n",
    "- 둘째 줄에 N개의 원소가 정수 형태로 공백으로 구분되어 입력됩니다. (-10^9 <= 각 원소의 값 <= 10^9)\n",
    "\n",
    "##### <출력조건>\n",
    "- 수열의 원소 중에서 값이 x인 원소의 개수를 출력합니다.  \n",
    "    단, 값이 x인 원소가 하나도 없다면 -1을 출력합니다."
   ]
  },
  {
   "cell_type": "markdown",
   "id": "fcac1686",
   "metadata": {},
   "source": [
    "### [풀이]"
   ]
  },
  {
   "cell_type": "code",
   "execution_count": 1,
   "id": "f21ee68a",
   "metadata": {},
   "outputs": [
    {
     "name": "stdout",
     "output_type": "stream",
     "text": [
      "7 2\n",
      "1 1 2 2 2 2 3\n",
      "4\n"
     ]
    }
   ],
   "source": [
    "def binary_search(array, target, start, end):  # x가 처음 발견되는 인덱스 반환(없다면 None)\n",
    "    while start <= end:\n",
    "        mid = (start + end) // 2\n",
    "        if array[mid] == target:\n",
    "            return mid\n",
    "        elif array[mid] > target:\n",
    "            end = mid - 1\n",
    "        else:\n",
    "            start = mid + 1\n",
    "    return None\n",
    "\n",
    "N, x = map(int, input().split())  # 데이터의 개수 N, 찾고자 하는 값 x를 입력받기\n",
    "seq = list(map(int, input().split()))  # 전체 데이터 입력받기\n",
    "\n",
    "idx = binary_search(seq, x, 0, N-1)  # x가 처음 발견되는 인덱스\n",
    "\n",
    "if idx == None:  # x가 발견되지 않는다면 -1 출력\n",
    "    print(-1)\n",
    "else:\n",
    "    idx2 = idx - 1\n",
    "    cnt = 0\n",
    "    while seq[idx] == x:  # 처음 발견된 인덱스 기준 오른쪽으로 순차 탐색\n",
    "        cnt += 1\n",
    "        idx += 1\n",
    "        if idx == N:\n",
    "            break\n",
    "    while seq[idx2] == x:  # 처음 발견된 인덱스 기준 왼쪽으로 순차 탐색\n",
    "        cnt += 1\n",
    "        idx2 -= 1\n",
    "        if idx2 < 0:\n",
    "            break\n",
    "    print(cnt)"
   ]
  },
  {
   "cell_type": "markdown",
   "id": "2bc5f9f0",
   "metadata": {},
   "source": [
    "> 이진 탐색을 통해 x가 처음 발견되는 인덱스를 기준으로 순차 탐색을 진행하여 개수 카운트  \n",
    "> 처음엔 시간 복잡도가 O(logN)인거 같았으나 답안을 보니 아닌거 같음."
   ]
  },
  {
   "cell_type": "markdown",
   "id": "d47a57f5",
   "metadata": {},
   "source": [
    "### [답안1]"
   ]
  },
  {
   "cell_type": "code",
   "execution_count": 2,
   "id": "affbd753",
   "metadata": {},
   "outputs": [
    {
     "name": "stdout",
     "output_type": "stream",
     "text": [
      "7 2\n",
      "1 1 2 2 2 2 3\n",
      "4\n"
     ]
    }
   ],
   "source": [
    "# 정렬된 수열에서 값이 x인 원소의 개수를 세는 메서드\n",
    "def count_by_value(array, x):\n",
    "    # 데이터의 개수\n",
    "    n = len(array)\n",
    "    \n",
    "    # x가 처음 등장한 인덱스 계산\n",
    "    a = first(array, x, 0, n-1)\n",
    "    \n",
    "    # 수열에 x가 존재하지 않는 경우\n",
    "    if a == None:\n",
    "        return 0  # 값이 x인 원소의 개수는 0개이므로 0 반환\n",
    "    \n",
    "    # x가 마지막으로 등장한 인덱스 계산\n",
    "    b = last(array, x, 0, n - 1)\n",
    "    \n",
    "    # 개수를 반환\n",
    "    return b - a + 1\n",
    "\n",
    "# 처음 위치를 찾는 이진 탐색 메서드\n",
    "def first(array, target, start, end):\n",
    "    if start > end:\n",
    "        return None\n",
    "    mid = (start + end) // 2\n",
    "    # 해당 값을 가지는 원소 중에서 가장 왼쪽에 있는 경우에만 인덱스 반환\n",
    "    if (mid == 0 or target > array[mid-1]) and array[mid] == target:\n",
    "        return mid\n",
    "    # 중간점의 값 보다 찾고자 하는 값이 작거나 같은 경우 왼쪽 확인\n",
    "    elif array[mid-1] >= target:\n",
    "        return first(array, target, start, mid-1)\n",
    "    # 중간점의 값 보다 찾고자 하는 값이 큰 경우 오른쪽 확인\n",
    "    else:\n",
    "        return first(array, target, mid+1, end)\n",
    "\n",
    "# 마지막 위치를 찾는 이진 탐색 메서드\n",
    "def last(array, target, start, end):\n",
    "    if start > end:\n",
    "        return None\n",
    "    mid = (start + end) // 2\n",
    "    # 해당 값을 가지는 원소 중에서 가장 오른쪽에 있는 경우에만 인덱스 반환\n",
    "    if (mid == end or target < array[mid+1]) and array[mid] == target:\n",
    "        return mid\n",
    "    # 중간점의 값 보다 찾고자 하는 작은 경우 왼쪽 확인\n",
    "    elif array[mid] > target:\n",
    "        return last(array, target, start, mid-1)\n",
    "    # 중간점의 값 보다 찾고자 하는 값이 큰 경우 오른쪽 확인\n",
    "    else:\n",
    "        return last(array, target, mid+1, end)\n",
    "    \n",
    "n, x = map(int, input().split())  # 데이터의 개수 N, 찾고자 하는 값 x를 입력받기\n",
    "array = list(map(int, input().split()))  # 전체 데이터 입력받기\n",
    "\n",
    "# 값이 x인 데이터의 개수 계산\n",
    "count = count_by_value(array, x)\n",
    "\n",
    "# 값이 x인 원소가 존재하지 않는다면\n",
    "if count == 0:\n",
    "    print(-1)\n",
    "# 값이 x인 원소가 존재한다면\n",
    "else:\n",
    "    print(count)"
   ]
  },
  {
   "cell_type": "markdown",
   "id": "06d5b9b2",
   "metadata": {},
   "source": [
    "> x가 처음 등장한 인덱스와 마지막으로 등장한 인덱스를 각각 이진 탐색한 후, 마지막에 빼기로 갯수 계산"
   ]
  },
  {
   "cell_type": "markdown",
   "id": "2c63a700",
   "metadata": {},
   "source": [
    "### [답안2]"
   ]
  },
  {
   "cell_type": "code",
   "execution_count": 3,
   "id": "12a82ba6",
   "metadata": {},
   "outputs": [
    {
     "name": "stdout",
     "output_type": "stream",
     "text": [
      "7 2\n",
      "1 1 2 2 2 2 3\n",
      "4\n"
     ]
    }
   ],
   "source": [
    "from bisect import bisect_left, bisect_right\n",
    "\n",
    "# 값이 [left_value, right_value]인 데이터의 개수를 반환하는 함수\n",
    "def count_by_range(array, left_value, right_value):\n",
    "    right_index = bisect_right(array, right_value)\n",
    "    left_index = bisect_left(array, left_value)\n",
    "    return right_index - left_index\n",
    "\n",
    "n, x = map(int, input().split())  # 데이터의 개수 N, 찾고자 하는 값 x를 입력받기\n",
    "array = list(map(int, input().split()))  # 전체 데이터 입력받기\n",
    "\n",
    "# 값이 [x, x] 범위에 있는 데이터의 개수 계산\n",
    "count = count_by_range(array, x, x)\n",
    "\n",
    "# 값이 x인 원소가 존재하지 않는다면\n",
    "if count == 0:\n",
    "    print(-1)\n",
    "# 값이 x인 원소가 존재한다면\n",
    "else:\n",
    "    print(count)"
   ]
  },
  {
   "cell_type": "markdown",
   "id": "1572e679",
   "metadata": {},
   "source": [
    "> 답안1의 방법과 같으나 bisect 라이브러리의 함수 사용  \n",
    "> bisect_right 함수는 실제 인덱스 + 1 반환"
   ]
  }
 ],
 "metadata": {
  "kernelspec": {
   "display_name": "DH",
   "language": "python",
   "name": "dh"
  },
  "language_info": {
   "codemirror_mode": {
    "name": "ipython",
    "version": 3
   },
   "file_extension": ".py",
   "mimetype": "text/x-python",
   "name": "python",
   "nbconvert_exporter": "python",
   "pygments_lexer": "ipython3",
   "version": "3.8.10"
  }
 },
 "nbformat": 4,
 "nbformat_minor": 5
}
