{
 "cells": [
  {
   "cell_type": "markdown",
   "id": "cecf070b",
   "metadata": {},
   "source": [
    "# 공유기 설치\n",
    "- 난이도 ●●○\n",
    "- 풀이 시간 50분\n",
    "- 시간 제한 2초\n",
    "- 메모리 제한 128MB\n",
    "- 기출 핵심 유형\n",
    "- 링크 https://www.acmicpc.net/problem/2110\n",
    "\n",
    "> 도현이의 집 N개가 수직선 위에 있는데 각각의 집의 좌표는 x_1, x_2, ..., x_N이고, 집 여러 개가 같은 좌표를 가지는 일이 없음.  \n",
    "> 도현이는 언제 어디서나 와이파이를 즐기기 위해서 집에 공유기 C개를 설치하려고 함.  \n",
    "> 가장 인접한 두 공유기 사이의 거리를 가능한 크게하여 설치하려고 함.  \n",
    "> C개의 공유기를 N개의 집에 적당히 설치해서, 가장 인접한 두 공유기 사이의 거리를 최대로 하는 프로그램을 작성하라.  \n",
    "\n",
    "##### <입력조건>\n",
    "- 첫째 줄에 집의 개수 N(2 <= N <= 200,000)과 공유기의 개수 C(2 <= C <= N)가 하나 이상의 빈칸을 사이에 두고 주어집니다.  \n",
    "- 둘째 줄부터 N개의 줄에는 집의 좌표를 나타내는 x_i(1 <= x_i <= 1,000,000,000)가 한 줄에 하나씩 주어집니다.  \n",
    "\n",
    "##### <출력조건>\n",
    "- 첫째 줄에 가장 인접한 두 공유기 사이의 최대 거리를 출력합니다.  \n",
    "\n",
    "##### <힌트>\n",
    "- 공유기를 1, 4, 8 또는 1, 4, 9에 설치하면 가장 인접한 두 공유기 사이의 거리는 3이고, 이 거리보다 크게 공유기를 3개 설치할 수 없습니다.  "
   ]
  },
  {
   "cell_type": "markdown",
   "id": "df75a3fe",
   "metadata": {},
   "source": [
    "### [풀이]"
   ]
  },
  {
   "cell_type": "markdown",
   "id": "38382a09",
   "metadata": {},
   "source": [
    "> 해결 못함"
   ]
  },
  {
   "cell_type": "markdown",
   "id": "e79ad22c",
   "metadata": {},
   "source": [
    "###  [답안]"
   ]
  },
  {
   "cell_type": "code",
   "execution_count": 1,
   "id": "30ed5d87",
   "metadata": {},
   "outputs": [
    {
     "name": "stdout",
     "output_type": "stream",
     "text": [
      "5 3\n",
      "1\n",
      "2\n",
      "8\n",
      "4\n",
      "9\n",
      "3\n"
     ]
    }
   ],
   "source": [
    "# 집의 개수(N)와 공유기의 개수(C)를 입력 받기\n",
    "n, c = list(map(int, input().split(' ')))\n",
    "\n",
    "# 전체 집의 좌표 정보를 입력 받기\n",
    "array = []\n",
    "for _ in range(n):\n",
    "     array.append(int(input()))\n",
    "array.sort() # 이진 탐색 수행을 위해 정렬 수행\n",
    "\n",
    "start = 1 # 가능한 최소 거리(min gap)\n",
    "end = array[-1] - array[0] # 가능한 최대 거리(max gap)\n",
    "result = 0\n",
    "\n",
    "while(start <= end):\n",
    "    mid = (start + end) // 2 # mid는 가장 인접한 두 공유기 사이의 거리(gap)을 의미\n",
    "    # 첫째 집에는 무조건 공유기를 설치한다고 가정\n",
    "    value = array[0]\n",
    "    count = 1\n",
    "    # 현재의 mid 값을 이용해 공유기를 설치하기\n",
    "    for i in range(1, n): # 앞에서부터 차근차근 설치 \n",
    "        if array[i] >= value + mid:\n",
    "            value = array[i]\n",
    "            count += 1\n",
    "    if count >= c: # C개 이상의 공유기를 설치할 수 있는 경우, 거리를 증가시키기\n",
    "        start = mid + 1\n",
    "        result = mid # 최적의 결과를 저장\n",
    "    else: # C개 이상의 공유기를 설치할 수 없는 경우, 거리를 감소시키기\n",
    "        end = mid - 1\n",
    "\n",
    "print(result)"
   ]
  }
 ],
 "metadata": {
  "kernelspec": {
   "display_name": "DH",
   "language": "python",
   "name": "dh"
  },
  "language_info": {
   "codemirror_mode": {
    "name": "ipython",
    "version": 3
   },
   "file_extension": ".py",
   "mimetype": "text/x-python",
   "name": "python",
   "nbconvert_exporter": "python",
   "pygments_lexer": "ipython3",
   "version": "3.8.10"
  }
 },
 "nbformat": 4,
 "nbformat_minor": 5
}
