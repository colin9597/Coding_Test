{
 "cells": [
  {
   "cell_type": "markdown",
   "id": "939e59f8",
   "metadata": {},
   "source": [
    "# 고정점 찾기\n",
    "- 난이도 ●◐○\n",
    "- 풀이 시간 20분\n",
    "- 시간 제한 1초\n",
    "- 메모리 제한 128MB\n",
    "- 기출 Amazon 인터뷰\n",
    "\n",
    "> 고정점이란 수열의 원소 중에서 그 값이 인덱스와 동일한 원소를 의미함.  \n",
    "> 하나의 수열이 N개의 서로 다른 원소를 포함하고 있으며, 모든 원소가 오름차순으로 정렬되어 있음.  \n",
    "> 이때 이 수열에서 고정점이 있다면 고정점을 출력하는 프로그램을 작성하라.  \n",
    "> 고정점은 최대 1개만 존재하고 만약 고정점이 없다면 -1을 출력  \n",
    "> 단, 이 문제는 시간 복잡도 O(logN)으로 알고리즘을 설계\n",
    "\n",
    "##### <입력조건>\n",
    "- 첫째 줄에 N이 입력됩니다. (1 <= N <= 1,000,000)\n",
    "- 둘째 줄에 N개의 원소가 정수 형태로 공백으로 구분되어 입력됩니다. (-10^9 <= 각 원소의 값 <= 10^9)\n",
    "\n",
    "#####  <출력조건>\n",
    "- 고정점을 출력한다.\n",
    "- 고정점이 없다면 -1을 출력합니다."
   ]
  },
  {
   "cell_type": "markdown",
   "id": "93b67082",
   "metadata": {},
   "source": [
    "### [풀이]"
   ]
  },
  {
   "cell_type": "code",
   "execution_count": 1,
   "id": "335d87d0",
   "metadata": {},
   "outputs": [
    {
     "name": "stdout",
     "output_type": "stream",
     "text": [
      "5\n",
      "-15 -6 1 3 7\n",
      "3\n"
     ]
    }
   ],
   "source": [
    "def binary_search(array, start, end):  # 이진 탐색 소스코드 구현(반복문)\n",
    "    while start <= end:\n",
    "        mid = (start + end) // 2\n",
    "        if array[mid] == mid:  # 고정점을 찾은 경우 인덱스 반환\n",
    "            return mid\n",
    "        elif array[mid] > mid:  # 중간점을 가리키는 위치의 값보다 중간점이 작은 경우 왼쪽 확인\n",
    "            end = mid - 1\n",
    "        else:  # 중간점이 가리키는 위치의 값보다 중간점이 큰 경우 오른쪽 확인\n",
    "            start = mid + 1\n",
    "    return None  # 고정점이 없을 경우 None 반환\n",
    "\n",
    "N = int(input())  # 원소의 개수 입력\n",
    "seq = list(map(int, input().split()))  # 수열 입력\n",
    "\n",
    "idx = binary_search(seq, 0, N-1) \n",
    "if idx != None:  # 고정점이 있는 경우 해당 인덱스 출력\n",
    "    print(idx)\n",
    "else:  # 고정점이 없는 경우 -1 출력\n",
    "    print(-1)\n"
   ]
  },
  {
   "cell_type": "markdown",
   "id": "5a9189b2",
   "metadata": {},
   "source": [
    "### [답안]"
   ]
  },
  {
   "cell_type": "code",
   "execution_count": 2,
   "id": "eb4eb954",
   "metadata": {},
   "outputs": [
    {
     "name": "stdout",
     "output_type": "stream",
     "text": [
      "5\n",
      "-15 -6 1 3 7\n",
      "3\n"
     ]
    }
   ],
   "source": [
    "# 이진 탐색 소스코드 구현(재귀 함수)\n",
    "def binary_search(array, start, end):\n",
    "    if start > end:\n",
    "        return None\n",
    "    mid = (start + end) // 2\n",
    "    # 고정점을 찾은 경우 인덱스 반환\n",
    "    if array[mid] == mid:\n",
    "        return mid\n",
    "    # 중간점을 가리키는 위치의 값보다 중간점이 작은 경우 왼쪽 확인\n",
    "    elif array[mid] > mid:\n",
    "        return binary_search(array, start, mid-1)\n",
    "    # 중간점이 가리키는 위치의 값보다 중간점이 큰 경우 오른쪽 확인\n",
    "    else:\n",
    "        return binary_search(array, mid+1, end)\n",
    "    \n",
    "n = int(input())\n",
    "array = list(map(int, input().split()))\n",
    "\n",
    "# 이진 탐색(Binary Search) 수행\n",
    "index = binary_search(array, 0, n-1)\n",
    "\n",
    "# 고정점이 없는 경우 -1 출력\n",
    "if index == None:\n",
    "    print(-1)\n",
    "# 고정점이 있는 경우 해당 인덱스 출력\n",
    "else:\n",
    "    print(index)"
   ]
  }
 ],
 "metadata": {
  "kernelspec": {
   "display_name": "DH",
   "language": "python",
   "name": "dh"
  },
  "language_info": {
   "codemirror_mode": {
    "name": "ipython",
    "version": 3
   },
   "file_extension": ".py",
   "mimetype": "text/x-python",
   "name": "python",
   "nbconvert_exporter": "python",
   "pygments_lexer": "ipython3",
   "version": "3.8.10"
  }
 },
 "nbformat": 4,
 "nbformat_minor": 5
}
