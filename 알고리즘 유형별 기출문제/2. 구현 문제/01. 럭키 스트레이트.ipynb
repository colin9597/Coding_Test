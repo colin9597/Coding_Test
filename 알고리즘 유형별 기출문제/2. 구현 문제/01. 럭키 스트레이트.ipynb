{
 "cells": [
  {
   "cell_type": "markdown",
   "id": "d5116f5c",
   "metadata": {},
   "source": [
    "# 럭키 스트레이트\n",
    "- 난이도 ●○○\n",
    "- 풀이 시간 20분\n",
    "- 시간 제한 1초\n",
    "- 메모리 제한 256MB\n",
    "- 기출 핵심 유형\n",
    "- 링크 https://www.acmicpc.net/problem/18406\n",
    "\n",
    "> 게임의 아웃복서 캐릭터의 필사기인 '럭키 스트레이트' 기술은 매우 강력한 대신 **특정 조건**을 만족할 때만 사용 가능  \n",
    "> **특정 조건**이란 현재 캐릭터의 점수를 N이라고 할 때,   \n",
    "> 자릿수를 기준으로 점수 N을 반으로 나누어 왼쪽 부분의 각 자릿수의 합과 오른쪽 부분의 각 자릿수의 합을 더한 값이 동일한 상황을 의미  \n",
    "> ex) 123,402 => 1+2+3 == 4+0+2 => '럭키 스트레이트' 기술 사용 가능!\n",
    "\n",
    "##### <입력조건>\n",
    "- 첫째 줄에 점수 N이 정수로 주어집니다.(10 <= N <= 99,999,999)  \n",
    "    단, 점수 N의 자릿수는 항상 짝수 형태로만 주어집니다.  \n",
    "    예를 들어 자릿수가 5인 12,345와 같은 수는 입력으로 들어오지 않습니다.\n",
    "\n",
    "##### <출력조건>\n",
    "- 첫째 줄에 럭키 스트레이트를 사용할 수 있다면 \"LUCKY\"를, 사용할 수 없다면 \"READY\"를 출력합니다."
   ]
  },
  {
   "cell_type": "markdown",
   "id": "4ccf62db",
   "metadata": {},
   "source": [
    "### [풀이]"
   ]
  },
  {
   "cell_type": "code",
   "execution_count": 1,
   "id": "bd680668",
   "metadata": {},
   "outputs": [
    {
     "name": "stdout",
     "output_type": "stream",
     "text": [
      "123402\n",
      "LUCKY\n"
     ]
    }
   ],
   "source": [
    "N = list(map(int, input()))  # 점수 N\n",
    "n = int(len(N) / 2)  # 점수의 자릿수 / 2\n",
    "\n",
    "left = N[:n]   # 왼쪽 부분 \n",
    "right = N[n:]  # 오른쪽 부분\n",
    "\n",
    "if sum(left) == sum(right):  # 왼쪽 부분의 각 자릿수의 합과 오른쪽 부분의 각 자릿수의 합이 같다면\n",
    "    print(\"LUCKY\")\n",
    "else:\n",
    "    print(\"READY\") ㅁ"
   ]
  },
  {
   "cell_type": "markdown",
   "id": "cc01d0ea",
   "metadata": {},
   "source": [
    "### [답안]"
   ]
  },
  {
   "cell_type": "code",
   "execution_count": 2,
   "id": "a67c8a3b",
   "metadata": {},
   "outputs": [
    {
     "name": "stdout",
     "output_type": "stream",
     "text": [
      "7755\n",
      "READY\n"
     ]
    }
   ],
   "source": [
    "n = input()\n",
    "length = len(n)  # 점수값의 총 자릿수\n",
    "summary = 0\n",
    "\n",
    "# 왼쪽 부분의 자릿수 합 더하기\n",
    "for i in range(length // 2):\n",
    "    summary += int(n[i])\n",
    "\n",
    "# 오른쪽 부분의 자릿수 합 빼기\n",
    "for i in range(length // 2, length):\n",
    "    summary -= int(n[i])\n",
    "    \n",
    "# 왼쪽 부분과 오른쪽 부분의 자릿수 합이 동일한지 검사\n",
    "if summary == 0:\n",
    "    print(\"LUCKY\")\n",
    "else:\n",
    "    print(\"READY\")"
   ]
  }
 ],
 "metadata": {
  "kernelspec": {
   "display_name": "DH",
   "language": "python",
   "name": "dh"
  },
  "language_info": {
   "codemirror_mode": {
    "name": "ipython",
    "version": 3
   },
   "file_extension": ".py",
   "mimetype": "text/x-python",
   "name": "python",
   "nbconvert_exporter": "python",
   "pygments_lexer": "ipython3",
   "version": "3.8.10"
  }
 },
 "nbformat": 4,
 "nbformat_minor": 5
}
