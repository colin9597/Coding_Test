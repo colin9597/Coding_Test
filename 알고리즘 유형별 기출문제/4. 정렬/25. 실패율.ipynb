{
 "cells": [
  {
   "cell_type": "markdown",
   "id": "fbb0652a",
   "metadata": {},
   "source": [
    "# 실패율\n",
    "- 난이도 ●○○\n",
    "- 풀이 시간 20분\n",
    "- 시간 제한 1초\n",
    "- 메모리 제한 128MB\n",
    "- 기출 2019 카카오 신입 공채 1차\n",
    "- 링크 https://programmers.co.kr/learn/courses/30/lessons/42889\n",
    "\n",
    "> 신규 사용자와 기존 사용자 사이에 스테이지 차이가 너무 크다는 문제가 있음.  \n",
    "> 이를 해결하기 위해 동적으로 게임 시간을 늘려서 난이도를 조절하기로 함.  \n",
    "> 실패율을 구하는 코드를 완성하라.  \n",
    "> 실패율 : 스테이지에 도달했으나 아직 클리어하지 못한 플레이어의 수 / 스테이지에 도달한 플레이어의 수  \n",
    "> 전체 스테이지의 개수 N, 게임을 이용하는 사용자가 현재 멈춰있는 스테이지의 번호가 담긴 배열 stages가 매개변수로 주어짐.  \n",
    "> 실패율이 높은 스테이지부터 내림차순으로 스테이지의 번호가 담겨 있는 배열을 return 하도록 solution 함수를 완성하라.  \n",
    "\n",
    "##### <제한사항>\n",
    "- 스테이지의 개수 N은 1 이상 500 이하의 자연수입니다.  \n",
    "- stages의 길이는 1 이상 200,000 이하입니다.\n",
    "- stages에는 1 이상 N+1 이하의 자연수가 담겨있습니다.  \n",
    "    \\- 각 자연수는 사용자가 현재 도전 중인 스테이지의 번호를 나타냅니다.  \n",
    "    \\- 단, N+1은 마지막 스테이지(N번째 스테이지)까지 클리어한 사용자를 나타냅니다.  \n",
    "- 만약 실패율이 같은 스테이지가 있다면 작은 번호의 스테이지가 먼저 오도록 하면 됩니다.  \n",
    "- 스테이지에 도달한 유저가 없는 경우 해당 스테이지의 실패율은 0으로 정의합니다.  \n",
    "\n",
    "##### <입출력 예시>\n",
    "|N|stages|result|\n",
    "|:---|:---|:---|\n",
    "|5|[2, 1, 2, 6, 2, 4, 3, 3]|[3, 4, 2, 1, 5]|\n",
    "|4|[4, 4, 4, 4, 4]|[4, 1, 2, 3]|\n",
    "\n",
    "##### <입출력 예시에 대한 설명>\n",
    "- 입출력 예시 #1  \n",
    "    \\- 1번 스테이지에는 총 8명의 사용자가 도전했으며, 이 중 1명이 사용자가 아직 클리어하지 못했습니다.  \n",
    "    \\- 따라서 1번 스테이지의 실패율은 다음과 같습니다.  \n",
    "        -> 1번 스테이지 실패율 : 1/8  \n",
    "    \\- 2번 스테이지에는 총 7명의 사용자가 도전했으며, 이 중 3명의 사용자가 아직 클리어하지 못했습니다.  \n",
    "    \\- 따라서 2번 스테이지의 실패율은 다음과 같습니다.  \n",
    "        -> 2번 스테이지 실패율 : 3/7\n",
    "    \\- 마찬가지로 나머지 스테이지의 실패율은 다음과 같습니다.  \n",
    "        -> 3번 스테이지 실패율 : 2/4  \n",
    "        -> 4번 스테이지 실패율 : 1/2  \n",
    "        -> 5번 스테이지 실패율 : 0/1  \n",
    "    \\- 각 스테이지의 번호를 실패율의 내림차순으로 정렬하면 다음과 같습니다.  \n",
    "        -> [3, 4, 2, 1, 5]  \n",
    "- 입출력 예시 #2  \n",
    "    \\- 모든 사용자가 마지막 스테이지에 있으므로 4번 스테이지의 실패율은 1이며 나머지 실패율은 0입니다.  \n",
    "        -> [4, 1, 2, 3]"
   ]
  },
  {
   "cell_type": "markdown",
   "id": "ce558649",
   "metadata": {},
   "source": [
    "### [풀이]"
   ]
  },
  {
   "cell_type": "code",
   "execution_count": 1,
   "id": "cd31d1f6",
   "metadata": {},
   "outputs": [],
   "source": [
    "def solution(N, stages):\n",
    "    stages.sort()  # 스테이지 오름차순 정렬\n",
    "    failure_rate = {}  # 스테이지별 실패율이 담긴 딕셔너리\n",
    "    for i in range(1, N+1):  # 스테이지 번호를 1부터 N까지 증가시키며\n",
    "        cnt = stages.count(i)  # 해당 스테이지에 머물러 있는 사람의 수 계산\n",
    "        if stages:  # 실패율 계산\n",
    "            fail = cnt / len(stages)\n",
    "        else:\n",
    "            fail = 0\n",
    "        failure_rate[i] = fail  # 딕셔너리에 실패율 입력\n",
    "        stages = stages[cnt:]  # 계산된 스테이지 제외\n",
    "    \n",
    "    # (실패율 -> 스테이지 번호)를 기준으로 각 스테이지를 정렬\n",
    "    failure_rate = sorted(failure_rate.items(), key = lambda x: (-x[1], x[0]))\n",
    "    \n",
    "    answer = []  # 정렬된 스테이지 번호 입력\n",
    "    for k, v in failure_rate:\n",
    "        answer.append(k)\n",
    "\n",
    "    return answer"
   ]
  },
  {
   "cell_type": "code",
   "execution_count": 2,
   "id": "fc7d747c",
   "metadata": {},
   "outputs": [
    {
     "data": {
      "text/plain": [
       "[3, 4, 2, 1, 5]"
      ]
     },
     "execution_count": 2,
     "metadata": {},
     "output_type": "execute_result"
    }
   ],
   "source": [
    "N = 5\n",
    "stages = [2, 1, 2, 6, 2, 4, 3, 3]\n",
    "solution(N, stages)"
   ]
  },
  {
   "cell_type": "code",
   "execution_count": 3,
   "id": "2c2ea651",
   "metadata": {},
   "outputs": [
    {
     "data": {
      "text/plain": [
       "[4, 1, 2, 3]"
      ]
     },
     "execution_count": 3,
     "metadata": {},
     "output_type": "execute_result"
    }
   ],
   "source": [
    "N = 4\n",
    "stages = [4, 4, 4, 4, 4]\n",
    "solution(N, stages)"
   ]
  },
  {
   "cell_type": "markdown",
   "id": "baacd028",
   "metadata": {},
   "source": [
    "### [답안]"
   ]
  },
  {
   "cell_type": "code",
   "execution_count": 4,
   "id": "9fbb1a1e",
   "metadata": {},
   "outputs": [],
   "source": [
    "def solution(N, stages):\n",
    "    answer = []\n",
    "    length = len(stages)\n",
    "    \n",
    "    # 스테이지 번호를 1부터 N까지 증가시키며\n",
    "    for i in range(1, N+1):\n",
    "        # 해당 스테이지에 머물러 있는 사람의 수 계산\n",
    "        count = stages.count(i)\n",
    "        \n",
    "        # 실패율 계산\n",
    "        if length == 0:\n",
    "            fail = 0\n",
    "        else:\n",
    "            fail = count / length\n",
    "            \n",
    "        # 리스트에 (스테이지 번호, 실패율) 원소 삽입\n",
    "        answer.append((i, fail))\n",
    "        length -= count\n",
    "    \n",
    "    # 실패율을 기준으로 각 스테이지를 내림차순 정렬\n",
    "    answer = sorted(answer, key=lambda t: t[1], reverse=True)\n",
    "    \n",
    "    # 정렬된 스테이지 번호 출력\n",
    "    answer = [i[0] for i in answer]\n",
    "    return answer"
   ]
  },
  {
   "cell_type": "code",
   "execution_count": 5,
   "id": "6abe56fa",
   "metadata": {},
   "outputs": [
    {
     "data": {
      "text/plain": [
       "[3, 4, 2, 1, 5]"
      ]
     },
     "execution_count": 5,
     "metadata": {},
     "output_type": "execute_result"
    }
   ],
   "source": [
    "N = 5\n",
    "stages = [2, 1, 2, 6, 2, 4, 3, 3]\n",
    "solution(N, stages)"
   ]
  },
  {
   "cell_type": "code",
   "execution_count": 6,
   "id": "6bdecbab",
   "metadata": {},
   "outputs": [
    {
     "data": {
      "text/plain": [
       "[4, 1, 2, 3]"
      ]
     },
     "execution_count": 6,
     "metadata": {},
     "output_type": "execute_result"
    }
   ],
   "source": [
    "N = 4\n",
    "stages = [4, 4, 4, 4, 4]\n",
    "solution(N, stages)"
   ]
  }
 ],
 "metadata": {
  "kernelspec": {
   "display_name": "DH",
   "language": "python",
   "name": "dh"
  },
  "language_info": {
   "codemirror_mode": {
    "name": "ipython",
    "version": 3
   },
   "file_extension": ".py",
   "mimetype": "text/x-python",
   "name": "python",
   "nbconvert_exporter": "python",
   "pygments_lexer": "ipython3",
   "version": "3.8.10"
  }
 },
 "nbformat": 4,
 "nbformat_minor": 5
}
