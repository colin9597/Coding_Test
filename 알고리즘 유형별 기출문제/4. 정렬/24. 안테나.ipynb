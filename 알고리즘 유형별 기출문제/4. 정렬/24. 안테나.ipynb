{
 "cells": [
  {
   "cell_type": "markdown",
   "id": "6d6fc3c6",
   "metadata": {},
   "source": [
    "# 안테나\n",
    "- 난이도 ●○○\n",
    "- 풀이 시간 20분\n",
    "- 시간제한 1초\n",
    "- 메모리 제한 256MB\n",
    "- 기출 2019 SW 마에스트로 입학 테스트\n",
    "- 링크 https://www.acmicpc.net/problem/18310\n",
    "\n",
    "> 일직선상의 마을에 여러 채의 집이 위치해 있는데 이 중에서 특정 위치의 집에 특별히 한 개의 안테나를 설치하기로 결정함.  \n",
    "> 효율성을 위해 안테나로부터 모든 집까지의 거리의 총합이 최소가 되도록 설치하려고 함.  \n",
    "> 이때 안테나는 집이 위치한 곳에만 설치할 수 있고, 논리적으로 동일한 위치에 여러 개의 집이 존재하는 것이 가능함.  \n",
    "> 집들의 위치 값이 주어질 때, 안테나를 설치할 위치를 선택하는 프로그램을 작성하라.  \n",
    "\n",
    "##### <입력조건>\n",
    "- 첫째 줄에 집의 수 N이 자연수로 주어집니다. (1 <= N <= 200,000)\n",
    "- 둘째 줄에 N채의 집에 위치가 공백으로 구분되어 1 이상 100,000 이하의 자연수로 주어집니다.\n",
    "\n",
    "##### <출력조건>\n",
    "- 첫째 줄에 안테나를 설치할 위치의 값을 출력합니다.  \n",
    "    단, 안테나를 설치할 수 있는 위치 값으로 여러 개의 값이 도출될 경우 가장 작은 값을 출력합니다."
   ]
  },
  {
   "cell_type": "markdown",
   "id": "5aeec7f4",
   "metadata": {},
   "source": [
    "### [풀이]"
   ]
  },
  {
   "cell_type": "code",
   "execution_count": 1,
   "id": "e1d36496",
   "metadata": {},
   "outputs": [
    {
     "name": "stdout",
     "output_type": "stream",
     "text": [
      "4\n",
      "5 1 7 9\n",
      "5\n"
     ]
    }
   ],
   "source": [
    "N = int(input())\n",
    "house = list(map(int, input().split()))\n",
    "house.sort()\n",
    "INF = int(1e9)\n",
    "\n",
    "dist = [INF] * N\n",
    "for i in range(N):\n",
    "    left = abs(sum(house[:i]) - house[i]*i)\n",
    "    right = sum(house[i+1:]) - house[i]*(N-i-1)\n",
    "    dist[i] = left + right\n",
    "    if dist[i-1] <= dist[i]:\n",
    "        min_ = dist[i-1]\n",
    "        break\n",
    "        \n",
    "idx = dist.index(min_)\n",
    "print(house[idx])"
   ]
  },
  {
   "cell_type": "markdown",
   "id": "acf52323",
   "metadata": {},
   "source": [
    "> 예제는 맞았으나, 제출시 실패"
   ]
  },
  {
   "cell_type": "markdown",
   "id": "2354019a",
   "metadata": {},
   "source": [
    "### [답안]"
   ]
  },
  {
   "cell_type": "code",
   "execution_count": 2,
   "id": "8b3ba211",
   "metadata": {},
   "outputs": [
    {
     "name": "stdout",
     "output_type": "stream",
     "text": [
      "4\n",
      "5 1 7 9\n",
      "5\n"
     ]
    }
   ],
   "source": [
    "n = int(input())\n",
    "data = list(map(int, input().split()))\n",
    "data.sort()\n",
    "\n",
    "# 중간값(median)을 출력\n",
    "print(data[(n-1)//2])"
   ]
  },
  {
   "cell_type": "markdown",
   "id": "0453b04c",
   "metadata": {},
   "source": [
    "> 단순히 리스트의 중간값을 출력하면 되는 문제..."
   ]
  }
 ],
 "metadata": {
  "kernelspec": {
   "display_name": "DH",
   "language": "python",
   "name": "dh"
  },
  "language_info": {
   "codemirror_mode": {
    "name": "ipython",
    "version": 3
   },
   "file_extension": ".py",
   "mimetype": "text/x-python",
   "name": "python",
   "nbconvert_exporter": "python",
   "pygments_lexer": "ipython3",
   "version": "3.8.10"
  }
 },
 "nbformat": 4,
 "nbformat_minor": 5
}
