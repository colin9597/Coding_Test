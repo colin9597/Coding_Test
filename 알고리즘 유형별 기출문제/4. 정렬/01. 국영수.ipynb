{
 "cells": [
  {
   "cell_type": "markdown",
   "id": "a460580a",
   "metadata": {},
   "source": [
    "# 국영수\n",
    "- 난이도 ●○○\n",
    "- 풀이 시간 20분\n",
    "- 시간 제한 1초\n",
    "- 메모리 제한 256MB\n",
    "- 기출 핵심 유형\n",
    "- 링크 https://www.acmicpc.net/problem/10825\n",
    "\n",
    "> 도현이네 반 학생 N명의 이름과 국어, 영어, 수학 점수가 주어질 때, 다음과 같은 조건으로 학생의 성적을 정렬하라.  \n",
    "> 1. 국어 점수가 감소하는 순서로  \n",
    "> 2. 국어 점수가 같으면 영어 점수가 증가하는 순서로  \n",
    "> 3. 국어 점수와 영어 점수가 같으면 수학 점수가 감소하는 순서로  \n",
    "> 4. 모든 점수가 같으면 이름이 사전 순으로 증가하는 순서로(단, 아스키코드에서 대문자는 소문자보다 작으므로 사전 순으로 앞에 옵니다.)  \n",
    "##### <입력조건> \n",
    "- 첫째 줄에 도현이네 반의 학생 수 N(1 <= N <= 100,000)이 주어집니다.\n",
    "- 둘째 줄부터 한줄에 하나씩 각 학생의 이름, 국어, 영어, 수학 점수가 공백으로 구분해 주어집니다.  \n",
    "- 점수는 1보다 크거나 같고, 100보다 작거나 같은 자연수입니다.\n",
    "- 이름은 알파벳 대소문자로 이루어진 문자열이고, 길이는 10자리를 넘지 않습니다.\n",
    "\n",
    "##### <출력조건>\n",
    "- 문제에 나와 있는 정렬 기준으로 정렬한 후 첫째 줄부터 N개의 줄에 걸쳐 각 학생의 이름을 출력합니다."
   ]
  },
  {
   "cell_type": "markdown",
   "id": "c48537fb",
   "metadata": {},
   "source": [
    "### [풀이]"
   ]
  },
  {
   "cell_type": "code",
   "execution_count": 1,
   "id": "393ed131",
   "metadata": {},
   "outputs": [
    {
     "name": "stdout",
     "output_type": "stream",
     "text": [
      "12\n",
      "Junkyu 50 60 100\n",
      "Sangkeun 80 60 50\n",
      "Sunyoung 80 70 100\n",
      "Soong 50 60 90\n",
      "Haebin 50 60 100\n",
      "Kangsoo 60 80 100\n",
      "Donghyuk 80 60 100\n",
      "Sei 70 70 70\n",
      "Wonseob 70 70 90\n",
      "Sanghyun 70 70 80\n",
      "nsj 80 80 80\n",
      "Taewhan 50 60 90\n",
      "\n",
      "\n",
      "Donghyuk\n",
      "Sangkeun\n",
      "Sunyoung\n",
      "nsj\n",
      "Wonseob\n",
      "Sanghyun\n",
      "Sei\n",
      "Kangsoo\n",
      "Haebin\n",
      "Junkyu\n",
      "Soong\n",
      "Taewhan\n"
     ]
    }
   ],
   "source": [
    "N = int(input())  # 반 학생 수\n",
    "\n",
    "record = []  # 학생의 정보(이름+점수) 입력\n",
    "for _ in range(N):\n",
    "    info = list(map(str, input().split()))\n",
    "    record.append(info)\n",
    "\n",
    "sorted_record = sorted(record, key=lambda x: (-int(x[1]), int(x[2]), -int(x[3]), x[0]))  # 조건에 따라 정렬\n",
    "\n",
    "for name in sorted_record:  # 정렬된 학생 이름 출력\n",
    "    print(name[0])"
   ]
  },
  {
   "cell_type": "markdown",
   "id": "4c7be841",
   "metadata": {},
   "source": [
    "### [답안]"
   ]
  },
  {
   "cell_type": "code",
   "execution_count": 2,
   "id": "6a0721a4",
   "metadata": {},
   "outputs": [
    {
     "name": "stdout",
     "output_type": "stream",
     "text": [
      "12\n",
      "Junkyu 50 60 100\n",
      "Sangkeun 80 60 50\n",
      "Sunyoung 80 70 100\n",
      "Soong 50 60 90\n",
      "Haebin 50 60 100\n",
      "Kangsoo 60 80 100\n",
      "Donghyuk 80 60 100\n",
      "Sei 70 70 70\n",
      "Wonseob 70 70 90\n",
      "Sanghyun 70 70 80\n",
      "nsj 80 80 80\n",
      "Taewhan 50 60 90\n",
      "\n",
      "\n",
      "Donghyuk\n",
      "Sangkeun\n",
      "Sunyoung\n",
      "nsj\n",
      "Wonseob\n",
      "Sanghyun\n",
      "Sei\n",
      "Kangsoo\n",
      "Haebin\n",
      "Junkyu\n",
      "Soong\n",
      "Taewhan\n"
     ]
    }
   ],
   "source": [
    "n = int(input())\n",
    "students = []  # 학생 정보를 담을 리스트\n",
    "\n",
    "# 모든 학생 정보를 입력받기\n",
    "for _ in range(n):\n",
    "    students.append(input().split())\n",
    "\n",
    "students.sort(key=lambda x: (-int(x[1]), int(x[2]), -int(x[3]), x[0]))\n",
    "\n",
    "# 정렬된 학생 정보에서 이름만 출력\n",
    "for student in students:\n",
    "    print(student[0])"
   ]
  }
 ],
 "metadata": {
  "kernelspec": {
   "display_name": "DH",
   "language": "python",
   "name": "dh"
  },
  "language_info": {
   "codemirror_mode": {
    "name": "ipython",
    "version": 3
   },
   "file_extension": ".py",
   "mimetype": "text/x-python",
   "name": "python",
   "nbconvert_exporter": "python",
   "pygments_lexer": "ipython3",
   "version": "3.8.10"
  }
 },
 "nbformat": 4,
 "nbformat_minor": 5
}
