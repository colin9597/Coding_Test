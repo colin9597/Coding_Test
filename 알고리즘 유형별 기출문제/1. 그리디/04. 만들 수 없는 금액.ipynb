{
 "cells": [
  {
   "cell_type": "markdown",
   "id": "b92b6531",
   "metadata": {},
   "source": [
    "# 만들 수 없는 금액\n",
    "- 난이도 ●○○  \n",
    "- 풀이 시간 30분  \n",
    "- 시간 제한 1초\n",
    "- 메모리 제한 128MB\n",
    "- 기출 K 대회 기출\n",
    "\n",
    "> 동네 편의점 주인인 동빈이는 N개의 동전을 가지고 있을 때, 만들 수 없는 양의 정수 금액 중 최솟값을 구하는 프로그램을 작성하라.  \n",
    "\n",
    "##### <입력조건>\n",
    "- 첫째 줄에는 동전의 개수를 나타내는 양의 정수 N이 주어집니다. (1 <= N <= 1,000)\n",
    "- 둘째 줄에는 각 동전의 화폐 단위를 나타내는 N개의 자연수가 주어지며, 각 자연수는 공백으로 구분합니다.  \n",
    "    이때, 각 화폐 단위는 1,000,000 이하의 자연수입니다.  \n",
    "\n",
    "##### <출력조건>\n",
    "- 첫째 줄에 주어진 동전들로 만들 수 없는 양의 정수 금액 중 최솟값을 출력합니다.  "
   ]
  },
  {
   "cell_type": "markdown",
   "id": "5bb51191",
   "metadata": {},
   "source": [
    "### [풀이]"
   ]
  },
  {
   "cell_type": "markdown",
   "id": "eb4511f4",
   "metadata": {},
   "source": [
    "해결 못함."
   ]
  },
  {
   "cell_type": "markdown",
   "id": "60a07d00",
   "metadata": {},
   "source": [
    "### [답안]"
   ]
  },
  {
   "cell_type": "code",
   "execution_count": 1,
   "id": "51a3be61",
   "metadata": {},
   "outputs": [
    {
     "name": "stdout",
     "output_type": "stream",
     "text": [
      "5\n",
      "3 2 1 1 9\n",
      "8\n"
     ]
    }
   ],
   "source": [
    "n = int(input())\n",
    "data = list(map(int, input().split()))\n",
    "data.sort()\n",
    "\n",
    "target = 1\n",
    "for x in data:\n",
    "    # 만들 수 없는 금액을 찾았을 때 반복 종료\n",
    "    if target < x:\n",
    "        break\n",
    "    target += x\n",
    "    \n",
    "# 만들 수 없는 금액 출력\n",
    "print(target)"
   ]
  }
 ],
 "metadata": {
  "kernelspec": {
   "display_name": "DH",
   "language": "python",
   "name": "dh"
  },
  "language_info": {
   "codemirror_mode": {
    "name": "ipython",
    "version": 3
   },
   "file_extension": ".py",
   "mimetype": "text/x-python",
   "name": "python",
   "nbconvert_exporter": "python",
   "pygments_lexer": "ipython3",
   "version": "3.8.10"
  }
 },
 "nbformat": 4,
 "nbformat_minor": 5
}
