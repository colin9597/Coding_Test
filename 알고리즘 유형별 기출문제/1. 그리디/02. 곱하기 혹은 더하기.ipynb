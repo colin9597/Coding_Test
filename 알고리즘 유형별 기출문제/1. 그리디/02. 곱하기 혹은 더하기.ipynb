{
 "cells": [
  {
   "cell_type": "markdown",
   "id": "6775fa75",
   "metadata": {},
   "source": [
    "# 곱하기 혹은 더하기\n",
    "- 난이도 ●○○\n",
    "- 풀이 시간 30분\n",
    "- 시간 제한 1초\n",
    "- 메모리 제한 128MB\n",
    "- 기출 Facebook 인터뷰\n",
    "\n",
    "> 각 자리가 숫자(0부터 9)로만 이루어진 문자열 S가 있음.  \n",
    "> 왼쪽부터 오른쪽으로 하나씩 모든 숫자를 확인하며 숫자 사이에 'x' 혹은 '+' 연산자를 넣어 결과적으로 만들 수 있는 가장 큰 수를 구하라.  \n",
    "> 단, +보다 x를 먼저 계산하는 일반적인 방식과는 달리, 모든 연산은 왼쪽에서부터 순서대로 이루어진다고 가정함.\n",
    "\n",
    "##### <입력조건>\n",
    "- 첫째 줄에 여러 개의 숫자로 구성된 하나의 문자열 S가 주어집니다. (1 <= S의 길이 <= 20)\n",
    "\n",
    "##### <출력조건>\n",
    "- 첫째 줄에 만들어질 수 있는 가장 큰 수를 출력합니다."
   ]
  },
  {
   "cell_type": "markdown",
   "id": "1b31fc46",
   "metadata": {},
   "source": [
    "### [풀이]"
   ]
  },
  {
   "cell_type": "code",
   "execution_count": 1,
   "id": "a042173c",
   "metadata": {},
   "outputs": [
    {
     "name": "stdout",
     "output_type": "stream",
     "text": [
      "02984\n",
      "576\n"
     ]
    }
   ],
   "source": [
    "n_list = list(map(int, input()))  # 숫자열 입력\n",
    "result = 0  # 결과 초기화\n",
    "\n",
    "flag = True\n",
    "for i in n_list:\n",
    "    if i != 0:  # 0이 아닌 숫자라면 연산 수행\n",
    "        if flag:  # 0이 아닌 수를 초기 값으로 설정\n",
    "            result = i\n",
    "            flag = False\n",
    "            continue\n",
    "        if i == 1:  # 1인 경우 더하기 수행\n",
    "            result += i\n",
    "        else:  # 1이 아니라면 곱하기 수행\n",
    "            result *= i\n",
    "\n",
    "print(result)"
   ]
  },
  {
   "cell_type": "markdown",
   "id": "a8b7c1f4",
   "metadata": {},
   "source": [
    "### [답안]"
   ]
  },
  {
   "cell_type": "code",
   "execution_count": 2,
   "id": "d2e6f22a",
   "metadata": {},
   "outputs": [
    {
     "name": "stdout",
     "output_type": "stream",
     "text": [
      "02984\n",
      "576\n"
     ]
    }
   ],
   "source": [
    "data = input()\n",
    "\n",
    "# 첫 번째 문자를 숫자로 변경하여 대입\n",
    "result = int(data[0])\n",
    "\n",
    "for i in range(1, len(data)):\n",
    "    # 두 수 중에서 하나라도 '0' 혹은 '1'인 경우, 곱하기보다는 더하기 수행\n",
    "    num = int(data[i])\n",
    "    if num <= 1 or result <= 1:\n",
    "        result += num\n",
    "    else:\n",
    "        result *= num\n",
    "        \n",
    "print(result)"
   ]
  }
 ],
 "metadata": {
  "kernelspec": {
   "display_name": "DH",
   "language": "python",
   "name": "dh"
  },
  "language_info": {
   "codemirror_mode": {
    "name": "ipython",
    "version": 3
   },
   "file_extension": ".py",
   "mimetype": "text/x-python",
   "name": "python",
   "nbconvert_exporter": "python",
   "pygments_lexer": "ipython3",
   "version": "3.8.10"
  }
 },
 "nbformat": 4,
 "nbformat_minor": 5
}
