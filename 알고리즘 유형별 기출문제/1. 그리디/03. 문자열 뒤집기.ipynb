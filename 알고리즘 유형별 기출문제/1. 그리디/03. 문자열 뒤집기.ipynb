{
 "cells": [
  {
   "cell_type": "markdown",
   "id": "c8c4f3ae",
   "metadata": {},
   "source": [
    "# 문자열 뒤집기\n",
    "- 난이도 ●○○\n",
    "- 풀이 시간 20분\n",
    "- 시간 제한 2초\n",
    "- 메모리 제한 128MB\n",
    "- 기출 핵심 유형\n",
    "- 링크 https://www.acmicpc.net/problem/1439\n",
    "\n",
    "> 다솜이는 0과 1로만 이루어진 문자열 S를 가지고 있음.  \n",
    "> 다솜이는 이 문자열 S에 있는 모든 숫자를 전부 같게 만들려고 함.  \n",
    "> 다솜이가 할 수 있는 행동은 S에서 연속된 하나 이상의 숫자를 잡고 모두 뒤집는 것임. (뒤집는 것은 1을 0으로, 0을 1로 바꾸는 것을 의미)  \n",
    "> 문자열 S가 주어졌을 때, 다솜이가 해야 하는 행동의 최소 횟수를 출력하라.  \n",
    "\n",
    "##### <입력조건>\n",
    "- 첫째 줄에 0과 1로만 이루어진 문자열 S가 주어집니다. S의 길이는 100만보다 작습니다.  \n",
    "\n",
    "##### <출력조건>\n",
    "- 첫째 줄에 다솜이가 해야 하는 행동의 최소 횟수를 출력합니다."
   ]
  },
  {
   "cell_type": "markdown",
   "id": "87f8a8f8",
   "metadata": {},
   "source": [
    "### [풀이]"
   ]
  },
  {
   "cell_type": "code",
   "execution_count": 1,
   "id": "fc05a297",
   "metadata": {},
   "outputs": [
    {
     "name": "stdout",
     "output_type": "stream",
     "text": [
      "0001100\n",
      "1\n"
     ]
    }
   ],
   "source": [
    "S = list(map(int, input()))  # 문자열 입력\n",
    "group = [S[0]]  # 그룹 리스트 초기화\n",
    "\n",
    "for i in range(1, len(S)):  # 두 번째 원소부터 모든 원소를 확인하며\n",
    "    if S[i-1] != S[i]:  # 수가 바뀌는 경우, 바뀐 수를 그룹 리스트에 추가\n",
    "        group.append(S[i])\n",
    "\n",
    "print(min(group.count(0), group.count(1)))  # 바꾸는 횟수가 더 적은 경우 출력"
   ]
  },
  {
   "cell_type": "markdown",
   "id": "fe2b92cd",
   "metadata": {},
   "source": [
    "### [답안]"
   ]
  },
  {
   "cell_type": "code",
   "execution_count": 2,
   "id": "4fb6b8ac",
   "metadata": {},
   "outputs": [
    {
     "name": "stdout",
     "output_type": "stream",
     "text": [
      "0001100\n",
      "1\n"
     ]
    }
   ],
   "source": [
    "data = input()\n",
    "count0 = 0  # 전부 0으로 바꾸는 경우\n",
    "count1 = 0  # 전부 1로 바꾸는 경우\n",
    "\n",
    "# 첫 번째 원소에 대해서 처리\n",
    "if data[0] == '1':\n",
    "    count0 += 1\n",
    "else:\n",
    "    count1 += 1\n",
    "    \n",
    "# 두 번째 원소부터 모든 원소를 확인하며\n",
    "for i in range(len(data)-1):\n",
    "    if data[i] != data[i+1]:\n",
    "        # 다음 수에서 1로 바뀌는 경우\n",
    "        if data[i+1] == '1':\n",
    "            count0 += 1\n",
    "        # 다음 수에서 0으로 바뀌는 경우\n",
    "        else:\n",
    "            count1 += 1\n",
    "\n",
    "print(min(count0, count1))"
   ]
  }
 ],
 "metadata": {
  "kernelspec": {
   "display_name": "DH",
   "language": "python",
   "name": "dh"
  },
  "language_info": {
   "codemirror_mode": {
    "name": "ipython",
    "version": 3
   },
   "file_extension": ".py",
   "mimetype": "text/x-python",
   "name": "python",
   "nbconvert_exporter": "python",
   "pygments_lexer": "ipython3",
   "version": "3.8.10"
  }
 },
 "nbformat": 4,
 "nbformat_minor": 5
}
