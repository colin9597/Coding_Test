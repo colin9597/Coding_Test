{
 "cells": [
  {
   "cell_type": "markdown",
   "id": "ff088e58",
   "metadata": {},
   "source": [
    "# 모험가 길드\n",
    "- 난이도 ●○○\n",
    "- 풀이시간 30분\n",
    "- 시간제한 1초\n",
    "- 메모리 제한 128MB\n",
    "- 기출 핵심 유형  \n",
    "\n",
    "> 모험가 그룹을 안전하게 구성하고자 공포도가 X인 모험가는 반드시 X명 이상으로 구성한 모험가 그룹에 참여해야 함.  \n",
    "> 이때 최대 몇 개의 모험가 그룹을 만들 수 있는가?  \n",
    "> **단, 모든 모험가를 특정한 그룹에 넣을 필요는 없음**\n",
    "\n",
    "##### <입력조건>  \n",
    "- 첫째 줄에 모험가의 수 N이 주어집니다. (1 <= N <= 100,000)\n",
    "- 둘째 줄에 각 모험가의 공포도의 값을 N 이하의 자연수로 주어지며 각 자연수는 공백으로 구분합니다.\n",
    "\n",
    "##### <출력조건>\n",
    "- 여행을 떠날 수 있는 그룹 수의 최댓값을 출력합니다."
   ]
  },
  {
   "cell_type": "markdown",
   "id": "5df0ec53",
   "metadata": {},
   "source": [
    "### [풀이]"
   ]
  },
  {
   "cell_type": "code",
   "execution_count": 1,
   "id": "8755a8cf",
   "metadata": {},
   "outputs": [
    {
     "name": "stdout",
     "output_type": "stream",
     "text": [
      "5\n",
      "2 3 1 2 2\n",
      "2\n"
     ]
    }
   ],
   "source": [
    "N = int(input())  # 모험가의 수\n",
    "fear = list(map(int, input().split()))  # 각 모험가의 공포도\n",
    "fear.sort()  # 각 공포도를 오름차순 정렬\n",
    "\n",
    "group = 0  # 최대 그룹의 수\n",
    "cnt = 0  # 긱 그룹의 인원 수\n",
    "\n",
    "for i in fear:\n",
    "    cnt += 1  # 그룹 인원에 추가\n",
    "    if cnt == i:  # 현재 그룹인원과 공포도가 같다면\n",
    "        group += 1  # 하나의 그룹 생성\n",
    "        cnt = 0  # 그룹 인원 초기화\n",
    "\n",
    "print(group)  # 최종 최대 그룹의 수"
   ]
  },
  {
   "cell_type": "markdown",
   "id": "9dcbf497",
   "metadata": {},
   "source": [
    "> 최댓의 그룹 수를 구할 수 없음.(모든 모험가가 반드시 모험을 떠나야하는 건 아님)"
   ]
  },
  {
   "cell_type": "markdown",
   "id": "a48bc237",
   "metadata": {},
   "source": [
    "### [답안]"
   ]
  },
  {
   "cell_type": "code",
   "execution_count": 2,
   "id": "f8682864",
   "metadata": {},
   "outputs": [
    {
     "name": "stdout",
     "output_type": "stream",
     "text": [
      "5 \n",
      "2 3 1 2 2\n",
      "2\n"
     ]
    }
   ],
   "source": [
    "n = int(input())\n",
    "data = list(map(int, input().split()))\n",
    "data.sort()\n",
    "\n",
    "result = 0 # 총 그룹의 수\n",
    "count = 0 # 현재 그룹에 포함된 모험가의 수\n",
    "\n",
    "for i in data:  # 공보도를 낮은 것부터 하나씩 확인하며\n",
    "    count += 1   # 현재 그룹에 해당 모험가를 포함시키기\n",
    "    if count >= i:  # 현재 그룹에 포함된 모험가의 수가 현재의 공포도 이상이라면, 그룹 결성\n",
    "        result += 1  # 총 그룹의 수 증가시키기\n",
    "        count = 0  # 현재 그룹에 포함된 모험가의 수 초기화\n",
    "\n",
    "print(result)  # 총 그룹의 수 출력"
   ]
  }
 ],
 "metadata": {
  "kernelspec": {
   "display_name": "DH",
   "language": "python",
   "name": "dh"
  },
  "language_info": {
   "codemirror_mode": {
    "name": "ipython",
    "version": 3
   },
   "file_extension": ".py",
   "mimetype": "text/x-python",
   "name": "python",
   "nbconvert_exporter": "python",
   "pygments_lexer": "ipython3",
   "version": "3.8.10"
  }
 },
 "nbformat": 4,
 "nbformat_minor": 5
}
