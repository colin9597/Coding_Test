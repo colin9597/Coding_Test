{
 "cells": [
  {
   "cell_type": "markdown",
   "id": "d57e5e01",
   "metadata": {},
   "source": [
    "# 여행 계획\n",
    "- 난이도 ●●○\n",
    "- 풀이 시간 40분\n",
    "- 시간 제한 1초\n",
    "- 메모리 제한 128MB\n",
    "- 기출 핵심 유형\n",
    "\n",
    "> 한울이의 나라에는 N개의 여행지가 있으며, 임의의 두 여행지 사이에는 두 여행지를 연결하는 도로가 존재할 수 있음.  \n",
    "> 이때, 여행지가 도로로 연결되어 있다면 양방향으로 이동이 가능하다는 의미임.  \n",
    "> 하나의 여행 계획을 세운 뒤에 가능한지의 여부를 판단하라.\n",
    "\n",
    "##### <입력조건>\n",
    "- 첫째 줄에 여행지의 수 N과 여행 계획에 속한 도시의 수 M이 주어집니다. (1 <= N, M <= 500)\n",
    "- 다음 N개의 줄에 걸쳐 N x N 행렬을 통해 임의의 두 여행지가 서로 연결되어 있는지의 여부가 주어집니다.  \n",
    "    그 값이 1이라면 서로 연결되었다는 의미이며, 0이라면 서로 연결되어 있지 않다는 의미 입니다.\n",
    "- 마지막 줄에 한울이의 여행 계획에 포함된 여행지의 번호들이 주어지며 공백으로 구분합니다.\n",
    "\n",
    "##### <출력조건>\n",
    "- 첫째 줄에 하눌이의 여행 계획이 가능하다면 YES를, 불가능하다면 NO를 출력합니다."
   ]
  },
  {
   "cell_type": "markdown",
   "id": "f36d4fb6",
   "metadata": {},
   "source": [
    "### [풀이]"
   ]
  },
  {
   "cell_type": "code",
   "execution_count": 1,
   "id": "ac99ea08",
   "metadata": {},
   "outputs": [
    {
     "name": "stdout",
     "output_type": "stream",
     "text": [
      "5 4\n",
      "0 1 0 1 1\n",
      "1 0 1 1 0\n",
      "0 1 0 0 0\n",
      "1 1 0 0 0\n",
      "1 0 0 0 0\n",
      "2 3 4 3\n",
      "YES\n"
     ]
    }
   ],
   "source": [
    "def find_parent(parent, x):  # 특정 원소가 속한 집합을 찾기\n",
    "    if parent[x] != x:  # 루트 노드가 아니라면, 루트 노드를 찾을 때까지 재귀적으로 호출\n",
    "        parent[x] = find_parent(parent, parent[x])\n",
    "    return parent[x]\n",
    "\n",
    "def union_parent(parent, a, b):  # 두 원소가 속한 집합을 합치기\n",
    "    a = find_parent(parent, a)\n",
    "    b = find_parent(parent, b)\n",
    "    if a < b:\n",
    "        parent[b] = a\n",
    "    else:\n",
    "        parent[a] = b\n",
    "\n",
    "N, M = map(int,input().split())  # 여행지의 개수와 여행 계획에 속한 여행지의 개수 입력받기\n",
    "parent = [0] * (N+1)  # 부모 테이블 초기화\n",
    "\n",
    "for i in range(1, N+1):  # 부모 테이블상에서, 부모를 자기 자신으로 초기화\n",
    "    parent[i] = i\n",
    "    \n",
    "for i in range(1, N+1):  # union 연산을 각각 수행\n",
    "    connect = list(map(int, input().split()))\n",
    "    for j in range(N): \n",
    "        if connect[j] == 1:  # 연결된 경우 union 연산 수행\n",
    "            union_parent(parent, i, j+1)\n",
    "\n",
    "route = list(map(int, input().split()))  # 여행 경로 입력받기\n",
    "unique_route = list(set(route))\n",
    "root = parent[unique_route[0]]  # 여행 목적지 부모 노드 \n",
    "\n",
    "flag = True\n",
    "for i in unique_route[1:]:\n",
    "    if root != parent[i]:  # 여행 계획에 속하는 모든 노드의 루트가 동일한지 확인\n",
    "        flag = False\n",
    "        break\n",
    "\n",
    "if flag:  # 여행 계획에 속하는 모든 노드가 서로 연결되어 있는지(루트가 동일한지) 확인\n",
    "    print(\"YES\")\n",
    "else:\n",
    "    print(\"NO\")"
   ]
  },
  {
   "cell_type": "markdown",
   "id": "7806353a",
   "metadata": {},
   "source": [
    "### [답안]"
   ]
  },
  {
   "cell_type": "code",
   "execution_count": 2,
   "id": "b07ae251",
   "metadata": {},
   "outputs": [
    {
     "name": "stdout",
     "output_type": "stream",
     "text": [
      "5 4\n",
      "0 1 0 1 1\n",
      "1 0 1 1 0\n",
      "0 1 0 0 0\n",
      "1 1 0 0 0\n",
      "1 0 0 0 0\n",
      "2 3 4 3\n",
      "YES\n"
     ]
    }
   ],
   "source": [
    "# 특정 원소가 속한 집합을 찾기\n",
    "def find_parent(parent, x):\n",
    "    # 루트 노드가 아니라면, 루트 노드를 찾을 때까지 재귀적으로 호출\n",
    "    if parent[x] != x:\n",
    "        parent[x] = find_parent(parent, parent[x])\n",
    "    return parent[x]\n",
    "\n",
    "# 두 원소가 속한 집합을 합치기\n",
    "def union_parent(parent, a, b):\n",
    "    a = find_parent(parent, a)\n",
    "    b = find_parent(parent, b)\n",
    "    if a < b:\n",
    "        parent[b] = a\n",
    "    else:\n",
    "        parent[a] = b\n",
    "        \n",
    "# 여행지의 개수와 여행 계획에 속한 여행지의 개수 입력받기\n",
    "n, m = map(int, input().split())\n",
    "parent = [0] * (n+1)  # 부모 테이블 초기화\n",
    "\n",
    "# 부모 테이블상에서, 부모를 자기 자신으로 초기화\n",
    "for i in range(1, n+1):\n",
    "    parent[i] = i\n",
    "    \n",
    "# union 연산을 각각 수행\n",
    "for i in range(n):\n",
    "    data = list(map(int, input().split()))\n",
    "    for j in range(n):\n",
    "        if data[j] == 1:  # 연결된 경우 union 연산 수행\n",
    "            union_parent(parent, i+1, j+1)\n",
    "            \n",
    "# 여행 계획 입력받기\n",
    "plan = list(map(int, input().split()))\n",
    "\n",
    "result = True\n",
    "# 여행 계획에 속하는 모든 노드의 루트가 동일한지 확인\n",
    "for i in range(m-1):\n",
    "    if find_parent(parent, plan[i]) != find_parent(parent, plan[i+1]):\n",
    "        result = False\n",
    "        \n",
    "# 여행 계획에 속하는 모든 노드가 서로 연결되어 있는지(루트가 동일한지) 확인\n",
    "if result:\n",
    "    print(\"YES\")\n",
    "else:\n",
    "    print(\"NO\")"
   ]
  }
 ],
 "metadata": {
  "kernelspec": {
   "display_name": "DH",
   "language": "python",
   "name": "dh"
  },
  "language_info": {
   "codemirror_mode": {
    "name": "ipython",
    "version": 3
   },
   "file_extension": ".py",
   "mimetype": "text/x-python",
   "name": "python",
   "nbconvert_exporter": "python",
   "pygments_lexer": "ipython3",
   "version": "3.8.10"
  }
 },
 "nbformat": 4,
 "nbformat_minor": 5
}
