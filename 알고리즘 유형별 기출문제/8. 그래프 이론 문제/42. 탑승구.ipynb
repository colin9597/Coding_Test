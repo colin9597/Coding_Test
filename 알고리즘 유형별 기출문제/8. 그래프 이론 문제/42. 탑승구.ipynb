{
 "cells": [
  {
   "cell_type": "markdown",
   "id": "e2befc7c",
   "metadata": {},
   "source": [
    "# 탑승구\n",
    "- 난이도 ●●○\n",
    "- 풀이 시간 50분\n",
    "- 시간 제한 1초\n",
    "- 메모리 제한 128MB\n",
    "- 기출 CCC\n",
    "\n",
    "> 공항에는 G개의 탑승구가 있으며, 각각의 탑승구는 1번부터 G번까지의 번호로 구분됨.  \n",
    "> 공항에는 P개의 비행기가 차례때로 도착할 예정이며, i번째 비행기를 1번부터 g번째(1 <= g <= G) 탑승구 중 하나에 영구적으로 도킹해야 함.  \n",
    "> 이때, 다른 비행기가 도킹하지 않은 탑승구에만 도킹할 수 있음.  \n",
    "> 또한 P개의 비행기를 순서대로 도킹하다가 만약에 어떠한 탑승구에도 도킹할 수 없는 비행기가 나오는 경우,  그 시점에서 공항 운행 중지.  \n",
    "> 공항의 관리자는 최대한 많은 비행기를 공항에 도킹하고자 함.  \n",
    "> 비행기를 최대 몇 대 도킹할 수 있는지를 출력하는 프로그램을 작성하라.  \n",
    "\n",
    "##### <입력조건>\n",
    "- 첫째 줄에는 탑승구의 수 G(1 <= G <= 100,000)가 주어집니다.  \n",
    "- 둘째 줄에는 비행기의 수 P(1 <= P <= 100,000)가 주어집니다.\n",
    "- 다음 P개의 줄에는 각 비행기가 도킹할 수 있는 탑승구의 정보 g(1 <= g <= G)가 주어집니다.  \n",
    "    이는 i번째 비행기가 1번부터 g번째 탑승구 중 하나에 도킹할 수 있다는 의미입니다.\n",
    "    \n",
    "##### <출력조건>\n",
    "- 첫째 줄에 도킹할 수 있는 비행기의 최대 개수를 출력합니다."
   ]
  },
  {
   "cell_type": "markdown",
   "id": "d5982f9e",
   "metadata": {},
   "source": [
    "### [풀이]"
   ]
  },
  {
   "cell_type": "code",
   "execution_count": 1,
   "id": "22d5485c",
   "metadata": {},
   "outputs": [
    {
     "name": "stdout",
     "output_type": "stream",
     "text": [
      "4\n",
      "3\n",
      "4\n",
      "1\n",
      "1\n",
      "2\n"
     ]
    }
   ],
   "source": [
    "G = int(input())  # 탑승구의 개수 입력받기\n",
    "visited = [False] * G  # 탑승구 방문 여부\n",
    "\n",
    "P = int(input())  # 비행기의 개수 입력받기\n",
    "flag = False\n",
    "for _ in range(P):\n",
    "    g = int(input())  # 각 비행기가 도킹할 수 있는 탑승구의 정보 입력받기\n",
    "    if flag:  # 탑승구에 자리가 없다면\n",
    "        continue\n",
    "    for i in range(g-1, -1, -1):\n",
    "        if not visited[i]:  # 탑승구에 자리가 있다면\n",
    "            visited[i] = True\n",
    "            flag = False\n",
    "            break\n",
    "        flag = True\n",
    "\n",
    "print(visited.count(True))  # 도킹할 수 있는 비행기의 최대 개수 출력"
   ]
  },
  {
   "cell_type": "markdown",
   "id": "7a0f4ca1",
   "metadata": {},
   "source": [
    "### [답안]"
   ]
  },
  {
   "cell_type": "code",
   "execution_count": 2,
   "id": "7efa3174",
   "metadata": {},
   "outputs": [
    {
     "name": "stdout",
     "output_type": "stream",
     "text": [
      "4\n",
      "3\n",
      "4\n",
      "1\n",
      "1\n",
      "2\n"
     ]
    }
   ],
   "source": [
    "# 특정 원소가 속한 집합을 찾기\n",
    "def find_parent(parent, x):\n",
    "    # 루트 노드가 아니라면, 루트 노드를 찾을 때까지 재귀적으로 호출\n",
    "    if parent[x] != x:\n",
    "        parent[x] = find_parent(parent, parent[x])\n",
    "    return parent[x]\n",
    "\n",
    "# 두 원소가 속한 집합을 합치기\n",
    "def union_parent(parent, a, b):\n",
    "    a = find_parent(parent, a)\n",
    "    b = find_parent(parent, b)\n",
    "    if a < b:\n",
    "        parent[b] = a\n",
    "    else:\n",
    "        parent[a] = b\n",
    "        \n",
    "# 탑승구의 개수 입력받기\n",
    "g = int(input())\n",
    "# 비행기의 개수 입력받기\n",
    "p = int(input())\n",
    "\n",
    "# 부모 테이블 초기화\n",
    "parent = [0] * (g+1)\n",
    "\n",
    "# 부모 테이블상에서, 부모를 자기 자신으로 초기화\n",
    "for i in range(1, g+1):\n",
    "    parent[i] = i\n",
    "    \n",
    "result = 0\n",
    "for _ in range(p):\n",
    "    data = find_parent(parent, int(input()))  # 현재 비행기의 탑승구의 루트 확인\n",
    "    if data == 0:  # 현재 루트가 0이라면 종료,\n",
    "        break\n",
    "    union_parent(parent, data, data-1)  # 그렇지 않다면 바로 왼쪽의 집합과 합치기\n",
    "    result += 1\n",
    "    \n",
    "print(result)"
   ]
  }
 ],
 "metadata": {
  "kernelspec": {
   "display_name": "DH",
   "language": "python",
   "name": "dh"
  },
  "language_info": {
   "codemirror_mode": {
    "name": "ipython",
    "version": 3
   },
   "file_extension": ".py",
   "mimetype": "text/x-python",
   "name": "python",
   "nbconvert_exporter": "python",
   "pygments_lexer": "ipython3",
   "version": "3.8.10"
  }
 },
 "nbformat": 4,
 "nbformat_minor": 5
}
