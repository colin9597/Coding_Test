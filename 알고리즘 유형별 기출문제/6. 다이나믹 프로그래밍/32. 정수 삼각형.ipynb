{
 "cells": [
  {
   "cell_type": "markdown",
   "id": "ba285429",
   "metadata": {},
   "source": [
    "# 정수 삼각형\n",
    "- 난이도 ●◐○\n",
    "- 풀이 시간 30분\n",
    "- 시간 제한 2초\n",
    "- 메모리 제한 128MB\n",
    "- 기출 IOI 1994년도\n",
    "- 링크 https://www.acmicpc.net/problem/1932\n",
    "\n",
    "> 정수 삼각형의 맨 위층부터 시작해서 아래에 있는 수 중 하나를 선택하여 아래층으로 내려올 때,  \n",
    "> 이제까지 선택된 수의 합이 최대가 되는 경로를 구하는 프로그램을 작성하라.  \n",
    "> 아래층에 있는 수는 현재 층에서 선택된 수의 대각선 왼쪽 또는 대각선 오른쪽에 있는 것 중에서만 선택할 수 있음.  \n",
    "\n",
    "##### <입력조건>\n",
    "- 첫째 줄에 삼각형의 크기 n(1 <= n <= 500)이 주어지고, 둘째 줄부터 n+1번째 줄까지 정수 삼각형이 주어집니다.  \n",
    "\n",
    "##### <출력조건>\n",
    "- 첫째 줄에 합이 최대가 되는 경로에 있는 수의 합을 출력합니다.  "
   ]
  },
  {
   "cell_type": "markdown",
   "id": "6c15420f",
   "metadata": {},
   "source": [
    "### [풀이]"
   ]
  },
  {
   "cell_type": "code",
   "execution_count": 1,
   "id": "c35f1600",
   "metadata": {},
   "outputs": [
    {
     "name": "stdout",
     "output_type": "stream",
     "text": [
      "5\n",
      "7\n",
      "3 8\n",
      "8 1 0\n",
      "2 7 4 4\n",
      "4 5 2 6 5\n",
      "30\n"
     ]
    }
   ],
   "source": [
    "n = int(input())  # 삼각형의 크기\n",
    "int_triangle = [list(map(int,input().split())) for _ in range(n)]  # 정수 삼각형\n",
    "d = [[0]*(i+1) for i in range(n)]  # 다이나믹 프로그래밍을 위한 DP 테이블 초기화\n",
    "d[0][0] = int_triangle[0][0] \n",
    "\n",
    "for i in range(1, n):  # 다이나믹 프로그래밍으로 두 번째 줄부터 내려가면서 확인\n",
    "    for j in range(len(d[i])):\n",
    "        if j == 0:  # 맨 왼쪽에 있는 정수의 경우\n",
    "            d[i][j] = int_triangle[i][j] + d[i-1][j]\n",
    "        elif j == (len(d[i]) - 1):  # 맨 오른쪽에 있는 정수의 경우\n",
    "            d[i][j] = int_triangle[i][j] + d[i-1][j-1]\n",
    "        else:\n",
    "            d[i][j] = int_triangle[i][j] + max(d[i-1][j-1], d[i-1][j])\n",
    "\n",
    "print(max(d[n-1]))  # 최댓값 출력"
   ]
  },
  {
   "cell_type": "markdown",
   "id": "76f33a71",
   "metadata": {},
   "source": [
    "### [답안]"
   ]
  },
  {
   "cell_type": "code",
   "execution_count": 2,
   "id": "65e5bb03",
   "metadata": {},
   "outputs": [
    {
     "name": "stdout",
     "output_type": "stream",
     "text": [
      "5\n",
      "7\n",
      "3 8\n",
      "8 1 0\n",
      "2 7 4 4\n",
      "4 5 2 6 5\n",
      "30\n"
     ]
    }
   ],
   "source": [
    "n = int(input())\n",
    "dp = []  # 다이나믹 프로그래밍을 위한 DP 테이블 초기화\n",
    "\n",
    "for _ in range(n):\n",
    "    dp.append(list(map(int, input().split())))\n",
    "    \n",
    "# 다이나믹 프로그래밍으로 두 번째 줄부터 내려가면서 확인\n",
    "for i in range(1, n):\n",
    "    for j in range(i+1):\n",
    "        # 왼쪽 위에서 내려오는 경우\n",
    "        if j == 0:\n",
    "            up_left = 0\n",
    "        else:\n",
    "            up_left = dp[i-1][j-1]\n",
    "        # 바로 위에서 내려오는 경우\n",
    "        if j == i:\n",
    "            up = 0\n",
    "        else:\n",
    "            up = dp[i-1][j]\n",
    "        # 최대 합을 저장\n",
    "        dp[i][j] = dp[i][j] + max(up_left, up)\n",
    "        \n",
    "print(max(dp[n-1]))"
   ]
  }
 ],
 "metadata": {
  "kernelspec": {
   "display_name": "DH",
   "language": "python",
   "name": "dh"
  },
  "language_info": {
   "codemirror_mode": {
    "name": "ipython",
    "version": 3
   },
   "file_extension": ".py",
   "mimetype": "text/x-python",
   "name": "python",
   "nbconvert_exporter": "python",
   "pygments_lexer": "ipython3",
   "version": "3.8.10"
  }
 },
 "nbformat": 4,
 "nbformat_minor": 5
}
