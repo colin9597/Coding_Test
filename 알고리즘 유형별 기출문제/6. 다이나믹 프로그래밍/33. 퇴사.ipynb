{
 "cells": [
  {
   "cell_type": "markdown",
   "id": "b66b2386",
   "metadata": {},
   "source": [
    "# 퇴사\n",
    "- 난이도 ●●○\n",
    "- 풀이 시간 30분\n",
    "- 시간 제한 2초\n",
    "- 메모리 제한 512MB\n",
    "- 기출 삼성전자 SW 역량테스트\n",
    "- 링크 https://www.acmicpc.net/problem/14501\n",
    "\n",
    "> 상담원으로 일하고 있는 백준이는 오늘부터 N+1일째 되는 날 퇴사를 하기 위해서, 남은 N일 동안 최대한 많은 상담을 하려고 함.  \n",
    "> 백준이는 비서에게 최대한 많은 상담을 잡으라고 부탁을 했고, 비서는 하루에 하나씩 서로 다른 사람의 상담을 잡아 놓았음.  \n",
    "> 각각의 상담은 상담을 완료하는 데 걸리는 기간 T_i와 상담을 했을 때 받을 수 있는 금액 P_i로 이루어져 있음.  \n",
    "> 상담을 적절히 했을 때, 백준이가 얻을 수 있는 최대 수익을 구하는 프로그램을 작성하라.  \n",
    "\n",
    "##### <입력조건>\n",
    "- 첫째 줄에 N(1 <= N <= 15)이 주어집니다.  \n",
    "- 둘째 줄부터 N개의 줄에 T_i와 P_i가 공백으로 구분되어서 주어지며, 1일부터 N일까지 순서대로 주어집니다.(1 <= T_i <= 5, 1 <= P_i <= 1,000)\n",
    "\n",
    "##### <출력조건>\n",
    "- 첫째 줄에 백준이가 얻을 수 있는 최대 이익을 출력합니다."
   ]
  },
  {
   "cell_type": "markdown",
   "id": "c9a8bae5",
   "metadata": {},
   "source": [
    "### [풀이]"
   ]
  },
  {
   "cell_type": "code",
   "execution_count": 1,
   "id": "47a4a4b6",
   "metadata": {},
   "outputs": [
    {
     "name": "stdout",
     "output_type": "stream",
     "text": [
      "7\n",
      "3 10\n",
      "5 20\n",
      "1 10\n",
      "1 20\n",
      "2 15\n",
      "4 40\n",
      "2 200\n",
      "45\n"
     ]
    }
   ],
   "source": [
    "N = int(input())  # 전체 상담 개수 입력받기\n",
    "d = [0] * (N+1)  # 다이나믹 프로그래밍을 위한 1차원 dp 테이블 초기화\n",
    "for i in range(1, N+1):\n",
    "    T, P = map(int, input().split())  # 각 상담을 완료하는 데 걸리는 시간 & 받을 수 있는 금액 입력받기\n",
    "    if d[i] < d[i-1]:  # 전날 금액보다 적을 시, 상담X\n",
    "        d[i] = d[i-1]  \n",
    "    if i+T <= N+1:  # 점화식에 맞게, 현재까지의 최고 이익 계산\n",
    "        d[i+T-1] = max(d[i-1]+P, d[i+T-1])\n",
    "\n",
    "print(max(d))  # 최고 이익 출력"
   ]
  },
  {
   "cell_type": "markdown",
   "id": "df32ae21",
   "metadata": {},
   "source": [
    "### [답안]"
   ]
  },
  {
   "cell_type": "code",
   "execution_count": 2,
   "id": "d8dd4d30",
   "metadata": {},
   "outputs": [
    {
     "name": "stdout",
     "output_type": "stream",
     "text": [
      "7\n",
      "3 10\n",
      "5 20\n",
      "1 10\n",
      "1 20\n",
      "2 15\n",
      "4 40\n",
      "2 200\n",
      "45\n"
     ]
    }
   ],
   "source": [
    "n = int(input())  # 전체 상담 개수\n",
    "t = []  # 각 상담을 완료하는 데 걸리는 시간\n",
    "p = []  # 각 상담을 완료했을 때 받을 수 있는 금액\n",
    "dp = [0] * (n+1)  # 다이나믹 프로그래밍을 위한 1차원 dp 테이블 초기화\n",
    "max_value = 0\n",
    "\n",
    "for _ in range(n):\n",
    "    x, y = map(int, input().split())\n",
    "    t.append(x)\n",
    "    p.append(y)\n",
    "\n",
    "# 리스트를 뒤에서부터 거꾸로 확인\n",
    "for i in range(n-1, -1, -1):\n",
    "    time = t[i] + i\n",
    "    # 상담이 기간 안에 끝나는 경우\n",
    "    if time <= n:\n",
    "        # 점화식에 맞게, 현재까지의 최고 이익 계산\n",
    "        dp[i] = max(p[i] + dp[time], max_value)\n",
    "        max_value = dp[i]\n",
    "    # 상담이 기간을 벗어나는 경우\n",
    "    else:\n",
    "        dp[i] = max_value\n",
    "        \n",
    "print(max_value)"
   ]
  }
 ],
 "metadata": {
  "kernelspec": {
   "display_name": "DH",
   "language": "python",
   "name": "dh"
  },
  "language_info": {
   "codemirror_mode": {
    "name": "ipython",
    "version": 3
   },
   "file_extension": ".py",
   "mimetype": "text/x-python",
   "name": "python",
   "nbconvert_exporter": "python",
   "pygments_lexer": "ipython3",
   "version": "3.8.10"
  }
 },
 "nbformat": 4,
 "nbformat_minor": 5
}
