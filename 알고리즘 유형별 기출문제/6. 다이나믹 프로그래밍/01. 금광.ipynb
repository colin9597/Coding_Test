{
 "cells": [
  {
   "cell_type": "markdown",
   "id": "0b4e8a77",
   "metadata": {},
   "source": [
    "# 금광\n",
    "- 난이도 ●◐○\n",
    "- 풀이 시간 30분\n",
    "- 시간 제한 1초\n",
    "- 메모리 제한 128MB\n",
    "- 기출 Filpkart 인터뷰\n",
    "\n",
    "> n x m 크기의 금광이 있고 가 칸은 특정한 크기의 금이 들어 있음.  \n",
    "> 채굴자는 첫 번째 열부터 출발하여 금을 캐기 시작함.  \n",
    "> 맨 처음엔 첫 번째 열의 어느 행에서든 출발할 수 있고 이후 m번에 걸쳐서 매번 오른쪽, 오른쪽 위·아래 3가지 중 하나의 위치로 이동함.  \n",
    "> 결과적으로 채굴자가 얻을 수 있는 금의 최대 크기를 출력하라.  \n",
    "\n",
    "##### <입력조건>\n",
    "- 첫째 줄에 테스트 케이스 T가 입력됩니다. (1 <= T <= 1000)\n",
    "- 매 테스트 케이스 첫째 줄에 n과 m이 공백으로 구분되어 입력됩니다.  (1 <= n, m <= 20)\n",
    "- 매 테스트 케이스 둘째 줄에 n x m개의 위치에 매장된 금의 개수가 공백으로 구분되어 입력됩니다. (0 <= 각 위치에 매장된 금의 개수 <= 100)  \n",
    "\n",
    "##### <출력조건>\n",
    "- 테스트 케이스마다 채굴자가 얻을 수 있는 금의 최대 크기를 출력합니다.  \n",
    "- 각 테스트 케이스는 줄 바꿈을 이용해 구분합니다."
   ]
  },
  {
   "cell_type": "markdown",
   "id": "10060820",
   "metadata": {},
   "source": [
    "### [풀이]"
   ]
  },
  {
   "cell_type": "code",
   "execution_count": 1,
   "id": "cf8511e0",
   "metadata": {},
   "outputs": [
    {
     "name": "stdout",
     "output_type": "stream",
     "text": [
      "2\n",
      "3 4\n",
      "1 3 3 2 2 1 4 1 0 6 4 7\n",
      "19\n",
      "4 4\n",
      "1 3 1 5 2 2 4 1 5 0 2 3 0 6 1 2\n",
      "16\n"
     ]
    }
   ],
   "source": [
    "T = int(input())  # 테스트 케이스(Test Case) 입력\n",
    "\n",
    "for _ in range(T):\n",
    "    n, m = map(int, input().split())  # 금광 정보 입력\n",
    "    flatten = list(map(int, input().split()))\n",
    "    mine = [flatten[i*m:(i+1)*m] for i in range(n)]  # 금광 이차원 리스트로 표현\n",
    "    \n",
    "    d = [[0]*m for _ in range(n)]  # 다이나믹 프로그래밍을 위한 2차원 DP 테이블 초기화\n",
    "    for i in range(n):\n",
    "        d[i][0] = mine[i][0]\n",
    "\n",
    "    max_num = 0\n",
    "    for j in range(1, m):\n",
    "        for i in range(n):\n",
    "            if i == 0:  # 맨 위의 금광이면 왼쪽과 왼쪽 아래에서 오는 DP 테이블과 비교\n",
    "                d[i][j] = max(d[i][j-1] + mine[i][j], d[i+1][j-1] + mine[i][j])\n",
    "            elif i == (n-1):  # 맨 아래의 금광이면 왼쪽과 왼쪽 위에서 오는 DP 테이블과 비교\n",
    "                d[i][j] = max(d[i][j-1] + mine[i][j], d[i-1][j-1] + mine[i][j])\n",
    "            else:  # 왼쪽, 왼쪽 아래, 왼쪽 위에서 오는 DP 테이블과 비교\n",
    "                d[i][j] = max(d[i-1][j-1] + mine[i][j], d[i][j-1] + mine[i][j], d[i+1][j-1] + mine[i][j])\n",
    "            if max_num < d[i][j]:  # 금의 최대 크기 갱신\n",
    "                max_num = d[i][j]\n",
    "    print(max_num)  # 금의 최대 크기 출력"
   ]
  },
  {
   "cell_type": "markdown",
   "id": "67da776c",
   "metadata": {},
   "source": [
    "> 다이나믹 프로그래밍을 위한 DP 테이블로 1차원 리스트가 아닌 2차원 리스트를 활용"
   ]
  },
  {
   "cell_type": "markdown",
   "id": "21e0d9a5",
   "metadata": {},
   "source": [
    "### [답안]"
   ]
  },
  {
   "cell_type": "code",
   "execution_count": 2,
   "id": "9706170e",
   "metadata": {},
   "outputs": [
    {
     "name": "stdout",
     "output_type": "stream",
     "text": [
      "2\n",
      "3 4\n",
      "1 3 3 2 2 1 4 1 0 6 4 7\n",
      "19\n",
      "4 4\n",
      "1 3 1 5 2 2 4 1 5 0 2 3 0 6 1 2\n",
      "16\n"
     ]
    }
   ],
   "source": [
    "# 테스트 케이스(Test Case) 입력\n",
    "for tc in range(int(input())):\n",
    "    # 금광 정보 입력\n",
    "    n, m = map(int, input().split())\n",
    "    array = list(map(int, input().split()))\n",
    "    \n",
    "    # 다이나믹 프로그래밍을 위한 2차원 DP 테이블 초기화\n",
    "    dp = []\n",
    "    index = 0\n",
    "    for i in range(n):\n",
    "        dp.append(array[index:index+m])\n",
    "        index += m\n",
    "        \n",
    "    # 다이나믹 프로그래밍 진행\n",
    "    for j in range(1, m):\n",
    "        for i in range(n):\n",
    "            # 왼쪽 위에서 오는 경우\n",
    "            if i == 0:\n",
    "                left_up = 0\n",
    "            else:\n",
    "                left_up = dp[i-1][j-1]\n",
    "            # 왼쪽 아래에서 오는 경우\n",
    "            if i == n-1:\n",
    "                left_down = 0\n",
    "            else:\n",
    "                left_down = dp[i+1][j-1]\n",
    "            # 왼쪽에서 오는 경우\n",
    "            left = dp[i][j-1]\n",
    "            dp[i][j] = dp[i][j] + max(left_up, left_down, left)\n",
    "            \n",
    "    result = 0\n",
    "    for i in range(n):\n",
    "        result = max(result, dp[i][m-1])\n",
    "    \n",
    "    print(result)"
   ]
  },
  {
   "cell_type": "markdown",
   "id": "c30fab2f",
   "metadata": {},
   "source": [
    "> 금광 정보를 담은 2차원 리스트와 2차원 DP 테이블을 따로 분리하지 않고 하나로 활용"
   ]
  }
 ],
 "metadata": {
  "kernelspec": {
   "display_name": "DH",
   "language": "python",
   "name": "dh"
  },
  "language_info": {
   "codemirror_mode": {
    "name": "ipython",
    "version": 3
   },
   "file_extension": ".py",
   "mimetype": "text/x-python",
   "name": "python",
   "nbconvert_exporter": "python",
   "pygments_lexer": "ipython3",
   "version": "3.8.10"
  }
 },
 "nbformat": 4,
 "nbformat_minor": 5
}
