{
 "cells": [
  {
   "cell_type": "markdown",
   "id": "f5dfdbd3",
   "metadata": {},
   "source": [
    "# 경쟁적 전염\n",
    "- 난이도 ●●○\n",
    "- 풀이 시간 50분\n",
    "- 시간 제한 1초\n",
    "- 메모리 제한 256MB\n",
    "- 기출 핵심 유형\n",
    "- 링크 https://www.acmicpc.net/problem/18405\n",
    "\n",
    "> N x N 크기의 시험관은 1 x 1 크기의 칸으로 나누어지며, 특정한 위치에 바이러스가 존재할 수 있음.  \n",
    "> 바이러스의 종류는 1 ~ K번까지 K가지가 있으며 모든 바이러스는 이 중 하나에 속함.  \n",
    "> 시험관에 존재하는 모든 바이러스는 1초마다 상, 하, 좌, 우의 방향으로 증식하는데, 매초 번호가 낮은 종류의 바이러스부터 먼저 증식함.  \n",
    "> 또한 증식 과정에서 특정한 칸에 이미 어떠한 바이러스가 있다면, 그곳에는 다른 바이러스가 들어갈 수 없음.  \n",
    "> 시험관의 크기와 바이러스의 위치 정보가 주어졌을 때, S초가 지난 후 (X, Y)에 존재하는 바이러스의 종류를 출력하는 프로그램을 작성하라.  \n",
    "> 만약 S초가 지난 후에 해당 위치에 바이러스가 존재하지 않는다면, 0을 출력하라.  \n",
    "> 이때 X와 Y는 각각 행과 열의 위치를 의미하며, 시험관의 가장 왼쪽 위에 해당하는 곳은 (1, 1)에 해당함.  \n",
    "\n",
    "##### <입력조건>\n",
    "- 첫째 줄에 자연수 N, K가 주어지며, 각 자연수는 공백으로 구분합니다. (1 <= N <= 200, 1 <= K <= 1,000)\n",
    "- 둘째 줄부터 N개의 줄에 걸쳐서 시험관의 정보가 주어집니다.  \n",
    "    각 행은 N개의 원소로 구성되며, 해당 위치에 존재하는 바이러스의 번호가 주어지며 공백으로 구분합니다.  \n",
    "    단, 해당 위치에 바이러스가 존재하지 않는 경우 0이 주어집니다.  \n",
    "    또한 모든 바이러스의 번호는 K 이하의 자연수로만 주어집니다.  \n",
    "- N+2번째 줄에는 S, X, Y가 주어지며 공백으로 구분합니다. (0 <= S <= 10,000, 1 <= X, Y <= N)\n",
    "\n",
    "##### <출력조건>\n",
    "- S초 뒤에 (X, Y)에 존재하는 바이러스의 종류를 출력합니다.  \n",
    "- 만약 S초 뒹 해당 위치에 바이러스가 존재하지 않는다면, 0을 출력합니다.  "
   ]
  },
  {
   "cell_type": "markdown",
   "id": "a66c299b",
   "metadata": {},
   "source": [
    "### [풀이]"
   ]
  },
  {
   "cell_type": "code",
   "execution_count": 1,
   "id": "f5a33619",
   "metadata": {},
   "outputs": [
    {
     "name": "stdout",
     "output_type": "stream",
     "text": [
      "3 3\n",
      "1 0 2\n",
      "0 0 0\n",
      "3 0 0\n",
      "2 3 2\n",
      "3\n"
     ]
    }
   ],
   "source": [
    "from collections import deque\n",
    "\n",
    "def bfs(queue):  # 너비 우선 탐색(BFS)\n",
    "    while queue:\n",
    "        x, y = queue.popleft()\n",
    "        for i in range(4):  # 현재 노드에서 주벼 4가지 위치를 각각 확인\n",
    "            nx = x + dx[i]\n",
    "            ny = y + dy[i]\n",
    "            if nx < 0 or ny < 0 or nx >= N or ny >= N:  # 범위를 벗어나면\n",
    "                continue\n",
    "            if graph[nx][ny] == 0:  # 아직 방문하지 않은 위치라면, 그 위치에 바이러스 넣고 바이러스 위치를 큐에 삽입\n",
    "                graph[nx][ny] = graph[x][y]\n",
    "                virus[graph[x][y]].append((nx, ny))\n",
    "\n",
    "N, K = map(int, input().split())  # 시험관의 크기(N)과 바이러스의 가짓수(K) 입력받기\n",
    "\n",
    "graph = []  # 전체 보드 정보를 담는 리스트\n",
    "for _ in range(N):\n",
    "    graph.append(list(map(int, input().split())))\n",
    "    \n",
    "virus = [deque() for _ in range(K+1)]  # 바이러스에 대한 정보를 담는 리스트\n",
    "for i in range(N):\n",
    "    for j in range(N):\n",
    "        if graph[i][j] != 0:  # 해당 위치에 바이러스가 존재하는 경우\n",
    "            virus[graph[i][j]].append((i, j))  # 해당 바이러스 큐에 (위치 X, 위치 Y) 삽입\n",
    "\n",
    "S, X, Y = map(int, input().split())  # 초(S), 행(X), 열(Y) 값 입력받기\n",
    "\n",
    "dx = [-1, 1, 0, 0]  # 바이러스가 퍼져나갈 수 있는 4가지 위치(상, 하, 좌, 우)\n",
    "dy = [0, 0, -1, 1]\n",
    "\n",
    "queue = deque()\n",
    "for _ in range(S):\n",
    "    for i in range(1, K+1):\n",
    "        while virus[i]:\n",
    "            x, y = virus[i].popleft()\n",
    "            queue.append((x, y))  # 매초마다 바이러스 위치를 큐에 삽입\n",
    "    bfs(queue)  # 너비 우선 탐색(BFS) 진행\n",
    "\n",
    "print(graph[X-1][Y-1])"
   ]
  },
  {
   "cell_type": "markdown",
   "id": "434eb215",
   "metadata": {},
   "source": [
    "### [답안]"
   ]
  },
  {
   "cell_type": "code",
   "execution_count": 2,
   "id": "273bbb78",
   "metadata": {},
   "outputs": [
    {
     "name": "stdout",
     "output_type": "stream",
     "text": [
      "3 3\n",
      "1 0 2\n",
      "0 0 0\n",
      "3 0 0\n",
      "2 3 2\n",
      "3\n"
     ]
    }
   ],
   "source": [
    "from collections import deque\n",
    "\n",
    "n, k = map(int, input().split())\n",
    "\n",
    "graph = []  # 전체 보드 정보를 담는 리스트\n",
    "data = []  # 바이러스에 대한 정보를 담는 리스트\n",
    "\n",
    "for i in range(n):\n",
    "    # 보드 정보를 한 줄 단위로 입력\n",
    "    graph.append(list(map(int, input().split())))\n",
    "    for j in range(n):\n",
    "        # 해당 위치에 바이러스가 존재하는 경우\n",
    "        if graph[i][j] != 0:\n",
    "            # (바이러스 종류, 시간, 위치 X, 위치 Y) 삽입\n",
    "            data.append((graph[i][j], 0, i, j))\n",
    "            \n",
    "# 정렬 이후에 큐로 옮기기(낮은 번호의 바이러스가 먼저 증식하므로)\n",
    "data.sort()\n",
    "q = deque(data)\n",
    "\n",
    "target_s, target_x, target_y = map(int, input().split())\n",
    "\n",
    "# 바이러스가 퍼져나갈 수 있는 4가지 위치\n",
    "dx = [-1, 0, 1, 0]\n",
    "dy = [0, 1, 0, -1]\n",
    "\n",
    "# 너비 우선 탐색(BFS) 진행\n",
    "while q:\n",
    "    virus, s, x, y = q.popleft()\n",
    "    # 정확히 s초가 지나거나, 큐가 빌 때까지 반복\n",
    "    if s == target_s:\n",
    "        break  \n",
    "    # 현재 노드에서 주변 4가지 위치를 각각 확인\n",
    "    for i in range(4):\n",
    "        nx = x + dx[i]\n",
    "        ny = y + dy[i]\n",
    "        # 해당 위치로 이동할 수 있는 경우\n",
    "        if 0 <= nx and nx < n and 0 <= ny and ny < n:\n",
    "            # 아직 방문하지 않은 위치라면, 그 위치에 바이러스 넣기\n",
    "            if graph[nx][ny] == 0:\n",
    "                graph[nx][ny] = virus\n",
    "                q.append((virus, s+1, nx, ny))\n",
    "                \n",
    "print(graph[target_x-1][target_y-1])"
   ]
  }
 ],
 "metadata": {
  "kernelspec": {
   "display_name": "DH",
   "language": "python",
   "name": "dh"
  },
  "language_info": {
   "codemirror_mode": {
    "name": "ipython",
    "version": 3
   },
   "file_extension": ".py",
   "mimetype": "text/x-python",
   "name": "python",
   "nbconvert_exporter": "python",
   "pygments_lexer": "ipython3",
   "version": "3.8.10"
  }
 },
 "nbformat": 4,
 "nbformat_minor": 5
}
