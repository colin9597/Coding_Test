{
 "cells": [
  {
   "cell_type": "markdown",
   "id": "02cad58d",
   "metadata": {},
   "source": [
    "# 괄호 변환\n",
    "- 난이도 ●○○\n",
    "- 풀이 시간 20분\n",
    "- 시간 제한 1초\n",
    "- 메모리 제한 128MB\n",
    "- 기출 2020 카카오 신입 공채 1차\n",
    "- 링크 https://programmers.co.kr/learn/courses/30/lessons/60058\n",
    "\n",
    "소스를 컴파일하여 로그를 보니 대부분 소스코드 내 작성된 괄호가 개수는 맞지만 짝이 맞이 않은 형태로 작성되어 오류가 남.  \n",
    "소스코드에 작성된 모든 괄호를 뽑아서 올바른 순서대로 배치된 괄호 문자열을 알려주는 프로그램을 다음과 같이 개발하려고 함.  \n",
    "##### <용어의 정의>\n",
    "'(' 와 ')' 로만 이루어진 문자열이 있을 경우, '(' 의 개수와 ')' 의 개수가 같다면 이를 균형잡힌 괄호 문자열이라고 부름.  \n",
    "그리고 여기에 '('와 ')'의 괄호의 짝도 모두 맞을 경우에는 이를 올바른 괄호 문자열이라고 부름.  \n",
    "예를 들어, \"(()))(\"와 같은 문자열은 \"균형잡힌 괄호 문자열\" 이지만 \"올바른 괄호 문자열\"은 아님.  \n",
    "반면에 \"(())()\"와 같은 문자열은 \"균형잡힌 괄호 문자열\" 이면서 동시에 \"올바른 괄호 문자열\"임.  \n",
    "'(' 와 ')' 로만 이루어진 문자열 w가 \"균형잡힌 괄호 문자열\" 이라면 다음과 같은 과정을 통해 \"올바른 괄호 문자열\"로 변환할 수 있음.  \n",
    "\n",
    "1. 입력이 빈 문자열인 경우, 빈 문자열을 반환합니다. \n",
    "2. 문자열 w를 두 \"균형잡힌 괄호 문자열\" u, v로 분리합니다. 단, u는 \"균형잡힌 괄호 문자열\"로 더 이상 분리할 수 없어야 하며, v는 빈 문자열이 될 수 있습니다. \n",
    "3. 문자열 u가 \"올바른 괄호 문자열\" 이라면 문자열 v에 대해 1단계부터 다시 수행합니다.   \n",
    "  3-1. 수행한 결과 문자열을 u에 이어 붙인 후 반환합니다.   \n",
    "4. 문자열 u가 \"올바른 괄호 문자열\"이 아니라면 아래 과정을 수행합니다.   \n",
    "  4-1. 빈 문자열에 첫 번째 문자로 '('를 붙입니다.   \n",
    "  4-2. 문자열 v에 대해 1단계부터 재귀적으로 수행한 결과 문자열을 이어 붙입니다.   \n",
    "  4-3. ')'를 다시 붙입니다.   \n",
    "  4-4. u의 첫 번째와 마지막 문자를 제거하고, 나머지 문자열의 괄호 방향을 뒤집어서 뒤에 붙입니다.   \n",
    "  4-5. 생성된 문자열을 반환합니다.  \n",
    "\n",
    "\"균형잡힌 괄호 문자열\" p가 매개변수로 주어질 때, 주어진 알고리즘을 수행해 \"올바른 괄호 문자열\"로 변환한 결과를 return 하도록 solution 함수를 완성하라.\n",
    "\n",
    "##### <매개변수 설명>\n",
    "- p는 '('와 ')'로만 이루어진 문자열이며 길이는 2 이상 1,000 이하인 짝수입니다.  \n",
    "- 문자열 p를 이루는 '('와 ')'의 개수는 항상 같습니다.  \n",
    "- 만약 p가 이미 올바른 괄호 문자열이라면 그대로 return 하면 됩니다.  "
   ]
  },
  {
   "cell_type": "markdown",
   "id": "9f4a514a",
   "metadata": {},
   "source": [
    "### [풀이]"
   ]
  },
  {
   "cell_type": "code",
   "execution_count": 1,
   "id": "26c54f5b",
   "metadata": {},
   "outputs": [],
   "source": [
    "from collections import deque\n",
    "\n",
    "def balance(p):\n",
    "    left_n = 0\n",
    "    right_n = 0\n",
    "    for i in p:\n",
    "        if i == \"(\":\n",
    "            left_n += 1\n",
    "        else:\n",
    "            right_n += 1\n",
    "        if right_n > left_n:\n",
    "            return False\n",
    "    return True\n",
    "\n",
    "\n",
    "def solution(p):\n",
    "    u = ''\n",
    "    v = deque(p)\n",
    "    result = ''\n",
    "\n",
    "    left_n = 0\n",
    "    right_n = 0\n",
    "    while v:\n",
    "        q = v.popleft()\n",
    "        if q == \"(\":\n",
    "            left_n += 1\n",
    "        else:\n",
    "            right_n += 1\n",
    "\n",
    "        u += q\n",
    "        \n",
    "        if left_n == right_n and balance(u):\n",
    "            result += u\n",
    "            u = ''\n",
    "        elif left_n == right_n and not balance(u):\n",
    "            result += \"(\"\n",
    "            for i in u[1:-1]:\n",
    "                if i == \"(\":\n",
    "                    result += \")\"\n",
    "                else:\n",
    "                    result += \"(\"\n",
    "            result += \")\"\n",
    "            u = ''\n",
    "    \n",
    "    return result"
   ]
  },
  {
   "cell_type": "code",
   "execution_count": 2,
   "id": "9e724500",
   "metadata": {},
   "outputs": [
    {
     "data": {
      "text/plain": [
       "'(()())'"
      ]
     },
     "execution_count": 2,
     "metadata": {},
     "output_type": "execute_result"
    }
   ],
   "source": [
    "p = \"))()((\"\n",
    "solution(p)"
   ]
  },
  {
   "cell_type": "markdown",
   "id": "aa8a4d62",
   "metadata": {},
   "source": [
    "> 문제를 잘못 이해했음."
   ]
  },
  {
   "cell_type": "markdown",
   "id": "7af276d6",
   "metadata": {},
   "source": [
    "### [풀이]"
   ]
  },
  {
   "cell_type": "code",
   "execution_count": 3,
   "id": "91629f5c",
   "metadata": {},
   "outputs": [],
   "source": [
    "# \"균형잡힌 괄호 문자열\"의 인덱스 반환\n",
    "def balanced_index(p):\n",
    "    count = 0  # 왼쪽 괄호의 개수\n",
    "    for i in range(len(p)):\n",
    "        if p[i] == \"(\":\n",
    "            count += 1\n",
    "        else:\n",
    "            count -= 1\n",
    "        if count == 0:\n",
    "            return i\n",
    "\n",
    "# \"올바른 괄호 문자열\"인지 판단\n",
    "def check_proper(p):\n",
    "    count = 0  # 왼쪽 괄호의 개수\n",
    "    for i in p:\n",
    "        if i == '(':\n",
    "            count += 1\n",
    "        else:\n",
    "            if count == 0:  # 쌍이 맞지 않는 경우에 False 반환\n",
    "                return False\n",
    "            count -= 1\n",
    "    return True  # 쌍이 맞는 경우에 True 반환\n",
    "\n",
    "def solution(p):\n",
    "    answer = ''\n",
    "    if p == '':\n",
    "        return answer\n",
    "    index = balanced_index(p)\n",
    "    u = p[:index + 1]\n",
    "    v = p[index + 1:]\n",
    "    # \"올바른 괄호 문자열\"이면, v에 대해 함수를 수행한 결과를 붙여 반환\n",
    "    if check_proper(u):\n",
    "        answer += u + solution(v)\n",
    "    # \"올바른 괄호 문자열\"이 아니라면 아래의 과정을 수행\n",
    "    else:\n",
    "        answer = '('\n",
    "        answer += solution(v)\n",
    "        answer += ')'\n",
    "        u = list(u[1:-1])\n",
    "        for i in range(len(u)):\n",
    "            if u[i] == '(':\n",
    "                u[i] = ')'\n",
    "            else:\n",
    "                u[i] = '('\n",
    "        answer += \"\".join(u)\n",
    "    return answer"
   ]
  },
  {
   "cell_type": "code",
   "execution_count": 4,
   "id": "b1790fa7",
   "metadata": {},
   "outputs": [
    {
     "data": {
      "text/plain": [
       "'()()()'"
      ]
     },
     "execution_count": 4,
     "metadata": {},
     "output_type": "execute_result"
    }
   ],
   "source": [
    "p = \"))()((\"\n",
    "solution(p)"
   ]
  }
 ],
 "metadata": {
  "kernelspec": {
   "display_name": "DH",
   "language": "python",
   "name": "dh"
  },
  "language_info": {
   "codemirror_mode": {
    "name": "ipython",
    "version": 3
   },
   "file_extension": ".py",
   "mimetype": "text/x-python",
   "name": "python",
   "nbconvert_exporter": "python",
   "pygments_lexer": "ipython3",
   "version": "3.8.10"
  }
 },
 "nbformat": 4,
 "nbformat_minor": 5
}
