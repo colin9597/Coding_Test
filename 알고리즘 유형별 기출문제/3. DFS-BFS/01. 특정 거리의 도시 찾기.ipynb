{
 "cells": [
  {
   "cell_type": "markdown",
   "id": "ad638746",
   "metadata": {},
   "source": [
    "# 특정 거리의 도시 찾기\n",
    "- 난이도 ●◐○\n",
    "- 풀이시간 30분\n",
    "- 시간 제한 2초\n",
    "- 메모리 제한 256MB\n",
    "- 기출 핵심 유형\n",
    "- 링크 https://www.acmicpc.net/problem/18352\n",
    "\n",
    "> 어떤 나라에는 1 ~ N번까지의 도시와 M개의 단방향 도로가 존재하며 모든 도로의 거리는 1  \n",
    "> 이때 특정한 도시 X로부터 출발하여 도달할 수 있는 모든 도시 중에서, 최단 거리가 정확히 K인 모든 도시의 번호를 출력\n",
    "\n",
    "##### <입력조건>\n",
    "- 첫째 줄에 도시의 개수 N, 도로의 개수 M, 거리 정보 K, 출발 도시의 번호 X가 주어집니다.  \n",
    "    (2 <= N <= 300,000, 1 <= M <= 1,000,000, 1 <= K <= 300,000, 1 <= X <= N)  \n",
    "- 둘째 줄부터 M개의 줄에 걸쳐서 두 개의 자연수 A, B가 주어지며, 각 자연수는 공백으로 구분합니다.  \n",
    "    이는 A번 도시에서 B번 도시로 이동하는 단방향 도로가 존재한다는 의미입니다.  \n",
    "    단, A와 B는 서로 다른 자연수입니다.( 1 <= A, B <= N)\n",
    "    \n",
    "##### <출력조건>\n",
    "- X로부터 출발하여 도달할 수 있는 도시 중에서, 최단 거리가 K인 모든 도시의 번호를 한 줄에 하나씩 오름차순으로 출력합니다.\n",
    "- 이때 도달할 수 있는 도시 중에서, 최단 거리가 K인 도시가 하나도 존재하지 않으면 -1을 출력합니다."
   ]
  },
  {
   "cell_type": "markdown",
   "id": "964d8912",
   "metadata": {},
   "source": [
    "### [풀이]"
   ]
  },
  {
   "cell_type": "code",
   "execution_count": 1,
   "id": "3e9426ba",
   "metadata": {},
   "outputs": [
    {
     "name": "stdout",
     "output_type": "stream",
     "text": [
      "4 4 2 1\n",
      "1 2\n",
      "1 3\n",
      "2 3\n",
      "2 4\n",
      "4\n"
     ]
    }
   ],
   "source": [
    "# 그냥 input을 사용하면 시간 초과가 되므로, sys.stdin.readline 사용(주피터에서는 지원X)\n",
    "# import sys\n",
    "# input = sys.stdin.readline\n",
    "\n",
    "from collections import deque\n",
    "\n",
    "N, M, K, X = map(int, input().split())  # 도시의 개수, 도로의 개수, 거리 정보, 출발 도시 번호\n",
    "\n",
    "graph = [[] for _ in range(N+1)]  # 모든 도로 정보 입력받기\n",
    "for _ in range(M):\n",
    "    a, b = map(int, input().split())\n",
    "    graph[a].append(b)\n",
    "\n",
    "visited = [False] * (N+1)  # 도로 방문 여부 체크\n",
    "\n",
    "def bfs(graph, start, visited):  # 너비 우선 탐색(BFS) 수행\n",
    "    queue = deque([(start, 0)])\n",
    "    visited[start] = True\n",
    "    result = []\n",
    "    while queue:\n",
    "        v, d = queue.popleft()\n",
    "        for i in graph[v]:  # 현재 도시에서 이동할 수 있는 모든 도시를 확인\n",
    "            if not visited[i]:  # 방문하지 않았다면, 덱에 도시와 출발지점부터 도시까지의 거리를 튜플 형태로 삽입\n",
    "                queue.append((i, d+1))\n",
    "                visited[i] = True\n",
    "                if (d+1) == K:  # 출발지점부터 도시까지의 거리가 최단 거리 K라면 도시를 result 리스트에 추가\n",
    "                    result.append(i)\n",
    "    \n",
    "    if not result:  # 최단 거리가 K인 도시가 하나도 존재하지 않으면 -1 출력\n",
    "        result.append(-1)\n",
    "    \n",
    "    result.sort()  # 최단 거리가 K인 모든 도시를 오름차순으로 정렬\n",
    "    \n",
    "    return result\n",
    "\n",
    "for i in bfs(graph, X, visited):  # 최단 거리가 K인 모든 도시 출력\n",
    "    print(i)"
   ]
  },
  {
   "cell_type": "markdown",
   "id": "17d89b99",
   "metadata": {},
   "source": [
    "> 큐에 방문한 도시와 최단 거리를 튜플 형태로 삽입"
   ]
  },
  {
   "cell_type": "markdown",
   "id": "00ee92f1",
   "metadata": {},
   "source": [
    "### [답안]"
   ]
  },
  {
   "cell_type": "code",
   "execution_count": 2,
   "id": "69d5958d",
   "metadata": {},
   "outputs": [
    {
     "name": "stdout",
     "output_type": "stream",
     "text": [
      "4 4 2 1\n",
      "1 2\n",
      "1 3\n",
      "2 3\n",
      "2 4\n",
      "4\n"
     ]
    }
   ],
   "source": [
    "# 그냥 input을 사용하면 시간 초과가 되므로, sys.stdin.readline 사용(주피터에서는 지원X)\n",
    "# import sys\n",
    "# input = sys.stdin.readline\n",
    "\n",
    "from collections import deque\n",
    "\n",
    "# 도시의 개수, 도로의 개수, 거리 정보, 출발 도시 번호\n",
    "n, m, k, x = map(int, input().split())\n",
    "graph = [[] for _ in range(n+1)]\n",
    "\n",
    "# 모든 도로 정보 입력받기\n",
    "for _ in range(m):\n",
    "    a, b = map(int, input().split())\n",
    "    graph[a].append(b)\n",
    "    \n",
    "# 모든 도시에 대한 최단 거리 초기화\n",
    "distance = [-1] * (n+1)\n",
    "distance[x] = 0  # 출발 도시까지의 거리는 0으로 설정\n",
    "\n",
    "# 너비 우선 탐색(BFS) 수행\n",
    "q = deque([x])\n",
    "while q:\n",
    "    now = q.popleft()\n",
    "    # 현재 도시에서 이동할 수 있는 모든 도시를 확인\n",
    "    for next_node in graph[now]:\n",
    "        if distance[next_node] == -1:\n",
    "            # 최단 거리 갱신\n",
    "            distance[next_node] = distance[now] + 1\n",
    "            q.append(next_node)\n",
    "\n",
    "# 최단 거리가 K인 모든 도시의 번호를 오름차순으로 출력\n",
    "check = False\n",
    "for i in range(1, n+1):\n",
    "    if distance[i] == k:\n",
    "        print(i)\n",
    "        check = True\n",
    "        \n",
    "# 만약 최단 거리가 K인 도시가 없다면, -1 출력\n",
    "if check == False:\n",
    "    print(-1)"
   ]
  },
  {
   "cell_type": "markdown",
   "id": "29c0d6b0",
   "metadata": {},
   "source": [
    "> 거리 리스트를 따로 생성하여 방문 여부를 확인하고 최단 거리 갱신"
   ]
  }
 ],
 "metadata": {
  "kernelspec": {
   "display_name": "DH",
   "language": "python",
   "name": "dh"
  },
  "language_info": {
   "codemirror_mode": {
    "name": "ipython",
    "version": 3
   },
   "file_extension": ".py",
   "mimetype": "text/x-python",
   "name": "python",
   "nbconvert_exporter": "python",
   "pygments_lexer": "ipython3",
   "version": "3.8.10"
  }
 },
 "nbformat": 4,
 "nbformat_minor": 5
}
