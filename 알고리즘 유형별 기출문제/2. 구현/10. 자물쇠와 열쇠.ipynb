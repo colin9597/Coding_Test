{
 "cells": [
  {
   "cell_type": "markdown",
   "id": "eb7d8ea2",
   "metadata": {},
   "source": [
    "# 자물쇠와 열쇠\n",
    "- 난이도 ●◐○\n",
    "- 풀이 시간 40분\n",
    "- 시간 제한 1초\n",
    "- 메모리 제한 128MB\n",
    "- 기출 2020 카카오 신입 공채\n",
    "- 링크 https://programmers.co.kr/learn/courses/30/lessons/60059  \n",
    "\n",
    "잠겨있는 자물쇠는 격자 한 칸의 크기가 1x1인 NxN 크기의 정사각 격자 형태이고 특이한 모양의 열쇠는 MxM 크기인 정사각 격자 형태로 되어 있음.  \n",
    "자물쇠에는 홈이 파여 있고 열쇠 또한 홈과 돌기 부분이 있음.  \n",
    "열쇠는 회전과 이동이 가능하며 열쇠의 돌기 부분을 자물쇠의 홈 부분에 딱 맞게 채우면 자물쇠가 열리게 되는 구조임.  \n",
    "자물쇠 영역을 벗어난 부분에 있는 열쇠의 흠과 돌기는 자물쇠를 여는 데 영향을 주지 않지만,   \n",
    "자물쇠 영역내에서는 열쇠의 돌기 부분과 자물쇠의 홈 부분이 정확히 일치해야하며 열쇠의 돌기와 자물쇠의 돌기가 만나서는 안됨.  \n",
    "또한 자물쇠는 모든 홈을 채워 비어있는 곳이 없어야 자물쇠를 열 수 있음.  \n",
    "열쇠를 나타내는 2차원 배열 key와 자물쇠를 나타내는 2차원 배열 lock이 매개변수로 주어질 때, 열쇠로 자물쇠를 열 수 있으면 true를, 없으면 false를 return\n",
    "\n",
    "##### <제한사항>\n",
    "- key는 MxM (3 <= M <= 20, M은 자연수) 크기 2차원 배열입니다.\n",
    "- lock는 NxN (3 <= N <= 20, N은 자연수) 크기 2차원 배열입니다.\n",
    "- M은 항상 N 이하입니다.  \n",
    "- key와 lock의 원소는 0 또는 1로 이루어져 있습니다. 이때 0은 홈 부분, 1은 돌기 부분을 나타냅니다.  \n",
    "\n",
    "##### <입출력 예시>\n",
    "|key|lock|result|\n",
    "|---:|---:|---:|\n",
    "|[[0, 0, 0], [1, 0, 0], [0, 1, 1]]|[[1, 1, 1], [1, 1, 0], [1, 0, 1]]|true|\n",
    "\n",
    "##### <입출력 예시에 대한 설명>\n",
    "key를 시계 방향으로 90도 회전하고, 오른쪽으로 한칸, 아래로 한 칸 이동하면 lock의 홈 부분을 정확히 모두 채울 수 있습니다."
   ]
  },
  {
   "cell_type": "markdown",
   "id": "436e5866",
   "metadata": {},
   "source": [
    "### [풀이]"
   ]
  },
  {
   "cell_type": "code",
   "execution_count": null,
   "id": "37aa0e4f",
   "metadata": {},
   "outputs": [],
   "source": [
    "def rotate_90(key):\n",
    "    rotate_key = [[0]*M for _ in range(M)]\n",
    "    for i in range(M):\n",
    "        for j in range(M):\n",
    "            rotate_key[i][j] = key[M-j-1][i]\n",
    "    return rotate_key\n",
    "\n",
    "def right(key):\n",
    "    right_key = [[0]*M for _ in range(M)]\n",
    "    \n",
    "    for i in range(M):\n",
    "        for j in range(1, M):\n",
    "            right_key[i][j] = key[i][j-1]\n",
    "    return right_key\n",
    "\n",
    "def left(key):\n",
    "    left_key = [[0]*M for _ in range(M)]\n",
    "    \n",
    "    for i in range(M):\n",
    "        for j in range(M-1):\n",
    "            left_key[i][j] = key[i][j+1]\n",
    "    return left_key\n",
    "\n",
    "def down(key):\n",
    "    down_key = [[0]*M for _ in range(M)]\n",
    "    \n",
    "    for i in range(1, M):\n",
    "        for j in range(M):\n",
    "            down_key[i][j] = key[i-1][j]\n",
    "    return down_key\n",
    "\n",
    "def up(key):\n",
    "    up_key = [[0]*M for _ in range(M)]\n",
    "    \n",
    "    for i in range(M-1):\n",
    "        for j in range(M):\n",
    "            up_key[i][j] = key[i+1][j]\n",
    "    return up_key\n",
    "\n"
   ]
  },
  {
   "cell_type": "markdown",
   "id": "f0096777",
   "metadata": {},
   "source": [
    "> 해결 못함. (너무 어렵다...)"
   ]
  },
  {
   "cell_type": "markdown",
   "id": "e5763efe",
   "metadata": {},
   "source": [
    "### [답안]"
   ]
  },
  {
   "cell_type": "code",
   "execution_count": 1,
   "id": "f674017e",
   "metadata": {},
   "outputs": [],
   "source": [
    "# 2차원 리스트 90도 회전\n",
    "def rotate_a_matrix_by_90_degree(a):\n",
    "    n = len(a)  # 행 길이 계산\n",
    "    m = len(a[0])  # 열 길이 계산\n",
    "    result = [[0] * n for _ in range(m)]  # 결과 리스트\n",
    "    for i in range(n):\n",
    "        for j in range(m):\n",
    "            result[j][n-i-1] = a[i][j]\n",
    "    return result\n",
    "\n",
    "# 자물쇠의 중간 부분이 모두 1인지 확인\n",
    "def check(new_lock):\n",
    "    lock_length = len(new_lock) // 3\n",
    "    for i in range(lock_length, lock_length * 2):\n",
    "        for j in range(lock_length, lock_length * 2):\n",
    "            if new_lock[i][j] != 1:\n",
    "                return False\n",
    "    return True\n",
    "\n",
    "def solution(key, lock):\n",
    "    n = len(lock)\n",
    "    m = len(key)\n",
    "    # 자물쇠의 크기를 기존의 3배로 변환\n",
    "    new_lock = [[0]*(n*3) for _ in range(n*3)]\n",
    "    # 새로운 자물쇠의 중앙 부분에 기존의 자물쇠 넣기\n",
    "    for i in range(n):\n",
    "        for j in range(n):\n",
    "            new_lock[i+n][j+n] = lock[i][j]\n",
    "    \n",
    "    # 4가지 방향에 대해서 확인\n",
    "    for rotation in range(4):\n",
    "        key = rotate_a_matrix_by_90_degree(key)  # 열쇠 회전\n",
    "        for x in range(n*2):\n",
    "            for y in range(n*2):\n",
    "                # 자물쇠에 열쇠를 끼워 넣기\n",
    "                for i in range(m):\n",
    "                    for j in range(m):\n",
    "                        new_lock[x+i][y+j] += key[i][j]\n",
    "                # 새로운 자물쇠에 열쇠가 정확히 들어맞는지 검사\n",
    "                if check(new_lock) == True:\n",
    "                    return True\n",
    "                # 자물쇠에서 열쇠를 다시 빼기\n",
    "                for i in range(m):\n",
    "                    for j in range(m):\n",
    "                        new_lock[x+i][y+j] -= key[i][j]\n",
    "    return False"
   ]
  },
  {
   "cell_type": "code",
   "execution_count": 2,
   "id": "636b38f8",
   "metadata": {},
   "outputs": [
    {
     "data": {
      "text/plain": [
       "True"
      ]
     },
     "execution_count": 2,
     "metadata": {},
     "output_type": "execute_result"
    }
   ],
   "source": [
    "key = [[0, 0, 0], [1, 0, 0], [0, 1, 1]]\n",
    "lock = [[1, 1, 1], [1, 1, 0], [1, 0, 1]]\n",
    "solution(key, lock)"
   ]
  }
 ],
 "metadata": {
  "kernelspec": {
   "display_name": "DH",
   "language": "python",
   "name": "dh"
  },
  "language_info": {
   "codemirror_mode": {
    "name": "ipython",
    "version": 3
   },
   "file_extension": ".py",
   "mimetype": "text/x-python",
   "name": "python",
   "nbconvert_exporter": "python",
   "pygments_lexer": "ipython3",
   "version": "3.8.10"
  }
 },
 "nbformat": 4,
 "nbformat_minor": 5
}
