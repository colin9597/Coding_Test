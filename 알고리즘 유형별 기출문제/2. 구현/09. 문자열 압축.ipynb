{
 "cells": [
  {
   "cell_type": "markdown",
   "id": "3fafc9ef",
   "metadata": {},
   "source": [
    "# 문자열 압축\n",
    "- 난이도 ●◐○\n",
    "- 풀이 시간 30분\n",
    "- 시간 제한 1초\n",
    "- 메모리 제한 128MB\n",
    "- 기출 2020 카카오 신입 공채\n",
    "- 링크 https://programmers.co.kr/learn/courses/30/lessons/60057\n",
    "\n",
    "> 압축할 문자열 s에 대해, 1개 이상 단위로 문자열을 잘라 압축하여 표현한 문자열 중 가장 짧은 것의 길이를 구하라.\n",
    "\n",
    "##### <입력조건>\n",
    "- s의 길이는 1 이상 1,000 이하입니다.  \n",
    "- s는 알파벳 소문자로만 이루어져 있습니다.\n",
    "\n",
    "##### <입출력 예시>\n",
    "|s|Result|  \n",
    "|---:|---:|\n",
    "|\"aabbaccc\"|7|\n",
    "|\"ababcdcdababcdcd\"|9|\n",
    "|\"abcabcdede\"|8|\n",
    "|\"abcabcabcabcdededededede\"|14|\n",
    "|\"xababcdcdababcdcd\"|17|\n",
    "\n",
    "##### <입축력 예시에 대한 설명>\n",
    "- 입출력 예시 #1  \n",
    "\\- 문자열을 1개 단위로 잘라 압축했을 때 가장 짧습니다.\n",
    "- 입출력 예시 #2  \n",
    "\\- 문자열을 8개 단위로 잘라 압축했을 때 가장 짧습니다.  \n",
    "- 입출력 예시 #3  \n",
    "\\- 문자열을 3개 단위로 잘라 압축했을 때 가장 짧습니다.\n",
    "- 입출력 예시 #4\n",
    "\\- 문자열을 2개 단위로 자르면 \"abcabcabcabc6de\"가 됩니다.  \n",
    "\\- 문자열을 3개 단위로 자르면 \"4abcdededededede\"가 됩니다.  \n",
    "\\- 문자열을 4개 단위로 자르면 \"abcabcabcabc3dede\"가 됩니다.  \n",
    "\\- 문자열을 6개 단위로 자르면 \"2abcabc2dedede\"가 되며, 이때의 길이가 14로 가장 짧습니다.\n",
    "- 입출력 예시 #5\n",
    "\\- 문자열은 제일 앞부터 정해진 길이만큼 잘라야 합니다.  \n",
    "\\- 따라서 주어진 문자열은 x / ababcdcd / ababcdcd로 자르는 것은 불가능합니다.  \n",
    "\\- 이 경우 어떻게 문자열을 잘라도 압축되지 않으므로 가장 짧은 길이는 17이 됩니다."
   ]
  },
  {
   "cell_type": "markdown",
   "id": "036cf2fd",
   "metadata": {},
   "source": [
    "### [풀이]"
   ]
  },
  {
   "cell_type": "code",
   "execution_count": 1,
   "id": "4bc082e4",
   "metadata": {},
   "outputs": [
    {
     "name": "stdout",
     "output_type": "stream",
     "text": [
      "aabbaccc\n"
     ]
    },
    {
     "data": {
      "text/plain": [
       "7"
      ]
     },
     "execution_count": 1,
     "metadata": {},
     "output_type": "execute_result"
    }
   ],
   "source": [
    "# 이 코드는 다음 프로그래머스 사이트에서 테스트해야 정상 동작한다.\n",
    "# https://programmers.co.kr/learn/courses/30/lessons/60057\n",
    "\n",
    "\n",
    "def solution(s):\n",
    "    answer = len(s)\n",
    "    for i in range(1, len(s)//2 + 1):  # 1개 단위(step)부터 압축 단위를 늘려가며 확인\n",
    "        temp = ''\n",
    "        cnt = 1\n",
    "        for j in range(0, len(s), i):  # 단위(i) 크기만큼 증가시키며 이전 문자열과 비교\n",
    "            if s[j:j+i] == s[j+i:j+2*i]:  # 이전 상태와 동일하다면 압축 횟수(cnt) 증가\n",
    "                cnt += 1\n",
    "            else:  # 다른 문자열이 나왔다면(더 이상 압축하지 못하는 경우라면)\n",
    "                if cnt == 1:  # 압축이 안된다면 그대로 문자열만 추가\n",
    "                    temp += s[j:j+i]\n",
    "                else:  # 압축이 된다면 압축 횟수 + 문자열 추가\n",
    "                    temp += str(cnt)+s[j:j+i]\n",
    "                cnt = 1  # 다시 압축 횟수 초기화\n",
    "            if j+2*i >= len(s):  # 남아 있는 문자열에 대해서 처리\n",
    "                if cnt == 1:\n",
    "                    temp += s[j+i:j+2*i]\n",
    "                else:\n",
    "                    temp += str(cnt)+s[j:j+i]\n",
    "                break\n",
    "        answer = min(answer, len(temp))  # 만들어지는 압축 문자열이 가장 짧은 것이 정답\n",
    "    return answer\n",
    "\n",
    "s = input()\n",
    "solution(s)"
   ]
  },
  {
   "cell_type": "markdown",
   "id": "ddd64c52",
   "metadata": {},
   "source": [
    "### [답안]"
   ]
  },
  {
   "cell_type": "code",
   "execution_count": 2,
   "id": "132b82eb",
   "metadata": {},
   "outputs": [
    {
     "name": "stdout",
     "output_type": "stream",
     "text": [
      "aabbaccc\n"
     ]
    },
    {
     "data": {
      "text/plain": [
       "7"
      ]
     },
     "execution_count": 2,
     "metadata": {},
     "output_type": "execute_result"
    }
   ],
   "source": [
    "# 이 코드는 다음 프로그래머스 사이트에서 테스트해야 정상 동작한다.\n",
    "# https://programmers.co.kr/learn/courses/30/lessons/60057\n",
    "\n",
    "def solution(s):\n",
    "    answer = len(s)\n",
    "    # 1개 단위(step)부터 압축 단위를 늘려가며 확인\n",
    "    for step in range(1, len(s) // 2 + 1):\n",
    "        compressed = ''\n",
    "        prev = s[0:step]  # 앞에서부터 step만틈의 문자열 추출\n",
    "        count = 1\n",
    "        # 단위(step) 크기만큼 증가시키며 이전 문자열과 비교\n",
    "        for j in range(step, len(s), step):\n",
    "            # 이전 상태와 동일하다면 압축 횟수(count) 증가\n",
    "            if prev == s[j:j+step]:\n",
    "                count += 1\n",
    "            # 다른 문자열이 나왔다면(더 이상 압축하지 못하는 경우라면)\n",
    "            else:\n",
    "                compressed += str(count) + prev if count >= 2 else prev\n",
    "                prev = s[j:j+step]  # 다시 상태 초기화\n",
    "                count = 1\n",
    "        # 남아 있는 문자열에 대해서 처리\n",
    "        compressed += str(count) + prev if count >= 2 else prev\n",
    "        # 만들어지는 압축 문자열이 가장 짧은 것이 정답\n",
    "        answer = min(answer, len(compressed))\n",
    "    return answer\n",
    "\n",
    "s = input()\n",
    "solution(s)"
   ]
  }
 ],
 "metadata": {
  "kernelspec": {
   "display_name": "DH",
   "language": "python",
   "name": "dh"
  },
  "language_info": {
   "codemirror_mode": {
    "name": "ipython",
    "version": 3
   },
   "file_extension": ".py",
   "mimetype": "text/x-python",
   "name": "python",
   "nbconvert_exporter": "python",
   "pygments_lexer": "ipython3",
   "version": "3.8.10"
  }
 },
 "nbformat": 4,
 "nbformat_minor": 5
}
