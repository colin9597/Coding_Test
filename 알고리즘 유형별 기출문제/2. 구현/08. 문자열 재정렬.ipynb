{
 "cells": [
  {
   "cell_type": "markdown",
   "id": "8bbb6923",
   "metadata": {},
   "source": [
    "# 문자열 재정렬\n",
    "- 난이도 ●○○\n",
    "- 풀이 시간 20분\n",
    "- 시간 제한 1초\n",
    "- 메모리 제한 128MB\n",
    "- 기출 Facebook 인터뷰\n",
    "\n",
    "> 알파벳 대문자와 숫자(0~9)로만 구성된 문자열이 입력으로 주어짐.  \n",
    "> 이때 모든 알파벳을 오름차순으로 정렬하여 이어서 출력한 뒤에, 그 뒤에 모든 숫자를 더한 값을 이어서 출려하라.\n",
    "\n",
    "##### <입력조건>\n",
    "- 첫째 줄에 하나의 문자열 S가 주어짐.(1 <= S의 길이 <= 10,000)\n",
    "\n",
    "##### <출력조건>\n",
    "- 첫째 줄에 문제에서 요구하는 정답을 출력합니다."
   ]
  },
  {
   "cell_type": "markdown",
   "id": "d382588d",
   "metadata": {},
   "source": [
    "### [풀이]"
   ]
  },
  {
   "cell_type": "code",
   "execution_count": 1,
   "id": "8932c6d6",
   "metadata": {},
   "outputs": [
    {
     "name": "stdout",
     "output_type": "stream",
     "text": [
      "K1KA5CB7\n",
      "ABCKK13\n"
     ]
    }
   ],
   "source": [
    "S = list(input())  # 문자열 입력\n",
    "S.sort()  # 문자열 정렬\n",
    "\n",
    "num = []  # 숫자를 담을 리스트\n",
    "for i in S:\n",
    "    if i.isalpha():  # 알파벳인 경우 차례대로 출력\n",
    "        print(i, end='')\n",
    "    else:  # 숫자인 경우 리스트에 추가\n",
    "        num.append(int(i)) \n",
    "\n",
    "if num:  # 숫자가 있다면 문자열 뒤에 합계 출력\n",
    "    print(sum(num))"
   ]
  },
  {
   "cell_type": "markdown",
   "id": "81cf22d6",
   "metadata": {},
   "source": [
    "### [답안]"
   ]
  },
  {
   "cell_type": "code",
   "execution_count": 2,
   "id": "140cd7ff",
   "metadata": {},
   "outputs": [
    {
     "name": "stdout",
     "output_type": "stream",
     "text": [
      "K1KA5CB7\n",
      "ABCKK13\n"
     ]
    }
   ],
   "source": [
    "data = input()\n",
    "result = []\n",
    "value = 0\n",
    "\n",
    "# 문자를 하나씩 확인하며\n",
    "for x in data:\n",
    "    # 알파벳인 경우 결과 리스트에 삽입\n",
    "    if x.isalpha():\n",
    "        result.append(x)\n",
    "    # 숫자는 따로 더하기\n",
    "    else:\n",
    "        value += int(x)\n",
    "\n",
    "# 알파벳을 오름차순으로 정렬\n",
    "result.sort()\n",
    "\n",
    "# 숫자가 하나라도 존재하는 경우 가장 뒤에 삽입\n",
    "if value != 0:\n",
    "    result.append(str(value))\n",
    "    \n",
    "# 최종 결과 출력(리스트를 문자열로 변환하여 출력)\n",
    "print(''.join(result))"
   ]
  }
 ],
 "metadata": {
  "kernelspec": {
   "display_name": "DH",
   "language": "python",
   "name": "dh"
  },
  "language_info": {
   "codemirror_mode": {
    "name": "ipython",
    "version": 3
   },
   "file_extension": ".py",
   "mimetype": "text/x-python",
   "name": "python",
   "nbconvert_exporter": "python",
   "pygments_lexer": "ipython3",
   "version": "3.8.10"
  }
 },
 "nbformat": 4,
 "nbformat_minor": 5
}
