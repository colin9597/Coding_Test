{
 "cells": [
  {
   "cell_type": "markdown",
   "id": "5d1ba8a4",
   "metadata": {},
   "source": [
    "# 화성 탐사\n",
    "- 난이도 ●●○\n",
    "- 풀이 시간 40분\n",
    "- 시간 제한 1초\n",
    "- 메모리 제한 128MB\n",
    "- 기출 ACM-ICPC\n",
    "\n",
    "> 에너지를 효율적으로 사용하고자 화성 탐사 기계가 출발 지점에서 목표 지점까지 이동할 때 항상 최적의 경로를 찾도록 개발해야 함.  \n",
    "> 화성 탐사 기계가 존재하는 공간은 N x N 크기의 2차원 공간이며, 각각의 칸을 지나기 위한 비용(에너지 소모량)이 존재함.  \n",
    "> 가장 왼쪽 위 칸인 [0][0] 위치에서 가장 오른쪽 아래 칸인 [N-1][N-1] 위치로 이동하는 최소 비용을 출력하는 프로그램을 작성하라.  \n",
    "> 단, 화성 탐사기계는 특정한 위치에서 상하좌우 인접한 곳으로 1칸씩 이동할 수 있음.  \n",
    "\n",
    "##### <입력조건>\n",
    "- 첫째 줄에 테스트 케이스의 수 T(1 <= T <= 10)가 주어집니다.  \n",
    "- 매 테스트 케이스의 첫째 줄에는 탐사 공간의 크기를 의미하는 정수 N이 주어집니다.(2 <= N <= 125)\n",
    "- 이어서 N개의 줄에 걸쳐 각 칸의 비용이 주어지며 공백으로 구분합니다.(0 <= 각 칸의 비용 <= 9)\n",
    "\n",
    "##### <출력조건>\n",
    "- 각 테스트 케이스마다 [0][0]의 위치에서 [N-1][N-1]의 위치로 이동하는 최소 비용을 한 줄에 하나씩 출력합니다.  "
   ]
  },
  {
   "cell_type": "markdown",
   "id": "f03ca56f",
   "metadata": {},
   "source": [
    "### [풀이]"
   ]
  },
  {
   "cell_type": "code",
   "execution_count": 1,
   "id": "6afe69d3",
   "metadata": {},
   "outputs": [
    {
     "name": "stdout",
     "output_type": "stream",
     "text": [
      "3\n",
      "3\n",
      "5 5 4\n",
      "3 9 1\n",
      "3 2 7\n",
      "20\n",
      "5\n",
      "3 7 2 0 1\n",
      "2 8 0 9 1\n",
      "1 2 1 8 1\n",
      "9 8 9 2 0\n",
      "3 6 5 1 5\n",
      "19\n",
      "7\n",
      "9 0 5 1 1 5 3\n",
      "4 1 2 1 6 5 3\n",
      "0 7 6 1 6 8 5\n",
      "1 1 7 8 3 2 3\n",
      "9 4 0 7 6 4 1\n",
      "5 8 3 2 4 8 3\n",
      "7 4 8 4 8 3 4\n",
      "36\n"
     ]
    }
   ],
   "source": [
    "import heapq\n",
    "\n",
    "INF = int(1e9)  # 무한을 의미하는 값으로 10억을 설정\n",
    "\n",
    "dx = [-1, 1, 0, 0]  # 상하좌우 방향 인덱스\n",
    "dy = [0, 0, -1, 1]\n",
    "\n",
    "def dijkstra(N, graph, cost, x, y):  # 다익스트라 알고리즘 수행\n",
    "    q = []\n",
    "    heapq.heappush(q, (x, y))  # 시작 노드로 가기 위한 비용은 (0, 0) 위치의 값으로 설정하여, 큐에 삽입\n",
    "    cost[x][y] = graph[x][y]\n",
    "    while q:\n",
    "        x, y = heapq.heappop(q)\n",
    "        for i in range(4):  # 현재 노드와 연결되 다른 인접한 노드들을 확인\n",
    "            nx = x + dx[i]\n",
    "            ny = y + dy[i]\n",
    "            if nx < 0 or nx >= N or ny < 0 or ny >= N:  # 맵의 범위를 벗어나는 경우 무시\n",
    "                continue\n",
    "            if cost[x][y]+graph[nx][ny] < cost[nx][ny]:  # 현재 노드를 거쳐서, 다른 노드로 이동하는 거리가 더 짧은 경우\n",
    "                cost[nx][ny] = cost[x][y]+graph[nx][ny]\n",
    "                heapq.heappush(q, (nx, ny))\n",
    "\n",
    "for _ in range(int(input())):  # 전체 테스트 케이스(Test Case)만큼 반복\n",
    "    N = int(input())  # 노드의 개수를 입력받기\n",
    "    cost = [[INF] * N for _ in range(N)]  # 최단 거리 테이블을 모두 무한으로 초기화\n",
    "    \n",
    "    graph = []  # 전체 맵 정보를 입력받기\n",
    "    for _ in range(N):\n",
    "        graph.append(list(map(int, input().split())))\n",
    "\n",
    "    dijkstra(N, graph, cost, 0, 0)\n",
    "    print(cost[N-1][N-1])"
   ]
  },
  {
   "cell_type": "markdown",
   "id": "1eb210b5",
   "metadata": {},
   "source": [
    "> 현재 노드가 이미 처리된 적이 있는 노드라면 무시하는 코드가 없음.  \n",
    "> 답안보다 시간이 더 오래 걸림."
   ]
  },
  {
   "cell_type": "markdown",
   "id": "d188747d",
   "metadata": {},
   "source": [
    "### [답안]"
   ]
  },
  {
   "cell_type": "code",
   "execution_count": 2,
   "id": "57bce613",
   "metadata": {},
   "outputs": [
    {
     "name": "stdout",
     "output_type": "stream",
     "text": [
      "3\n",
      "3\n",
      "5 5 4\n",
      "3 9 1\n",
      "3 2 7\n",
      "20\n",
      "5\n",
      "3 7 2 0 1\n",
      "2 8 0 9 1\n",
      "1 2 1 8 1\n",
      "9 8 9 2 0\n",
      "3 6 5 1 5\n",
      "19\n",
      "7\n",
      "9 0 5 1 1 5 3\n",
      "4 1 2 1 6 5 3\n",
      "0 7 6 1 6 8 5\n",
      "1 1 7 8 3 2 3\n",
      "9 4 0 7 6 4 1\n",
      "5 8 3 2 4 8 3\n",
      "7 4 8 4 8 3 4\n",
      "36\n"
     ]
    }
   ],
   "source": [
    "import heapq\n",
    "\n",
    "INF = int(1e9)  # 무한을 의미하는 값으로 10억을 설정\n",
    "\n",
    "dx = [-1, 0, 1, 0]\n",
    "dy = [0, 1, 0, -1]\n",
    "\n",
    "# 전체 테스트 케이스(Test Case)만큼 반복\n",
    "for tc in range(int(input())):\n",
    "    # 노드의 개수를 입력받기\n",
    "    n = int(input())\n",
    "    \n",
    "    # 전체 맵 정보를 입력받기\n",
    "    graph = []\n",
    "    for i in range(n):\n",
    "        graph.append(list(map(int, input().split())))\n",
    "        \n",
    "    # 최단 거리 테이블을 모두 무한으로 초기화\n",
    "    distance = [[INF] * n for _ in range(n)]\n",
    "    \n",
    "    x, y = 0, 0  # 시작 위치는 (0, 0)\n",
    "    # 시작 노드로 가기 위한 비용은 (0, 0) 위치의 값으로 설정하여, 큐에 삽입\n",
    "    q = [(graph[x][y], x, y)]\n",
    "    distance[x][y] = graph[x][y]\n",
    "    \n",
    "    # 다익스트라 알고리즘 수행\n",
    "    while q:\n",
    "        # 가장 최단 거리가 짧은 노드에 대한 정보를 꺼내기\n",
    "        dist, x, y = heapq.heappop(q)\n",
    "        # 현재 노드가 이미 처리된 적이 있는 노드라면 무시\n",
    "        if distance[x][y] < dist:\n",
    "            continue\n",
    "        # 현재 노드와 연결되 다른 인접한 노드들을 확인\n",
    "        for i in range(4):\n",
    "            nx = x + dx[i]\n",
    "            ny = y + dy[i]\n",
    "            # 맵의 범위를 벗어나는 경우 무시\n",
    "            if nx < 0 or nx >= n or ny < 0 or ny >= n:\n",
    "                continue\n",
    "            cost = dist + graph[nx][ny]\n",
    "            # 현재 노드를 거쳐서, 다른 노드로 이동하는 거리가 더 짧은 경우\n",
    "            if cost < distance[nx][ny]:\n",
    "                distance[nx][ny] = cost\n",
    "                heapq.heappush(q, (cost, nx, ny))\n",
    "                \n",
    "    print(distance[n-1][n-1])"
   ]
  }
 ],
 "metadata": {
  "kernelspec": {
   "display_name": "DH",
   "language": "python",
   "name": "dh"
  },
  "language_info": {
   "codemirror_mode": {
    "name": "ipython",
    "version": 3
   },
   "file_extension": ".py",
   "mimetype": "text/x-python",
   "name": "python",
   "nbconvert_exporter": "python",
   "pygments_lexer": "ipython3",
   "version": "3.8.10"
  }
 },
 "nbformat": 4,
 "nbformat_minor": 5
}
