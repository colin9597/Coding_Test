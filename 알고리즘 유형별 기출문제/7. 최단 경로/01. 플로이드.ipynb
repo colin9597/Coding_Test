{
 "cells": [
  {
   "cell_type": "markdown",
   "id": "2cfe7429",
   "metadata": {},
   "source": [
    "# 플로이드\n",
    "- 난이도 ●◐○\n",
    "- 풀이 시간 40분\n",
    "- 시간 제한 1초\n",
    "- 메모리 제한 256MB\n",
    "- 기출 핵심 유형\n",
    "- 링크 https://www.acmicpc.net/problem/11404\n",
    "\n",
    "> n개의 도시가 있고, 한 도시에서 출발하여 다른 도시에 도착하는 m개의 버스가 있음.  \n",
    "> 그리고 각 버스는 한 번 사용할 때 필요한 비용이 있음.  \n",
    "> 모든 도시의 쌍 (A, B)에 대해서 도시 A에서 B로 가는 데 필요한 비용의 최솟값을 구하라.\n",
    "\n",
    "##### <입력조건>\n",
    "- 첫째 줄에 도시의 개수 n(1 <= n <= 100)이 주어집니다.  \n",
    "- 둘째 줄에는 버스의 개수 m(1 <= m <= 100,000)이 주어집니다.\n",
    "- 셋째 줄부터 m+2줄까지의 다음과 같은 버스의 정보가 주어집니다.  \n",
    "    먼저 처음에는 그 버스의 출발 도시의 번호가 주어집니다.  \n",
    "    버스의 정보는 버스의 시작 도시 a, 도착 도시 b, 한 번 타는 데 필요한 비용 c로 이루어져 있습니다.  \n",
    "    시작 도시와 도착 도시가 같은 경우는 없습니다.  \n",
    "    비용은 100,000보다 작거나 같은 자연수 입니다.  \n",
    "- 시작 도시와 도착 도시를 연결하는 노선은 하나가 아닐 수 있습니다.\n",
    "\n",
    "##### <출력조건>\n",
    "- n개의 줄을 출력해야 합니다.\n",
    "- i번째 줄에 출력하는 j번째 숫자는 도시 i에서 j로 가는 데 필요한 최소 비용입니다.\n",
    "- 만약, i에서 j로 갈 수 없는 경우에는 그 자리에서 0을 출력합니다."
   ]
  },
  {
   "cell_type": "markdown",
   "id": "95f4ba06",
   "metadata": {},
   "source": [
    "### [풀이]"
   ]
  },
  {
   "cell_type": "code",
   "execution_count": 1,
   "id": "7531ec35",
   "metadata": {},
   "outputs": [
    {
     "name": "stdout",
     "output_type": "stream",
     "text": [
      "5\n",
      "14\n",
      "1 2 2\n",
      "1 3 3\n",
      "1 4 1\n",
      "1 5 10\n",
      "2 4 2\n",
      "3 4 1\n",
      "3 5 1\n",
      "4 5 3\n",
      "3 5 10\n",
      "3 1 8\n",
      "1 4 2\n",
      "5 1 7\n",
      "3 4 2\n",
      "5 2 4\n",
      "0 2 3 1 4 \n",
      "12 0 15 2 5 \n",
      "8 5 0 1 1 \n",
      "10 7 13 0 3 \n",
      "7 4 10 6 0 \n"
     ]
    }
   ],
   "source": [
    "# 제출 시, 시간 초과의 문제로 sys 모듈 사용\n",
    "# import sys\n",
    "# input = sys.stdin.readline\n",
    "\n",
    "INF = int(1e9)  # 무한을 의미하는 값으로 10억을 설정\n",
    "\n",
    "n = int(input())  # 노드의 개수 및 간선의 개수 입력받기\n",
    "m = int(input())\n",
    "\n",
    "graph = [[INF] * (n+1) for _ in range(n+1)]  # 2차원 리스트(그래프 표현)를 만들고, 모든 값을 무한으로 초기화\n",
    "\n",
    "for a in range(1, n+1):  # 자기 자신에게 자기 자신으로 가는 비용은 0으로 초기화\n",
    "    for b in range(1, n+1):\n",
    "        if a==b:\n",
    "            graph[a][b] = 0\n",
    "\n",
    "for _ in range(m):  # 각 간선에 대한 정보를 입력받아, 그 값으로 초기화\n",
    "    a, b, c = map(int, input().split())  # A에서 B로 가는 비용은 C라고 설정\n",
    "    graph[a][b] = min(graph[a][b], c)  # 가장 짧은 간선 정보만 저장\n",
    "    \n",
    "for k in range(1, n+1):  # 점화식에 따라 플로이드 워셜 알고리즘 수행\n",
    "    for a in range(1, n+1):\n",
    "        for b in range(1, n+1):\n",
    "            graph[a][b] = min(graph[a][b], graph[a][k] + graph[k][b])\n",
    "\n",
    "for i in graph[1:]:  # 수행된 결과를 출력\n",
    "    for j in i[1:]:\n",
    "        if j == INF:  # 도달할 수 없는 경우, 0을 출력\n",
    "            print(0, end=' ')\n",
    "        else:  # 도달할 수 있는 경우 거리를 출력\n",
    "            print(j, end=' ')\n",
    "    print()"
   ]
  },
  {
   "cell_type": "markdown",
   "id": "c2ef736a",
   "metadata": {},
   "source": [
    "### [답안]"
   ]
  },
  {
   "cell_type": "code",
   "execution_count": 2,
   "id": "4f3f9bb6",
   "metadata": {},
   "outputs": [
    {
     "name": "stdout",
     "output_type": "stream",
     "text": [
      "5\n",
      "14\n",
      "1 2 2\n",
      "1 3 3\n",
      "1 4 1\n",
      "1 5 10\n",
      "2 4 2\n",
      "3 4 1\n",
      "3 5 1\n",
      "4 5 3\n",
      "3 5 10\n",
      "3 1 8\n",
      "1 4 2\n",
      "5 1 7\n",
      "3 4 2\n",
      "5 2 4\n",
      "0 2 3 1 4 \n",
      "12 0 15 2 5 \n",
      "8 5 0 1 1 \n",
      "10 7 13 0 3 \n",
      "7 4 10 6 0 \n"
     ]
    }
   ],
   "source": [
    "# 제출 시, 시간 초과의 문제로 sys 모듈 사용\n",
    "# import sys\n",
    "# input = sys.stdin.readline\n",
    "\n",
    "INF = int(1e9)  # 무한을 의미하는 값으로 10억을 설정\n",
    "\n",
    "# 노드의 개수 및 간선의 개수 입력받기\n",
    "n = int(input())\n",
    "m = int(input())\n",
    "# 2차원 리스트(그래프 표현)를 만들고, 모든 값을 무한으로 초기화\n",
    "graph = [[INF] * (n+1) for _ in range(n+1)]\n",
    "\n",
    "# 자기 자신에게 자기 자신으로 가는 비용은 0으로 초기화\n",
    "for a in range(1, n+1):\n",
    "    for b in range(1, n+1):\n",
    "        if a == b:\n",
    "            graph[a][b] = 0\n",
    "            \n",
    "# 각 간선에 대한 정보를 입력받아, 그 값으로 초기화\n",
    "for _ in range(m):\n",
    "    # A에서 B로 가는 비용은 C라고 설정\n",
    "    a, b, c = map(int, input().split())\n",
    "    # 가장 짧은 간선 정보만 저장\n",
    "    if c < graph[a][b]:\n",
    "        graph[a][b] = c\n",
    "        \n",
    "# 점화식에 따라 플로이드 워셜 알고리즘 수행\n",
    "for k in range(1, n+1):\n",
    "    for a in range(1, n+1):\n",
    "        for b in range(1, n+1):\n",
    "            graph[a][b] = min(graph[a][b], graph[a][k]+graph[k][b])\n",
    "            \n",
    "# 수행된 결과를 출력\n",
    "for a in range(1, n+1):\n",
    "    for b in range(1, n+1):\n",
    "        # 도달할 수 없는 경우, 0을 출력\n",
    "        if graph[a][b] == INF:\n",
    "            print(0, end=\" \")\n",
    "        # 도달할 수 있는 경우 거리를 출력\n",
    "        else:\n",
    "            print(graph[a][b], end=\" \")\n",
    "    print()"
   ]
  }
 ],
 "metadata": {
  "kernelspec": {
   "display_name": "DH",
   "language": "python",
   "name": "dh"
  },
  "language_info": {
   "codemirror_mode": {
    "name": "ipython",
    "version": 3
   },
   "file_extension": ".py",
   "mimetype": "text/x-python",
   "name": "python",
   "nbconvert_exporter": "python",
   "pygments_lexer": "ipython3",
   "version": "3.8.10"
  }
 },
 "nbformat": 4,
 "nbformat_minor": 5
}
