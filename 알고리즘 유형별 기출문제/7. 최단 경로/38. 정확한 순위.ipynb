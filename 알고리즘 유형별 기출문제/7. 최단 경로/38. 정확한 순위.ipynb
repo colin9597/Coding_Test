{
 "cells": [
  {
   "cell_type": "markdown",
   "id": "647e2327",
   "metadata": {},
   "source": [
    "# 정확한 순위\n",
    "- 난이도 ●●○\n",
    "- 풀이 시간 40분\n",
    "- 시간 제한 5초\n",
    "- 메모리 제한 128MB\n",
    "- 기출 K 대회\n",
    "\n",
    "> 선생님은 시험을 본 학생 N명의 성적을 분실하고, 성적을 비교한 결과의 일부만 가지고 있음.  \n",
    "> 학생 N명의 성적은 모두 다름.  \n",
    "> 학생들의 성적을 비교한 결과가 주어질 때, 성적 순위를 정확히 알 수 있는 학생은 모두 몇 명인지 구하라.\n",
    "\n",
    "##### <입력조건>\n",
    "- 첫째 줄에 학생들의 수 N(2 <= N <= 500)과 두 학생의 성적을 비교한 횟수 M(2 <= M <= 10,000)이 주어집니다.  \n",
    "- 다음 M개의 각 줄에는 두 학생의 성적을 비교한 결과를 나타내는 두 양의 정수 A와 B가 주어집니다.  \n",
    "    이는 A번 학생의 성적이 B번 학생보다 낮다는 것을 의미합니다.\n",
    "    \n",
    "##### <출력조건>\n",
    "- 첫째 줄에 성적 순위를 정확히 알 수 있는 학생이 몇 명인지 출력합니다."
   ]
  },
  {
   "cell_type": "markdown",
   "id": "1381f162",
   "metadata": {},
   "source": [
    "### [풀이]"
   ]
  },
  {
   "cell_type": "code",
   "execution_count": 1,
   "id": "3ff5e97b",
   "metadata": {},
   "outputs": [
    {
     "name": "stdout",
     "output_type": "stream",
     "text": [
      "6 6\n",
      "1 5\n",
      "3 4\n",
      "4 2\n",
      "4 6\n",
      "5 2\n",
      "5 4\n",
      "1\n"
     ]
    }
   ],
   "source": [
    "INF = int(1e9)  # 무한을 의미하는 값으로 10억을 설정\n",
    "N, M = map(int, input().split())  # 노드의 개수, 간선의 개수를 입력받기\n",
    "\n",
    "graph = [[INF] * N for _ in range(N)]   # A -> B로 가는 그래프\n",
    "graph2 = [[INF] * N for _ in range(N)]  # B -> A로 가는 그래프\n",
    "\n",
    "for a in range(N):  # 자기 자신에서 자기 자신으로 가는 비용은 0으로 초기화\n",
    "    for b in range(N):\n",
    "        if a == b:\n",
    "            graph[a][b] = 0\n",
    "            graph2[a][b] = 0\n",
    "\n",
    "for _ in range(M):  # 각 간선에 대한 정보를 입력받아, 그 값으로 초기화(비용을 1로 설정)\n",
    "    a, b = map(int, input().split())\n",
    "    graph[a-1][b-1] = 1\n",
    "    graph2[b-1][a-1] = 1\n",
    "    \n",
    "for k in range(N):  # 점화식에 따라 플로이드 워셜 알고리즘 수행\n",
    "    for a in range(N):\n",
    "        for b in range(N):\n",
    "            graph[a][b] = min(graph[a][b], graph[a][k]+graph[k][b])\n",
    "            graph2[a][b] = min(graph2[a][b], graph2[a][k]+graph2[k][b])\n",
    "\n",
    "total = [[] for _ in range(N)]\n",
    "for a in range(N):  # 각 학생을 번호에 따라 한 명씩 확인하며 도달 가능한지 체크\n",
    "    for b in range(N):\n",
    "        if graph[a][b] == INF and graph2[a][b] == INF:\n",
    "            total[a].append('x')\n",
    "        else:\n",
    "            total[a].append('o')\n",
    "            \n",
    "cnt = 0\n",
    "for i, student in enumerate(total):  # 도달 가능한 학생 수 카운트\n",
    "    if 'x' not in student:\n",
    "        cnt += 1\n",
    "        \n",
    "print(cnt)"
   ]
  },
  {
   "cell_type": "markdown",
   "id": "fafd0eeb",
   "metadata": {},
   "source": [
    "### [답안]"
   ]
  },
  {
   "cell_type": "code",
   "execution_count": 2,
   "id": "60aa9f5f",
   "metadata": {},
   "outputs": [
    {
     "name": "stdout",
     "output_type": "stream",
     "text": [
      "6 6\n",
      "1 5\n",
      "3 4\n",
      "4 2\n",
      "4 6\n",
      "5 2\n",
      "5 4\n",
      "1\n"
     ]
    }
   ],
   "source": [
    "INF = int(1e9)  # 무한을 의미하는 값으로 10억을 설정\n",
    "\n",
    "# 노드의 개수, 간선의 개수를 입력받기\n",
    "n, m = map(int, input().split())\n",
    "# 2차원 리스트(그래프 표현)를 만들고, 모든 값을 무한으로 초기화\n",
    "graph = [[INF] * (n+1) for _ in range(n+1)]\n",
    "\n",
    "# 자기 자신에서 자기 자신으로 가는 비용은 0으로 초기화\n",
    "for a in range(1, n+1):\n",
    "    for b in range(1, n+1):\n",
    "        if a == b:\n",
    "            graph[a][b] = 0\n",
    "\n",
    "# 각 간선에 대한 정보를 입력받아, 그 값으로 초기화\n",
    "for _ in range(m):\n",
    "    # A에서 B로 가는 비용을 1로 설정\n",
    "    a, b = map(int, input().split())\n",
    "    graph[a][b] = 1\n",
    "    \n",
    "# 점화식에 따라 플로이드 워셜 알고리즘 수행\n",
    "for k in range(1, n+1):\n",
    "    for a in range(1, n+1):\n",
    "        for b in range(1, n+1):\n",
    "            graph[a][b] = min(graph[a][b], graph[a][k]+graph[k][b])\n",
    "            \n",
    "result = 0\n",
    "# 각 학생을 번호에 따라 한 명씩 확인하며 도달 가능한지 체크\n",
    "for i in range(1, n+1):\n",
    "    count = 0\n",
    "    for j in range(1, n+1):\n",
    "        if graph[i][j] != INF or graph[j][i] != INF:\n",
    "            count += 1\n",
    "    if count == n:\n",
    "        result += 1\n",
    "\n",
    "print(result)"
   ]
  }
 ],
 "metadata": {
  "kernelspec": {
   "display_name": "DH",
   "language": "python",
   "name": "dh"
  },
  "language_info": {
   "codemirror_mode": {
    "name": "ipython",
    "version": 3
   },
   "file_extension": ".py",
   "mimetype": "text/x-python",
   "name": "python",
   "nbconvert_exporter": "python",
   "pygments_lexer": "ipython3",
   "version": "3.8.10"
  }
 },
 "nbformat": 4,
 "nbformat_minor": 5
}
